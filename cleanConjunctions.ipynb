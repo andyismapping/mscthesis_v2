{
 "cells": [
  {
   "cell_type": "code",
   "execution_count": 1,
   "metadata": {
    "collapsed": true
   },
   "outputs": [],
   "source": [
    "import glob\n",
    "import numpy as np\n",
    "import pandas as pd"
   ]
  },
  {
   "cell_type": "code",
   "execution_count": 133,
   "outputs": [],
   "source": [
    "# open all GR files\n",
    "\n",
    "conjunction_files = glob.glob('../tables/conjunctionsGF*')\n",
    "conjunction_files.sort()\n",
    "conjunction_df_final = pd.DataFrame()\n",
    "for conjunction in conjunction_files:\n",
    "    conjunction_df = pd.read_csv(conjunction).drop(['Unnamed: 0'], axis=1)\n",
    "\n",
    "    conjunction_df_final = conjunction_df_final.append(conjunction_df)\n",
    "\n",
    "conjunction_df_final = conjunction_df_final.drop_duplicates()"
   ],
   "metadata": {
    "collapsed": false,
    "pycharm": {
     "name": "#%%\n"
    }
   }
  },
  {
   "cell_type": "code",
   "execution_count": 134,
   "outputs": [],
   "source": [
    "instMetadata = pd.read_csv('../data/external/Madrigal/instMetadata.csv')"
   ],
   "metadata": {
    "collapsed": false,
    "pycharm": {
     "name": "#%%\n"
    }
   }
  },
  {
   "cell_type": "code",
   "execution_count": 135,
   "outputs": [],
   "source": [
    "# conjunction_df_final['radar']\n",
    "\n",
    "instMetadata_dict = instMetadata.set_index('Name').to_dict()['3-letter mnemonic']\n",
    "instMetadata_dict.update({'Millstone Hill UHF Zenith Antenna, Millstone Hill UHF Steerable Antenna': 'mlh'})\n",
    "instMetadata_dict.update({'EISCAT Troms   UHF IS radar': 'tro'})\n",
    "instMetadata_dict.update({'Millstone Hill UHF Steerable Antenna, Millstone Hill UHF Zenith Antenna': 'mlh'})\n",
    "instMetadata_dict.update({'Millstone Hill UHF Zenith Antenna,Millstone Hill UHF Steerable Antenna': 'mlh'})\n",
    "\n",
    "conjunction_df_final['radar_mnemonic'] = conjunction_df_final['radar'].map(instMetadata_dict)"
   ],
   "metadata": {
    "collapsed": false,
    "pycharm": {
     "name": "#%%\n"
    }
   }
  },
  {
   "cell_type": "code",
   "execution_count": 136,
   "outputs": [
    {
     "name": "stderr",
     "output_type": "stream",
     "text": [
      "/Users/andyaracallegare/opt/anaconda3/envs/MScThesis/lib/python3.8/site-packages/pandas/core/groupby/generic.py:303: FutureWarning: Dropping invalid columns in SeriesGroupBy.agg is deprecated. In a future version, a TypeError will be raised. Before calling .agg, select only columns which should be valid for the aggregating function.\n",
      "  results[key] = self.aggregate(func)\n"
     ]
    }
   ],
   "source": [
    "conjunction_df_final_mean = conjunction_df_final.groupby(['date']).mean()\n",
    "\n",
    "conjunction_df_final_join = conjunction_df_final.groupby(['date'], as_index=False, sort=False).agg(' , '.join)\n",
    "\n",
    "conjunction_df_final_clean = conjunction_df_final_mean.merge(conjunction_df_final_join, left_on='date', right_on='date')\n",
    "\n",
    "conjunction_df_final_clean.to_csv('../tables/GF_conjunctions_clean.csv')"
   ],
   "metadata": {
    "collapsed": false,
    "pycharm": {
     "name": "#%%\n"
    }
   }
  },
  {
   "cell_type": "code",
   "execution_count": 141,
   "outputs": [
    {
     "data": {
      "text/plain": "array(['tro', 'eis , eis', 'tro , eis , eis', 'mui', 'tro , eis',\n       'mlh , mlh , mlh , mlh', 'arg , arl', 'arl', 'tro , tro',\n       'tro , tro , tro , eis , eis', 'eis', 'eis , eis , eis',\n       'mlh , mlh , mlh', 'mlh , mlh , mlh , mlh , mlh , mlh',\n       'mlh , mlh , mlh , mlh , mlh', 'mlh', 'arg', 'mlh , mlh',\n       'pfa , pfa', 'pfa', 'pfa , pfa , pfa', 'jro',\n       'mlh , mlh , mlh , mlh , mlh , mlh , mlh , mlh', 'arl , arl',\n       'pfa , pfa , pfa , pfa', 'arg , arg , arl', 'arg , arg',\n       'arg , arg , arl , arl', 'arg , arl , arl', 'kpi , kpi',\n       'tro , eis , eis , eis', 'lyr , lyr , lyr , lyr', 'lyr , lyr',\n       'tro , tro , tro , tro',\n       'mlh , mlh , mlh , mlh , mlh , mlh , mlh , mlh , mlh , mlh , mlh , mlh',\n       'mlh , mlh , mlh , mlh , mlh , mlh , mlh , mlh , mlh , mlh , mlh , mlh , mlh , mlh , mlh',\n       'jro , jro', 'ras', 'tro , tro , eis', 'ras , ras',\n       'mlh , mlh , mlh , mlh , mlh , mlh , mlh , mlh , mlh , mlh , mlh',\n       'lyr', 'pfa , pfa , pfa , pfa , pfa , pfa , pfa , pfa',\n       'eis , eis , eis , eis', 'eis , eis , eis , eis , eis , eis',\n       'tro , tro , tro', 'tro , tro , tro , tro , eis , eis , eis',\n       'lyr , lyr , lyr',\n       'pfa , pfa , pfa , pfa , pfa , pfa , pfa , pfa , pfa , pfa , pfa , pfa'],\n      dtype=object)"
     },
     "execution_count": 141,
     "metadata": {},
     "output_type": "execute_result"
    }
   ],
   "source": [
    "conjunction_df_final_clean = pd.read_csv('../tables/GR_conjunctions_clean.csv')\n",
    "\n",
    "conjunction_df_final_clean['radar_mnemonic'].unique()"
   ],
   "metadata": {
    "collapsed": false,
    "pycharm": {
     "name": "#%%\n"
    }
   }
  },
  {
   "cell_type": "code",
   "execution_count": 142,
   "outputs": [
    {
     "data": {
      "text/plain": "array(['tro', 'eis , eis', 'tro , eis , eis', 'mui', 'tro , eis',\n       'mlh , mlh , mlh , mlh', 'arg , arl', 'arl', 'tro , tro',\n       'tro , tro , tro , eis , eis', 'eis', 'eis , eis , eis',\n       'mlh , mlh , mlh', 'mlh , mlh , mlh , mlh , mlh , mlh',\n       'mlh , mlh , mlh , mlh , mlh', 'mlh', 'arg', 'mlh , mlh',\n       'pfa , pfa', 'pfa', 'pfa , pfa , pfa', 'jro',\n       'mlh , mlh , mlh , mlh , mlh , mlh , mlh , mlh', 'arl , arl',\n       'pfa , pfa , pfa , pfa', 'arg , arg , arl', 'arg , arg',\n       'arg , arg , arl , arl', 'arg , arl , arl', 'kpi , kpi',\n       'tro , eis , eis , eis', 'lyr , lyr , lyr , lyr', 'lyr , lyr',\n       'tro , tro , tro , tro',\n       'mlh , mlh , mlh , mlh , mlh , mlh , mlh , mlh , mlh , mlh , mlh , mlh',\n       'mlh , mlh , mlh , mlh , mlh , mlh , mlh , mlh , mlh , mlh , mlh , mlh , mlh , mlh , mlh',\n       'jro , jro', 'ras', 'tro , tro , eis', 'ras , ras',\n       'mlh , mlh , mlh , mlh , mlh , mlh , mlh , mlh , mlh , mlh , mlh',\n       'lyr', 'pfa , pfa , pfa , pfa , pfa , pfa , pfa , pfa',\n       'eis , eis , eis , eis', 'eis , eis , eis , eis , eis , eis',\n       'tro , tro , tro', 'tro , tro , tro , tro , eis , eis , eis',\n       'lyr , lyr , lyr',\n       'pfa , pfa , pfa , pfa , pfa , pfa , pfa , pfa , pfa , pfa , pfa , pfa'],\n      dtype=object)"
     },
     "execution_count": 142,
     "metadata": {},
     "output_type": "execute_result"
    }
   ],
   "source": [
    "conjunction_df_final_clean[\"radar_mnemonic\"].explode().unique()\n"
   ],
   "metadata": {
    "collapsed": false,
    "pycharm": {
     "name": "#%%\n"
    }
   }
  },
  {
   "cell_type": "code",
   "execution_count": 143,
   "outputs": [
    {
     "data": {
      "text/plain": "array(['pfa',\n       'mlh , mlh , mlh , mlh , mlh , mlh , mlh , mlh , mlh , mlh , mlh , mlh , mlh , mlh , mlh , mlh , mlh , mlh , mlh , mlh , mlh , mlh , mlh , mlh',\n       'tro , tro', 'tro , tro , tro', 'ran', 'lyr', 'arg',\n       'mlh , mlh , mlh , mlh , mlh , mlh , mlh , mlh , mlh , mlh , mlh , mlh , mlh , mlh , mlh , mlh , mlh , mlh , mlh , mlh',\n       'pfa , pfa',\n       'mlh , mlh , mlh , mlh , mlh , mlh , mlh , mlh , mlh , mlh , mlh , mlh',\n       'eis', 'tro', 'tro , eis',\n       'mlh , mlh , mlh , mlh , mlh , mlh , mlh , mlh , mlh , mlh',\n       'lyr , lyr', 'lyr , lyr , lyr',\n       'lyr , lyr , lyr , lyr , lyr , lyr', 'pfa , pfa , pfa', 'jro',\n       'ran , ran , ran', 'ran , ran',\n       'pfa , pfa , pfa , pfa , pfa , pfa',\n       'pfa , pfa , pfa , pfa , pfa , pfa , pfa , pfa',\n       'mlh , mlh , mlh , mlh , mlh , mlh , mlh , mlh , mlh , mlh , mlh , mlh , mlh , mlh , mlh , mlh , mlh , mlh',\n       'pfa , pfa , pfa , pfa , pfa , pfa , pfa , pfa , pfa , pfa , pfa , pfa',\n       'pfa , pfa , pfa , pfa , pfa , pfa , pfa , pfa , pfa , pfa',\n       'pfa , pfa , pfa , pfa , pfa , pfa , pfa , pfa , pfa , pfa , pfa',\n       'tro , tro , eis',\n       'mlh , mlh , mlh , mlh , mlh , mlh , mlh , mlh , mlh',\n       'pfa , pfa , pfa , pfa',\n       'pfa , pfa , pfa , pfa , pfa , pfa , pfa , pfa , pfa',\n       'pfa , pfa , pfa , pfa , pfa',\n       'mlh , mlh , mlh , mlh , mlh , mlh , mlh , mlh'], dtype=object)"
     },
     "execution_count": 143,
     "metadata": {},
     "output_type": "execute_result"
    }
   ],
   "source": [
    "conjunction_df_final_clean = pd.read_csv('../tables/GF_conjunctions_clean.csv')\n",
    "\n",
    "conjunction_df_final_clean['radar_mnemonic'].unique()"
   ],
   "metadata": {
    "collapsed": false,
    "pycharm": {
     "name": "#%%\n"
    }
   }
  },
  {
   "cell_type": "code",
   "execution_count": 144,
   "outputs": [
    {
     "data": {
      "text/plain": "array(['pfa',\n       'mlh , mlh , mlh , mlh , mlh , mlh , mlh , mlh , mlh , mlh , mlh , mlh , mlh , mlh , mlh , mlh , mlh , mlh , mlh , mlh , mlh , mlh , mlh , mlh',\n       'tro , tro', 'tro , tro , tro', 'ran', 'lyr', 'arg',\n       'mlh , mlh , mlh , mlh , mlh , mlh , mlh , mlh , mlh , mlh , mlh , mlh , mlh , mlh , mlh , mlh , mlh , mlh , mlh , mlh',\n       'pfa , pfa',\n       'mlh , mlh , mlh , mlh , mlh , mlh , mlh , mlh , mlh , mlh , mlh , mlh',\n       'eis', 'tro', 'tro , eis',\n       'mlh , mlh , mlh , mlh , mlh , mlh , mlh , mlh , mlh , mlh',\n       'lyr , lyr', 'lyr , lyr , lyr',\n       'lyr , lyr , lyr , lyr , lyr , lyr', 'pfa , pfa , pfa', 'jro',\n       'ran , ran , ran', 'ran , ran',\n       'pfa , pfa , pfa , pfa , pfa , pfa',\n       'pfa , pfa , pfa , pfa , pfa , pfa , pfa , pfa',\n       'mlh , mlh , mlh , mlh , mlh , mlh , mlh , mlh , mlh , mlh , mlh , mlh , mlh , mlh , mlh , mlh , mlh , mlh',\n       'pfa , pfa , pfa , pfa , pfa , pfa , pfa , pfa , pfa , pfa , pfa , pfa',\n       'pfa , pfa , pfa , pfa , pfa , pfa , pfa , pfa , pfa , pfa',\n       'pfa , pfa , pfa , pfa , pfa , pfa , pfa , pfa , pfa , pfa , pfa',\n       'tro , tro , eis',\n       'mlh , mlh , mlh , mlh , mlh , mlh , mlh , mlh , mlh',\n       'pfa , pfa , pfa , pfa',\n       'pfa , pfa , pfa , pfa , pfa , pfa , pfa , pfa , pfa',\n       'pfa , pfa , pfa , pfa , pfa',\n       'mlh , mlh , mlh , mlh , mlh , mlh , mlh , mlh'], dtype=object)"
     },
     "execution_count": 144,
     "metadata": {},
     "output_type": "execute_result"
    }
   ],
   "source": [
    "conjunction_df_final_clean[\"radar_mnemonic\"].explode().unique()"
   ],
   "metadata": {
    "collapsed": false,
    "pycharm": {
     "name": "#%%\n"
    }
   }
  },
  {
   "cell_type": "code",
   "execution_count": null,
   "outputs": [],
   "source": [],
   "metadata": {
    "collapsed": false,
    "pycharm": {
     "name": "#%%\n"
    }
   }
  }
 ],
 "metadata": {
  "kernelspec": {
   "display_name": "Python 3",
   "language": "python",
   "name": "python3"
  },
  "language_info": {
   "codemirror_mode": {
    "name": "ipython",
    "version": 2
   },
   "file_extension": ".py",
   "mimetype": "text/x-python",
   "name": "python",
   "nbconvert_exporter": "python",
   "pygments_lexer": "ipython2",
   "version": "2.7.6"
  }
 },
 "nbformat": 4,
 "nbformat_minor": 0
}