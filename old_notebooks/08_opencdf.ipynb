{
 "cells": [
  {
   "cell_type": "code",
   "execution_count": 1,
   "id": "860b2d7c",
   "metadata": {},
   "outputs": [],
   "source": [
    "import spacepy.datamodel as dm"
   ]
  },
  {
   "cell_type": "code",
   "execution_count": null,
   "id": "73182844",
   "metadata": {},
   "outputs": [],
   "source": [
    "dm.fromHDF5('../AreciboISRadar-Gregorian/aro20180115clpg.000.hdf5')"
   ]
  }
 ],
 "metadata": {
  "kernelspec": {
   "display_name": "Python 3",
   "language": "python",
   "name": "python3"
  },
  "language_info": {
   "codemirror_mode": {
    "name": "ipython",
    "version": 3
   },
   "file_extension": ".py",
   "mimetype": "text/x-python",
   "name": "python",
   "nbconvert_exporter": "python",
   "pygments_lexer": "ipython3",
   "version": "3.8.10"
  }
 },
 "nbformat": 4,
 "nbformat_minor": 5
}
