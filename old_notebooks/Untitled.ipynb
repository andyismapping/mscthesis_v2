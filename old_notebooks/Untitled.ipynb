{
 "cells": [
  {
   "cell_type": "code",
   "execution_count": 1,
   "id": "94a1f35d",
   "metadata": {},
   "outputs": [],
   "source": [
    "# import libraries\n",
    "import pandas as pd\n",
    "import datetime\n",
    "from matplotlib import pyplot as plt\n",
    "import numpy as np\n",
    "import glob\n",
    "import spacepy.datamodel as dm\n",
    "import pandas as pd\n",
    "\n",
    "import os\n",
    "import pandas as pd\n",
    "import datetime\n",
    "from matplotlib import pyplot as plt\n",
    "import numpy as np\n",
    "import glob\n",
    "import datetime\n",
    "from scipy.signal import argrelextrema\n",
    "from scipy.signal import find_peaks\n",
    "import math\n",
    "from tqdm import tqdm\n",
    "from scipy import interpolate\n",
    "import matplotlib.dates as mdates\n",
    "from spacepy import pycdf\n",
    "from scipy.optimize import curve_fit\n",
    "\n",
    "from pathlib import Path\n",
    "\n",
    "from astropy.time import Time\n",
    "import cdflib\n"
   ]
  },
  {
   "cell_type": "code",
   "execution_count": 199,
   "id": "3ba2293b",
   "metadata": {},
   "outputs": [
    {
     "data": {
      "text/plain": [
       "datetime.datetime(2018, 5, 29, 0, 0)"
      ]
     },
     "execution_count": 199,
     "metadata": {},
     "output_type": "execute_result"
    }
   ],
   "source": [
    "datetime.datetime(2018,5,29)"
   ]
  },
  {
   "cell_type": "code",
   "execution_count": null,
   "id": "2a3d9987",
   "metadata": {},
   "outputs": [],
   "source": [
    "# ARG\n",
    "radar_list = glob.glob('../data/external/Madrigal/2018-2021/*/*.hdf5')\n",
    "radar_list.sort()\n",
    "\n",
    "fileswithne = []\n",
    "for radar in radar_list:\n",
    "    \n",
    "    # metadata\n",
    "    metaA1 = pd.DataFrame(dm.fromHDF5(radar)['Metadata']['Experiment Parameters'])\n",
    "    metaA2 = np.array([x.decode() for x in metaA1['name']])\n",
    "    metaA3 = np.array([x.decode() for x in metaA1['value']])\n",
    "\n",
    "    metaA4 = pd.DataFrame({'name': metaA2,\n",
    "              'value': metaA3})\n",
    "    metaA4.to_csv('../data/processed/Madrigal/{filename}_metadata.csv'.format(filename =Path(radar_list[0]).name))\n",
    "\n",
    "    # variables\n",
    "    varA1 = pd.DataFrame(dm.fromHDF5(radar)['Metadata']['Data Parameters'])\n",
    "    varA2 = np.array([x.decode() for x in varA1['mnemonic']])\n",
    "    varA3 = np.array([x.decode() for x in varA1['description']])\n",
    "    varA4 = np.array([x.decode() for x in varA1['units']])\n",
    "\n",
    "    varA5 = pd.DataFrame({'mnemonic': varA2,\n",
    "                  'description': varA3,\n",
    "                      'units': varA4})\n",
    "    varA5.to_csv('../data/processed/Madrigal/{filename}_variables.csv'.format(filename =Path(radar_list[0]).name))\n",
    "\n",
    "    # append a table with files that have Ne     \n",
    "    if len(varA5[(varA5['mnemonic'] == \"NE\")|(varA5['mnemonic'] == \"NEL\")] ) > 0:\n",
    "        fileswithne.append(radar)"
   ]
  },
  {
   "cell_type": "code",
   "execution_count": 172,
   "id": "7ab10996",
   "metadata": {},
   "outputs": [
    {
     "data": {
      "text/plain": [
       "7623"
      ]
     },
     "execution_count": 172,
     "metadata": {},
     "output_type": "execute_result"
    }
   ],
   "source": [
    "radar_list = glob.glob('../data/external/Madrigal/2018-2021/*/*.hdf5')\n",
    "radar_list.sort()\n",
    "\n",
    "len(radar_list)"
   ]
  },
  {
   "cell_type": "code",
   "execution_count": null,
   "id": "ed6a9607",
   "metadata": {},
   "outputs": [],
   "source": [
    "len(fileswithne)"
   ]
  },
  {
   "cell_type": "code",
   "execution_count": null,
   "id": "75ed60d2",
   "metadata": {},
   "outputs": [],
   "source": [
    "fileswithne"
   ]
  },
  {
   "cell_type": "code",
   "execution_count": null,
   "id": "e0489852",
   "metadata": {},
   "outputs": [],
   "source": [
    "# check dates\n",
    "gf_list = glob.glob('../data/interim/GRACEFO/KBRNE_relative_v1/dat/*')\n",
    "gf_list.sort()\n",
    "\n",
    "headerlist=['CDF Epoch', 'GPS', 'Latitude', 'Longitude', 'Radius', 'Latitude_QD', 'Longitude_QD','MLT GRACE_1_Position', 'GRACE_2_Position', 'Iono_Corr', 'Distance', 'Relative_Hor_TEC', 'Relative_Ne']\n",
    "\n",
    "for gf_file in gf_list:\n",
    "    gf = pd.read_csv(gf_file, sep='\\s+', header=0,index_col=False, names=headerlist)\n",
    "    print(gf)\n",
    "\n"
   ]
  },
  {
   "cell_type": "code",
   "execution_count": null,
   "id": "0e58aaff",
   "metadata": {},
   "outputs": [],
   "source": [
    "Time(gf['CDF Epoch'].values[0], format='cdf_epoch').datetime\n"
   ]
  },
  {
   "cell_type": "code",
   "execution_count": 174,
   "id": "ea7d1e7f",
   "metadata": {},
   "outputs": [],
   "source": [
    "# open aux files\n",
    "iri_calib = pd.read_csv('../data/interim/GRACEFO/KBRNE_relative_v1/aux_files/GRACE-FO-IRI_CALIB.AUX',  skiprows=[0], sep='\\s+',names = ['cdf-epoch', 'Mean-offset-IRI'])\n",
    "outliers = pd.read_csv('../data/interim/GRACEFO/KBRNE_relative_v1/aux_files/GRACE-FO-OUTLIERS.AUX', skiprows=[0,1,2], sep='\\s+')\n",
    "gap_bias = pd.read_csv('../data/interim/GRACEFO/KBRNE_relative_v1/aux_files/GRACE-GAP-BIAS.ARC', sep='\\s+')\n",
    "\n",
    "## lear how to use the aux files ..."
   ]
  },
  {
   "cell_type": "code",
   "execution_count": 175,
   "id": "84b9fc45",
   "metadata": {},
   "outputs": [
    {
     "data": {
      "text/html": [
       "<div>\n",
       "<style scoped>\n",
       "    .dataframe tbody tr th:only-of-type {\n",
       "        vertical-align: middle;\n",
       "    }\n",
       "\n",
       "    .dataframe tbody tr th {\n",
       "        vertical-align: top;\n",
       "    }\n",
       "\n",
       "    .dataframe thead th {\n",
       "        text-align: right;\n",
       "    }\n",
       "</style>\n",
       "<table border=\"1\" class=\"dataframe\">\n",
       "  <thead>\n",
       "    <tr style=\"text-align: right;\">\n",
       "      <th></th>\n",
       "      <th>cdf-epoch</th>\n",
       "      <th>Mean-offset-IRI</th>\n",
       "    </tr>\n",
       "  </thead>\n",
       "  <tbody>\n",
       "    <tr>\n",
       "      <th>0</th>\n",
       "      <td>63694811097000</td>\n",
       "      <td>-7.840156e+10</td>\n",
       "    </tr>\n",
       "    <tr>\n",
       "      <th>1</th>\n",
       "      <td>63695601492000</td>\n",
       "      <td>-3.282334e+10</td>\n",
       "    </tr>\n",
       "    <tr>\n",
       "      <th>2</th>\n",
       "      <td>63696271092000</td>\n",
       "      <td>-1.734304e+10</td>\n",
       "    </tr>\n",
       "    <tr>\n",
       "      <th>3</th>\n",
       "      <td>63696275197000</td>\n",
       "      <td>-7.080232e+10</td>\n",
       "    </tr>\n",
       "    <tr>\n",
       "      <th>4</th>\n",
       "      <td>63696917847000</td>\n",
       "      <td>3.499636e+11</td>\n",
       "    </tr>\n",
       "    <tr>\n",
       "      <th>...</th>\n",
       "      <td>...</td>\n",
       "      <td>...</td>\n",
       "    </tr>\n",
       "    <tr>\n",
       "      <th>278</th>\n",
       "      <td>63776024302000</td>\n",
       "      <td>-1.603204e+11</td>\n",
       "    </tr>\n",
       "    <tr>\n",
       "      <th>279</th>\n",
       "      <td>63776109362000</td>\n",
       "      <td>-1.510191e+11</td>\n",
       "    </tr>\n",
       "    <tr>\n",
       "      <th>280</th>\n",
       "      <td>63776183027000</td>\n",
       "      <td>-1.276199e+11</td>\n",
       "    </tr>\n",
       "    <tr>\n",
       "      <th>281</th>\n",
       "      <td>63776194282000</td>\n",
       "      <td>-1.959966e+11</td>\n",
       "    </tr>\n",
       "    <tr>\n",
       "      <th>282</th>\n",
       "      <td>63776388182000</td>\n",
       "      <td>-1.000000e+16</td>\n",
       "    </tr>\n",
       "  </tbody>\n",
       "</table>\n",
       "<p>283 rows × 2 columns</p>\n",
       "</div>"
      ],
      "text/plain": [
       "          cdf-epoch  Mean-offset-IRI\n",
       "0    63694811097000    -7.840156e+10\n",
       "1    63695601492000    -3.282334e+10\n",
       "2    63696271092000    -1.734304e+10\n",
       "3    63696275197000    -7.080232e+10\n",
       "4    63696917847000     3.499636e+11\n",
       "..              ...              ...\n",
       "278  63776024302000    -1.603204e+11\n",
       "279  63776109362000    -1.510191e+11\n",
       "280  63776183027000    -1.276199e+11\n",
       "281  63776194282000    -1.959966e+11\n",
       "282  63776388182000    -1.000000e+16\n",
       "\n",
       "[283 rows x 2 columns]"
      ]
     },
     "execution_count": 175,
     "metadata": {},
     "output_type": "execute_result"
    }
   ],
   "source": [
    "iri_calib"
   ]
  },
  {
   "cell_type": "code",
   "execution_count": 176,
   "id": "2a32aba4",
   "metadata": {},
   "outputs": [
    {
     "data": {
      "text/html": [
       "<div>\n",
       "<style scoped>\n",
       "    .dataframe tbody tr th:only-of-type {\n",
       "        vertical-align: middle;\n",
       "    }\n",
       "\n",
       "    .dataframe tbody tr th {\n",
       "        vertical-align: top;\n",
       "    }\n",
       "\n",
       "    .dataframe thead th {\n",
       "        text-align: right;\n",
       "    }\n",
       "</style>\n",
       "<table border=\"1\" class=\"dataframe\">\n",
       "  <thead>\n",
       "    <tr style=\"text-align: right;\">\n",
       "      <th></th>\n",
       "      <th>cdf-epoch-start</th>\n",
       "      <th>cdf-epoch-end</th>\n",
       "      <th>Type</th>\n",
       "    </tr>\n",
       "  </thead>\n",
       "  <tbody>\n",
       "    <tr>\n",
       "      <th>0</th>\n",
       "      <td>63696914547000</td>\n",
       "      <td>63696914742000</td>\n",
       "      <td>e</td>\n",
       "    </tr>\n",
       "    <tr>\n",
       "      <th>1</th>\n",
       "      <td>63696914742000</td>\n",
       "      <td>63696917722000</td>\n",
       "      <td>c</td>\n",
       "    </tr>\n",
       "    <tr>\n",
       "      <th>2</th>\n",
       "      <td>63696917722000</td>\n",
       "      <td>63696917847000</td>\n",
       "      <td>c</td>\n",
       "    </tr>\n",
       "    <tr>\n",
       "      <th>3</th>\n",
       "      <td>63696917847000</td>\n",
       "      <td>63696917947000</td>\n",
       "      <td>s</td>\n",
       "    </tr>\n",
       "    <tr>\n",
       "      <th>4</th>\n",
       "      <td>63737595992000</td>\n",
       "      <td>63737596092000</td>\n",
       "      <td>s</td>\n",
       "    </tr>\n",
       "    <tr>\n",
       "      <th>5</th>\n",
       "      <td>63746261332000</td>\n",
       "      <td>63746270257000</td>\n",
       "      <td>c</td>\n",
       "    </tr>\n",
       "    <tr>\n",
       "      <th>6</th>\n",
       "      <td>63765264742000</td>\n",
       "      <td>63765265492000</td>\n",
       "      <td>e</td>\n",
       "    </tr>\n",
       "    <tr>\n",
       "      <th>7</th>\n",
       "      <td>63765287602000</td>\n",
       "      <td>63765288537000</td>\n",
       "      <td>e</td>\n",
       "    </tr>\n",
       "    <tr>\n",
       "      <th>8</th>\n",
       "      <td>63768467602000</td>\n",
       "      <td>63768468422000</td>\n",
       "      <td>e</td>\n",
       "    </tr>\n",
       "    <tr>\n",
       "      <th>9</th>\n",
       "      <td>63769828942000</td>\n",
       "      <td>63769829482000</td>\n",
       "      <td>e</td>\n",
       "    </tr>\n",
       "    <tr>\n",
       "      <th>10</th>\n",
       "      <td>63770254442000</td>\n",
       "      <td>63770255372000</td>\n",
       "      <td>e</td>\n",
       "    </tr>\n",
       "    <tr>\n",
       "      <th>11</th>\n",
       "      <td>63772818212000</td>\n",
       "      <td>63772818312000</td>\n",
       "      <td>s</td>\n",
       "    </tr>\n",
       "    <tr>\n",
       "      <th>12</th>\n",
       "      <td>63773147242000</td>\n",
       "      <td>63773148052000</td>\n",
       "      <td>e</td>\n",
       "    </tr>\n",
       "    <tr>\n",
       "      <th>13</th>\n",
       "      <td>63773442522000</td>\n",
       "      <td>63773443527000</td>\n",
       "      <td>e</td>\n",
       "    </tr>\n",
       "    <tr>\n",
       "      <th>14</th>\n",
       "      <td>63773964362000</td>\n",
       "      <td>63773964912000</td>\n",
       "      <td>e</td>\n",
       "    </tr>\n",
       "    <tr>\n",
       "      <th>15</th>\n",
       "      <td>63773992717000</td>\n",
       "      <td>63773992897000</td>\n",
       "      <td>e</td>\n",
       "    </tr>\n",
       "    <tr>\n",
       "      <th>16</th>\n",
       "      <td>63774010797000</td>\n",
       "      <td>63774010972000</td>\n",
       "      <td>e</td>\n",
       "    </tr>\n",
       "    <tr>\n",
       "      <th>17</th>\n",
       "      <td>63774134202000</td>\n",
       "      <td>63774134302000</td>\n",
       "      <td>s</td>\n",
       "    </tr>\n",
       "    <tr>\n",
       "      <th>18</th>\n",
       "      <td>63774139957000</td>\n",
       "      <td>63774140057000</td>\n",
       "      <td>s</td>\n",
       "    </tr>\n",
       "    <tr>\n",
       "      <th>19</th>\n",
       "      <td>63774457512000</td>\n",
       "      <td>63774458402000</td>\n",
       "      <td>e</td>\n",
       "    </tr>\n",
       "    <tr>\n",
       "      <th>20</th>\n",
       "      <td>63774735622000</td>\n",
       "      <td>63774735722000</td>\n",
       "      <td>s</td>\n",
       "    </tr>\n",
       "    <tr>\n",
       "      <th>21</th>\n",
       "      <td>63775768132000</td>\n",
       "      <td>63775768232000</td>\n",
       "      <td>s</td>\n",
       "    </tr>\n",
       "    <tr>\n",
       "      <th>22</th>\n",
       "      <td>63776023382000</td>\n",
       "      <td>63776024302000</td>\n",
       "      <td>e</td>\n",
       "    </tr>\n",
       "    <tr>\n",
       "      <th>23</th>\n",
       "      <td>63776388182000</td>\n",
       "      <td>63776393622000</td>\n",
       "      <td>c</td>\n",
       "    </tr>\n",
       "    <tr>\n",
       "      <th>24</th>\n",
       "      <td>63776388182000</td>\n",
       "      <td>63776393622000</td>\n",
       "      <td>c</td>\n",
       "    </tr>\n",
       "    <tr>\n",
       "      <th>25</th>\n",
       "      <td>63776388182000</td>\n",
       "      <td>63776393622000</td>\n",
       "      <td>c</td>\n",
       "    </tr>\n",
       "  </tbody>\n",
       "</table>\n",
       "</div>"
      ],
      "text/plain": [
       "    cdf-epoch-start   cdf-epoch-end Type\n",
       "0    63696914547000  63696914742000    e\n",
       "1    63696914742000  63696917722000    c\n",
       "2    63696917722000  63696917847000    c\n",
       "3    63696917847000  63696917947000    s\n",
       "4    63737595992000  63737596092000    s\n",
       "5    63746261332000  63746270257000    c\n",
       "6    63765264742000  63765265492000    e\n",
       "7    63765287602000  63765288537000    e\n",
       "8    63768467602000  63768468422000    e\n",
       "9    63769828942000  63769829482000    e\n",
       "10   63770254442000  63770255372000    e\n",
       "11   63772818212000  63772818312000    s\n",
       "12   63773147242000  63773148052000    e\n",
       "13   63773442522000  63773443527000    e\n",
       "14   63773964362000  63773964912000    e\n",
       "15   63773992717000  63773992897000    e\n",
       "16   63774010797000  63774010972000    e\n",
       "17   63774134202000  63774134302000    s\n",
       "18   63774139957000  63774140057000    s\n",
       "19   63774457512000  63774458402000    e\n",
       "20   63774735622000  63774735722000    s\n",
       "21   63775768132000  63775768232000    s\n",
       "22   63776023382000  63776024302000    e\n",
       "23   63776388182000  63776393622000    c\n",
       "24   63776388182000  63776393622000    c\n",
       "25   63776388182000  63776393622000    c"
      ]
     },
     "execution_count": 176,
     "metadata": {},
     "output_type": "execute_result"
    }
   ],
   "source": [
    "outliers"
   ]
  },
  {
   "cell_type": "code",
   "execution_count": 177,
   "id": "5dd1ef70",
   "metadata": {},
   "outputs": [
    {
     "data": {
      "text/html": [
       "<div>\n",
       "<style scoped>\n",
       "    .dataframe tbody tr th:only-of-type {\n",
       "        vertical-align: middle;\n",
       "    }\n",
       "\n",
       "    .dataframe tbody tr th {\n",
       "        vertical-align: top;\n",
       "    }\n",
       "\n",
       "    .dataframe thead th {\n",
       "        text-align: right;\n",
       "    }\n",
       "</style>\n",
       "<table border=\"1\" class=\"dataframe\">\n",
       "  <thead>\n",
       "    <tr style=\"text-align: right;\">\n",
       "      <th></th>\n",
       "      <th>YYYY</th>\n",
       "      <th>DDD</th>\n",
       "      <th>GPSS-GRACE</th>\n",
       "      <th>delta_ARC0</th>\n",
       "      <th>CDF_Epoch</th>\n",
       "      <th>new_ARC</th>\n",
       "    </tr>\n",
       "  </thead>\n",
       "  <tbody>\n",
       "    <tr>\n",
       "      <th>0</th>\n",
       "      <td>2018</td>\n",
       "      <td>149</td>\n",
       "      <td>580863915</td>\n",
       "      <td>392872.083520</td>\n",
       "      <td>63694811097000</td>\n",
       "      <td>0</td>\n",
       "    </tr>\n",
       "    <tr>\n",
       "      <th>1</th>\n",
       "      <td>2018</td>\n",
       "      <td>149</td>\n",
       "      <td>580863915</td>\n",
       "      <td>392872.083520</td>\n",
       "      <td>63694811097000</td>\n",
       "      <td>1</td>\n",
       "    </tr>\n",
       "    <tr>\n",
       "      <th>2</th>\n",
       "      <td>2018</td>\n",
       "      <td>150</td>\n",
       "      <td>580910400</td>\n",
       "      <td>392872.083467</td>\n",
       "      <td>63694857582000</td>\n",
       "      <td>0</td>\n",
       "    </tr>\n",
       "    <tr>\n",
       "      <th>3</th>\n",
       "      <td>2018</td>\n",
       "      <td>151</td>\n",
       "      <td>580996800</td>\n",
       "      <td>392872.083413</td>\n",
       "      <td>63694943982000</td>\n",
       "      <td>0</td>\n",
       "    </tr>\n",
       "    <tr>\n",
       "      <th>4</th>\n",
       "      <td>2018</td>\n",
       "      <td>152</td>\n",
       "      <td>581083200</td>\n",
       "      <td>392872.083371</td>\n",
       "      <td>63695030382000</td>\n",
       "      <td>0</td>\n",
       "    </tr>\n",
       "    <tr>\n",
       "      <th>...</th>\n",
       "      <td>...</td>\n",
       "      <td>...</td>\n",
       "      <td>...</td>\n",
       "      <td>...</td>\n",
       "      <td>...</td>\n",
       "      <td>...</td>\n",
       "    </tr>\n",
       "    <tr>\n",
       "      <th>1111</th>\n",
       "      <td>2020</td>\n",
       "      <td>363</td>\n",
       "      <td>662441000</td>\n",
       "      <td>340584.078476</td>\n",
       "      <td>63776388182000</td>\n",
       "      <td>1</td>\n",
       "    </tr>\n",
       "    <tr>\n",
       "      <th>1112</th>\n",
       "      <td>2020</td>\n",
       "      <td>363</td>\n",
       "      <td>662446440</td>\n",
       "      <td>346468.357566</td>\n",
       "      <td>63776393622000</td>\n",
       "      <td>1</td>\n",
       "    </tr>\n",
       "    <tr>\n",
       "      <th>1113</th>\n",
       "      <td>2020</td>\n",
       "      <td>364</td>\n",
       "      <td>662472000</td>\n",
       "      <td>346468.357561</td>\n",
       "      <td>63776419182000</td>\n",
       "      <td>0</td>\n",
       "    </tr>\n",
       "    <tr>\n",
       "      <th>1114</th>\n",
       "      <td>2020</td>\n",
       "      <td>365</td>\n",
       "      <td>662558400</td>\n",
       "      <td>346468.357548</td>\n",
       "      <td>63776505582000</td>\n",
       "      <td>0</td>\n",
       "    </tr>\n",
       "    <tr>\n",
       "      <th>1115</th>\n",
       "      <td>2020</td>\n",
       "      <td>366</td>\n",
       "      <td>662644800</td>\n",
       "      <td>346468.357516</td>\n",
       "      <td>63776591982000</td>\n",
       "      <td>0</td>\n",
       "    </tr>\n",
       "  </tbody>\n",
       "</table>\n",
       "<p>1116 rows × 6 columns</p>\n",
       "</div>"
      ],
      "text/plain": [
       "      YYYY  DDD  GPSS-GRACE     delta_ARC0       CDF_Epoch  new_ARC\n",
       "0     2018  149   580863915  392872.083520  63694811097000        0\n",
       "1     2018  149   580863915  392872.083520  63694811097000        1\n",
       "2     2018  150   580910400  392872.083467  63694857582000        0\n",
       "3     2018  151   580996800  392872.083413  63694943982000        0\n",
       "4     2018  152   581083200  392872.083371  63695030382000        0\n",
       "...    ...  ...         ...            ...             ...      ...\n",
       "1111  2020  363   662441000  340584.078476  63776388182000        1\n",
       "1112  2020  363   662446440  346468.357566  63776393622000        1\n",
       "1113  2020  364   662472000  346468.357561  63776419182000        0\n",
       "1114  2020  365   662558400  346468.357548  63776505582000        0\n",
       "1115  2020  366   662644800  346468.357516  63776591982000        0\n",
       "\n",
       "[1116 rows x 6 columns]"
      ]
     },
     "execution_count": 177,
     "metadata": {},
     "output_type": "execute_result"
    }
   ],
   "source": [
    "gap_bias"
   ]
  },
  {
   "cell_type": "code",
   "execution_count": null,
   "id": "9cd782d8",
   "metadata": {},
   "outputs": [],
   "source": [
    "# new arc flag 1\n",
    "\n",
    "plt.plot(gap_bias['CDF_Epoch'][gap_bias['new_ARC']==1], gap_bias['new_ARC'][gap_bias['new_ARC']==1])"
   ]
  },
  {
   "cell_type": "code",
   "execution_count": null,
   "id": "d060b63e",
   "metadata": {},
   "outputs": [],
   "source": [
    "len(np.unique(gap_bias['CDF_Epoch'][gap_bias['new_ARC']==1]))"
   ]
  },
  {
   "cell_type": "code",
   "execution_count": null,
   "id": "bd52b379",
   "metadata": {},
   "outputs": [],
   "source": [
    "gap_bias[gap_bias['CDF_Epoch'] == 63694811097000]"
   ]
  },
  {
   "cell_type": "code",
   "execution_count": null,
   "id": "3517a829",
   "metadata": {},
   "outputs": [],
   "source": [
    "# plot radars"
   ]
  },
  {
   "cell_type": "code",
   "execution_count": null,
   "id": "a91c33ae",
   "metadata": {},
   "outputs": [],
   "source": [
    "# find conjunctions"
   ]
  },
  {
   "cell_type": "code",
   "execution_count": 3,
   "id": "b8e56c2a",
   "metadata": {},
   "outputs": [],
   "source": [
    "# check dates\n",
    "gf_list = glob.glob('../data/interim/GRACEFO/KBRNE_relative_v1/dat/*')\n",
    "gf_list.sort()\n",
    "\n",
    "headerlist=['CDF Epoch', 'GPS', 'Latitude', 'Longitude', 'Radius', 'Latitude_QD', 'Longitude_QD','MLT GRACE_1_Position', 'GRACE_2_Position', 'Iono_Corr', 'Distance', 'Relative_Hor_TEC', 'Relative_Ne']\n",
    "\n",
    "grf_list_datetimes =[]\n",
    "for gf_file in gf_list:\n",
    "    gf = pd.read_csv(gf_file, sep='\\s+', header=0,index_col=False, names=headerlist)\n",
    "    grf_list_datetimes.append((Time(gf['CDF Epoch'].values[0], format='cdf_epoch').datetime).strftime('%Y-%m-%d'))"
   ]
  },
  {
   "cell_type": "code",
   "execution_count": 370,
   "id": "32be2ded",
   "metadata": {},
   "outputs": [
    {
     "data": {
      "text/html": [
       "<div>\n",
       "<style scoped>\n",
       "    .dataframe tbody tr th:only-of-type {\n",
       "        vertical-align: middle;\n",
       "    }\n",
       "\n",
       "    .dataframe tbody tr th {\n",
       "        vertical-align: top;\n",
       "    }\n",
       "\n",
       "    .dataframe thead th {\n",
       "        text-align: right;\n",
       "    }\n",
       "</style>\n",
       "<table border=\"1\" class=\"dataframe\">\n",
       "  <thead>\n",
       "    <tr style=\"text-align: right;\">\n",
       "      <th></th>\n",
       "      <th>CDF Epoch</th>\n",
       "      <th>GPS</th>\n",
       "      <th>Latitude</th>\n",
       "      <th>Longitude</th>\n",
       "      <th>Radius</th>\n",
       "      <th>Latitude_QD</th>\n",
       "      <th>Longitude_QD</th>\n",
       "      <th>MLT GRACE_1_Position</th>\n",
       "      <th>GRACE_2_Position</th>\n",
       "      <th>Iono_Corr</th>\n",
       "      <th>Distance</th>\n",
       "      <th>Relative_Hor_TEC</th>\n",
       "      <th>Relative_Ne</th>\n",
       "    </tr>\n",
       "  </thead>\n",
       "  <tbody>\n",
       "    <tr>\n",
       "      <th>0</th>\n",
       "      <td>63747647982000</td>\n",
       "      <td>1264464000</td>\n",
       "      <td>-72.807</td>\n",
       "      <td>-149.928</td>\n",
       "      <td>6892715.06</td>\n",
       "      <td>-68.212</td>\n",
       "      <td>-34.941</td>\n",
       "      <td>16.39</td>\n",
       "      <td>-1685131.2</td>\n",
       "      <td>-981916.9</td>\n",
       "      <td>-6611750.3</td>\n",
       "      <td>-1841145.7</td>\n",
       "      <td>-1059882.0</td>\n",
       "    </tr>\n",
       "    <tr>\n",
       "      <th>1</th>\n",
       "      <td>63747647987000</td>\n",
       "      <td>1264464005</td>\n",
       "      <td>-73.122</td>\n",
       "      <td>-149.885</td>\n",
       "      <td>6892721.64</td>\n",
       "      <td>-68.430</td>\n",
       "      <td>-34.306</td>\n",
       "      <td>16.44</td>\n",
       "      <td>-1652906.0</td>\n",
       "      <td>-965044.0</td>\n",
       "      <td>-6622366.6</td>\n",
       "      <td>-1809203.6</td>\n",
       "      <td>-1043097.8</td>\n",
       "    </tr>\n",
       "    <tr>\n",
       "      <th>2</th>\n",
       "      <td>63747647992000</td>\n",
       "      <td>1264464010</td>\n",
       "      <td>-73.437</td>\n",
       "      <td>-149.839</td>\n",
       "      <td>6892727.74</td>\n",
       "      <td>-68.646</td>\n",
       "      <td>-33.659</td>\n",
       "      <td>16.48</td>\n",
       "      <td>-1620618.7</td>\n",
       "      <td>-948165.5</td>\n",
       "      <td>-6632781.8</td>\n",
       "      <td>-1777194.7</td>\n",
       "      <td>-1026305.4</td>\n",
       "    </tr>\n",
       "    <tr>\n",
       "      <th>3</th>\n",
       "      <td>63747647997000</td>\n",
       "      <td>1264464015</td>\n",
       "      <td>-73.752</td>\n",
       "      <td>-149.791</td>\n",
       "      <td>6892733.37</td>\n",
       "      <td>-68.858</td>\n",
       "      <td>-33.000</td>\n",
       "      <td>16.53</td>\n",
       "      <td>-1588270.3</td>\n",
       "      <td>-931281.9</td>\n",
       "      <td>-6642995.8</td>\n",
       "      <td>-1745120.0</td>\n",
       "      <td>-1009505.5</td>\n",
       "    </tr>\n",
       "    <tr>\n",
       "      <th>4</th>\n",
       "      <td>63747648002000</td>\n",
       "      <td>1264464020</td>\n",
       "      <td>-74.066</td>\n",
       "      <td>-149.740</td>\n",
       "      <td>6892738.52</td>\n",
       "      <td>-69.068</td>\n",
       "      <td>-32.329</td>\n",
       "      <td>16.57</td>\n",
       "      <td>-1555861.7</td>\n",
       "      <td>-914393.9</td>\n",
       "      <td>-6653008.2</td>\n",
       "      <td>-1712980.4</td>\n",
       "      <td>-992698.5</td>\n",
       "    </tr>\n",
       "    <tr>\n",
       "      <th>...</th>\n",
       "      <td>...</td>\n",
       "      <td>...</td>\n",
       "      <td>...</td>\n",
       "      <td>...</td>\n",
       "      <td>...</td>\n",
       "      <td>...</td>\n",
       "      <td>...</td>\n",
       "      <td>...</td>\n",
       "      <td>...</td>\n",
       "      <td>...</td>\n",
       "      <td>...</td>\n",
       "      <td>...</td>\n",
       "      <td>...</td>\n",
       "    </tr>\n",
       "    <tr>\n",
       "      <th>17275</th>\n",
       "      <td>63747734357000</td>\n",
       "      <td>1264550375</td>\n",
       "      <td>-26.683</td>\n",
       "      <td>25.314</td>\n",
       "      <td>6879564.96</td>\n",
       "      <td>-35.864</td>\n",
       "      <td>94.342</td>\n",
       "      <td>1.01</td>\n",
       "      <td>5592871.3</td>\n",
       "      <td>2647207.6</td>\n",
       "      <td>-3007683.0</td>\n",
       "      <td>5520476.8</td>\n",
       "      <td>2609330.0</td>\n",
       "    </tr>\n",
       "    <tr>\n",
       "      <th>17276</th>\n",
       "      <td>63747734362000</td>\n",
       "      <td>1264550380</td>\n",
       "      <td>-26.367</td>\n",
       "      <td>25.300</td>\n",
       "      <td>6879465.74</td>\n",
       "      <td>-35.600</td>\n",
       "      <td>94.449</td>\n",
       "      <td>1.01</td>\n",
       "      <td>5608385.4</td>\n",
       "      <td>2652865.4</td>\n",
       "      <td>-2973384.2</td>\n",
       "      <td>5536795.0</td>\n",
       "      <td>2615401.6</td>\n",
       "    </tr>\n",
       "    <tr>\n",
       "      <th>17277</th>\n",
       "      <td>63747734367000</td>\n",
       "      <td>1264550385</td>\n",
       "      <td>-26.050</td>\n",
       "      <td>25.286</td>\n",
       "      <td>6879366.22</td>\n",
       "      <td>-35.335</td>\n",
       "      <td>94.554</td>\n",
       "      <td>1.02</td>\n",
       "      <td>5623732.7</td>\n",
       "      <td>2658431.1</td>\n",
       "      <td>-2938994.1</td>\n",
       "      <td>5552949.0</td>\n",
       "      <td>2621381.6</td>\n",
       "    </tr>\n",
       "    <tr>\n",
       "      <th>17278</th>\n",
       "      <td>63747734372000</td>\n",
       "      <td>1264550390</td>\n",
       "      <td>-25.733</td>\n",
       "      <td>25.272</td>\n",
       "      <td>6879266.41</td>\n",
       "      <td>-35.069</td>\n",
       "      <td>94.658</td>\n",
       "      <td>1.03</td>\n",
       "      <td>5638912.6</td>\n",
       "      <td>2663904.6</td>\n",
       "      <td>-2904513.8</td>\n",
       "      <td>5568938.0</td>\n",
       "      <td>2627270.1</td>\n",
       "    </tr>\n",
       "    <tr>\n",
       "      <th>17279</th>\n",
       "      <td>63747734377000</td>\n",
       "      <td>1264550395</td>\n",
       "      <td>-25.416</td>\n",
       "      <td>25.258</td>\n",
       "      <td>6879166.32</td>\n",
       "      <td>-34.802</td>\n",
       "      <td>94.760</td>\n",
       "      <td>1.04</td>\n",
       "      <td>5653924.7</td>\n",
       "      <td>2669285.9</td>\n",
       "      <td>-2869944.4</td>\n",
       "      <td>5584761.7</td>\n",
       "      <td>2633066.9</td>\n",
       "    </tr>\n",
       "  </tbody>\n",
       "</table>\n",
       "<p>17280 rows × 13 columns</p>\n",
       "</div>"
      ],
      "text/plain": [
       "            CDF Epoch         GPS  Latitude  Longitude      Radius  \\\n",
       "0      63747647982000  1264464000   -72.807   -149.928  6892715.06   \n",
       "1      63747647987000  1264464005   -73.122   -149.885  6892721.64   \n",
       "2      63747647992000  1264464010   -73.437   -149.839  6892727.74   \n",
       "3      63747647997000  1264464015   -73.752   -149.791  6892733.37   \n",
       "4      63747648002000  1264464020   -74.066   -149.740  6892738.52   \n",
       "...               ...         ...       ...        ...         ...   \n",
       "17275  63747734357000  1264550375   -26.683     25.314  6879564.96   \n",
       "17276  63747734362000  1264550380   -26.367     25.300  6879465.74   \n",
       "17277  63747734367000  1264550385   -26.050     25.286  6879366.22   \n",
       "17278  63747734372000  1264550390   -25.733     25.272  6879266.41   \n",
       "17279  63747734377000  1264550395   -25.416     25.258  6879166.32   \n",
       "\n",
       "       Latitude_QD  Longitude_QD  MLT GRACE_1_Position  GRACE_2_Position  \\\n",
       "0          -68.212       -34.941                 16.39        -1685131.2   \n",
       "1          -68.430       -34.306                 16.44        -1652906.0   \n",
       "2          -68.646       -33.659                 16.48        -1620618.7   \n",
       "3          -68.858       -33.000                 16.53        -1588270.3   \n",
       "4          -69.068       -32.329                 16.57        -1555861.7   \n",
       "...            ...           ...                   ...               ...   \n",
       "17275      -35.864        94.342                  1.01         5592871.3   \n",
       "17276      -35.600        94.449                  1.01         5608385.4   \n",
       "17277      -35.335        94.554                  1.02         5623732.7   \n",
       "17278      -35.069        94.658                  1.03         5638912.6   \n",
       "17279      -34.802        94.760                  1.04         5653924.7   \n",
       "\n",
       "       Iono_Corr   Distance  Relative_Hor_TEC  Relative_Ne  \n",
       "0      -981916.9 -6611750.3        -1841145.7   -1059882.0  \n",
       "1      -965044.0 -6622366.6        -1809203.6   -1043097.8  \n",
       "2      -948165.5 -6632781.8        -1777194.7   -1026305.4  \n",
       "3      -931281.9 -6642995.8        -1745120.0   -1009505.5  \n",
       "4      -914393.9 -6653008.2        -1712980.4    -992698.5  \n",
       "...          ...        ...               ...          ...  \n",
       "17275  2647207.6 -3007683.0         5520476.8    2609330.0  \n",
       "17276  2652865.4 -2973384.2         5536795.0    2615401.6  \n",
       "17277  2658431.1 -2938994.1         5552949.0    2621381.6  \n",
       "17278  2663904.6 -2904513.8         5568938.0    2627270.1  \n",
       "17279  2669285.9 -2869944.4         5584761.7    2633066.9  \n",
       "\n",
       "[17280 rows x 13 columns]"
      ]
     },
     "execution_count": 370,
     "metadata": {},
     "output_type": "execute_result"
    }
   ],
   "source": [
    "gf"
   ]
  },
  {
   "cell_type": "code",
   "execution_count": 277,
   "id": "c98b2f34",
   "metadata": {},
   "outputs": [
    {
     "data": {
      "text/plain": [
       "Index(['year', 'month', 'day', 'hour', 'min', 'sec', 'recno', 'kindat',\n",
       "       'kinst', 'ut1_unix', 'ut2_unix', 'az1', 'az2', 'el1', 'el2', 'hmax',\n",
       "       'nemax', 'range', 'ne', 'dne', 'te', 'dte', 'ti', 'dti', 'vo', 'dvo',\n",
       "       'ph+', 'dph+', 'phe+', 'dphe+', 'pm', 'dpm'],\n",
       "      dtype='object')"
      ]
     },
     "execution_count": 277,
     "metadata": {},
     "output_type": "execute_result"
    }
   ],
   "source": [
    "t1 = t.to_pandas()\n",
    "t1.columns"
   ]
  },
  {
   "cell_type": "code",
   "execution_count": 301,
   "id": "0b618be0",
   "metadata": {},
   "outputs": [
    {
     "data": {
      "text/html": [
       "<div>\n",
       "<style scoped>\n",
       "    .dataframe tbody tr th:only-of-type {\n",
       "        vertical-align: middle;\n",
       "    }\n",
       "\n",
       "    .dataframe tbody tr th {\n",
       "        vertical-align: top;\n",
       "    }\n",
       "\n",
       "    .dataframe thead th {\n",
       "        text-align: right;\n",
       "    }\n",
       "</style>\n",
       "<table border=\"1\" class=\"dataframe\">\n",
       "  <thead>\n",
       "    <tr style=\"text-align: right;\">\n",
       "      <th></th>\n",
       "      <th>year</th>\n",
       "      <th>month</th>\n",
       "      <th>day</th>\n",
       "      <th>hour</th>\n",
       "      <th>min</th>\n",
       "      <th>sec</th>\n",
       "      <th>recno</th>\n",
       "      <th>kindat</th>\n",
       "      <th>kinst</th>\n",
       "      <th>ut1_unix</th>\n",
       "      <th>ut2_unix</th>\n",
       "      <th>azm</th>\n",
       "      <th>elm</th>\n",
       "      <th>hsa</th>\n",
       "      <th>power</th>\n",
       "      <th>systmp</th>\n",
       "      <th>range</th>\n",
       "      <th>pop</th>\n",
       "      <th>dpop</th>\n",
       "      <th>rgate</th>\n",
       "    </tr>\n",
       "  </thead>\n",
       "  <tbody>\n",
       "    <tr>\n",
       "      <th>0</th>\n",
       "      <td>2018</td>\n",
       "      <td>1</td>\n",
       "      <td>26</td>\n",
       "      <td>8</td>\n",
       "      <td>2</td>\n",
       "      <td>20</td>\n",
       "      <td>0</td>\n",
       "      <td>6300</td>\n",
       "      <td>95</td>\n",
       "      <td>1.516954e+09</td>\n",
       "      <td>1.516954e+09</td>\n",
       "      <td>186.800003</td>\n",
       "      <td>81.599998</td>\n",
       "      <td>1.570796</td>\n",
       "      <td>721.013687</td>\n",
       "      <td>83.509857</td>\n",
       "      <td>85.154750</td>\n",
       "      <td>1.086642e+11</td>\n",
       "      <td>3.312882e+09</td>\n",
       "      <td>119.842852</td>\n",
       "    </tr>\n",
       "    <tr>\n",
       "      <th>1</th>\n",
       "      <td>2018</td>\n",
       "      <td>1</td>\n",
       "      <td>26</td>\n",
       "      <td>8</td>\n",
       "      <td>2</td>\n",
       "      <td>20</td>\n",
       "      <td>0</td>\n",
       "      <td>6300</td>\n",
       "      <td>95</td>\n",
       "      <td>1.516954e+09</td>\n",
       "      <td>1.516954e+09</td>\n",
       "      <td>186.800003</td>\n",
       "      <td>81.599998</td>\n",
       "      <td>1.570796</td>\n",
       "      <td>721.013687</td>\n",
       "      <td>83.509857</td>\n",
       "      <td>89.787844</td>\n",
       "      <td>2.982857e+10</td>\n",
       "      <td>1.446140e+09</td>\n",
       "      <td>119.842852</td>\n",
       "    </tr>\n",
       "    <tr>\n",
       "      <th>2</th>\n",
       "      <td>2018</td>\n",
       "      <td>1</td>\n",
       "      <td>26</td>\n",
       "      <td>8</td>\n",
       "      <td>2</td>\n",
       "      <td>20</td>\n",
       "      <td>0</td>\n",
       "      <td>6300</td>\n",
       "      <td>95</td>\n",
       "      <td>1.516954e+09</td>\n",
       "      <td>1.516954e+09</td>\n",
       "      <td>186.800003</td>\n",
       "      <td>81.599998</td>\n",
       "      <td>1.570796</td>\n",
       "      <td>721.013687</td>\n",
       "      <td>83.509857</td>\n",
       "      <td>95.695078</td>\n",
       "      <td>1.840239e+10</td>\n",
       "      <td>1.265071e+09</td>\n",
       "      <td>119.842852</td>\n",
       "    </tr>\n",
       "    <tr>\n",
       "      <th>3</th>\n",
       "      <td>2018</td>\n",
       "      <td>1</td>\n",
       "      <td>26</td>\n",
       "      <td>8</td>\n",
       "      <td>2</td>\n",
       "      <td>20</td>\n",
       "      <td>0</td>\n",
       "      <td>6300</td>\n",
       "      <td>95</td>\n",
       "      <td>1.516954e+09</td>\n",
       "      <td>1.516954e+09</td>\n",
       "      <td>186.800003</td>\n",
       "      <td>81.599998</td>\n",
       "      <td>1.570796</td>\n",
       "      <td>721.013687</td>\n",
       "      <td>83.509857</td>\n",
       "      <td>101.030055</td>\n",
       "      <td>1.812061e+10</td>\n",
       "      <td>2.052387e+09</td>\n",
       "      <td>119.842852</td>\n",
       "    </tr>\n",
       "    <tr>\n",
       "      <th>4</th>\n",
       "      <td>2018</td>\n",
       "      <td>1</td>\n",
       "      <td>26</td>\n",
       "      <td>8</td>\n",
       "      <td>2</td>\n",
       "      <td>20</td>\n",
       "      <td>0</td>\n",
       "      <td>6300</td>\n",
       "      <td>95</td>\n",
       "      <td>1.516954e+09</td>\n",
       "      <td>1.516954e+09</td>\n",
       "      <td>186.800003</td>\n",
       "      <td>81.599998</td>\n",
       "      <td>1.570796</td>\n",
       "      <td>721.013687</td>\n",
       "      <td>83.509857</td>\n",
       "      <td>104.777461</td>\n",
       "      <td>1.911856e+10</td>\n",
       "      <td>1.644040e+09</td>\n",
       "      <td>119.842852</td>\n",
       "    </tr>\n",
       "    <tr>\n",
       "      <th>...</th>\n",
       "      <td>...</td>\n",
       "      <td>...</td>\n",
       "      <td>...</td>\n",
       "      <td>...</td>\n",
       "      <td>...</td>\n",
       "      <td>...</td>\n",
       "      <td>...</td>\n",
       "      <td>...</td>\n",
       "      <td>...</td>\n",
       "      <td>...</td>\n",
       "      <td>...</td>\n",
       "      <td>...</td>\n",
       "      <td>...</td>\n",
       "      <td>...</td>\n",
       "      <td>...</td>\n",
       "      <td>...</td>\n",
       "      <td>...</td>\n",
       "      <td>...</td>\n",
       "      <td>...</td>\n",
       "      <td>...</td>\n",
       "    </tr>\n",
       "    <tr>\n",
       "      <th>37384</th>\n",
       "      <td>2018</td>\n",
       "      <td>1</td>\n",
       "      <td>26</td>\n",
       "      <td>19</td>\n",
       "      <td>59</td>\n",
       "      <td>48</td>\n",
       "      <td>362</td>\n",
       "      <td>6300</td>\n",
       "      <td>95</td>\n",
       "      <td>1.516997e+09</td>\n",
       "      <td>1.516997e+09</td>\n",
       "      <td>186.800003</td>\n",
       "      <td>81.599998</td>\n",
       "      <td>1.570796</td>\n",
       "      <td>667.299313</td>\n",
       "      <td>86.149078</td>\n",
       "      <td>599.435000</td>\n",
       "      <td>5.364900e+09</td>\n",
       "      <td>2.602722e+09</td>\n",
       "      <td>119.842852</td>\n",
       "    </tr>\n",
       "    <tr>\n",
       "      <th>37385</th>\n",
       "      <td>2018</td>\n",
       "      <td>1</td>\n",
       "      <td>26</td>\n",
       "      <td>19</td>\n",
       "      <td>59</td>\n",
       "      <td>48</td>\n",
       "      <td>362</td>\n",
       "      <td>6300</td>\n",
       "      <td>95</td>\n",
       "      <td>1.516997e+09</td>\n",
       "      <td>1.516997e+09</td>\n",
       "      <td>186.800003</td>\n",
       "      <td>81.599998</td>\n",
       "      <td>1.570796</td>\n",
       "      <td>667.299313</td>\n",
       "      <td>86.149078</td>\n",
       "      <td>604.717313</td>\n",
       "      <td>-7.832319e+09</td>\n",
       "      <td>2.884591e+09</td>\n",
       "      <td>119.842852</td>\n",
       "    </tr>\n",
       "    <tr>\n",
       "      <th>37386</th>\n",
       "      <td>2018</td>\n",
       "      <td>1</td>\n",
       "      <td>26</td>\n",
       "      <td>19</td>\n",
       "      <td>59</td>\n",
       "      <td>48</td>\n",
       "      <td>362</td>\n",
       "      <td>6300</td>\n",
       "      <td>95</td>\n",
       "      <td>1.516997e+09</td>\n",
       "      <td>1.516997e+09</td>\n",
       "      <td>186.800003</td>\n",
       "      <td>81.599998</td>\n",
       "      <td>1.570796</td>\n",
       "      <td>667.299313</td>\n",
       "      <td>86.149078</td>\n",
       "      <td>610.677250</td>\n",
       "      <td>-6.085314e+09</td>\n",
       "      <td>5.470015e+09</td>\n",
       "      <td>119.842852</td>\n",
       "    </tr>\n",
       "    <tr>\n",
       "      <th>37387</th>\n",
       "      <td>2018</td>\n",
       "      <td>1</td>\n",
       "      <td>26</td>\n",
       "      <td>19</td>\n",
       "      <td>59</td>\n",
       "      <td>48</td>\n",
       "      <td>362</td>\n",
       "      <td>6300</td>\n",
       "      <td>95</td>\n",
       "      <td>1.516997e+09</td>\n",
       "      <td>1.516997e+09</td>\n",
       "      <td>186.800003</td>\n",
       "      <td>81.599998</td>\n",
       "      <td>1.570796</td>\n",
       "      <td>667.299313</td>\n",
       "      <td>86.149078</td>\n",
       "      <td>614.424625</td>\n",
       "      <td>-3.054305e+06</td>\n",
       "      <td>2.585303e+09</td>\n",
       "      <td>119.842852</td>\n",
       "    </tr>\n",
       "    <tr>\n",
       "      <th>37388</th>\n",
       "      <td>2018</td>\n",
       "      <td>1</td>\n",
       "      <td>26</td>\n",
       "      <td>19</td>\n",
       "      <td>59</td>\n",
       "      <td>48</td>\n",
       "      <td>362</td>\n",
       "      <td>6300</td>\n",
       "      <td>95</td>\n",
       "      <td>1.516997e+09</td>\n",
       "      <td>1.516997e+09</td>\n",
       "      <td>186.800003</td>\n",
       "      <td>81.599998</td>\n",
       "      <td>1.570796</td>\n",
       "      <td>667.299313</td>\n",
       "      <td>86.149078</td>\n",
       "      <td>618.172063</td>\n",
       "      <td>-6.291559e+07</td>\n",
       "      <td>3.149805e+09</td>\n",
       "      <td>119.842852</td>\n",
       "    </tr>\n",
       "  </tbody>\n",
       "</table>\n",
       "<p>37389 rows × 20 columns</p>\n",
       "</div>"
      ],
      "text/plain": [
       "       year  month  day  hour  min  sec  recno  kindat  kinst      ut1_unix  \\\n",
       "0      2018      1   26     8    2   20      0    6300     95  1.516954e+09   \n",
       "1      2018      1   26     8    2   20      0    6300     95  1.516954e+09   \n",
       "2      2018      1   26     8    2   20      0    6300     95  1.516954e+09   \n",
       "3      2018      1   26     8    2   20      0    6300     95  1.516954e+09   \n",
       "4      2018      1   26     8    2   20      0    6300     95  1.516954e+09   \n",
       "...     ...    ...  ...   ...  ...  ...    ...     ...    ...           ...   \n",
       "37384  2018      1   26    19   59   48    362    6300     95  1.516997e+09   \n",
       "37385  2018      1   26    19   59   48    362    6300     95  1.516997e+09   \n",
       "37386  2018      1   26    19   59   48    362    6300     95  1.516997e+09   \n",
       "37387  2018      1   26    19   59   48    362    6300     95  1.516997e+09   \n",
       "37388  2018      1   26    19   59   48    362    6300     95  1.516997e+09   \n",
       "\n",
       "           ut2_unix         azm        elm       hsa       power     systmp  \\\n",
       "0      1.516954e+09  186.800003  81.599998  1.570796  721.013687  83.509857   \n",
       "1      1.516954e+09  186.800003  81.599998  1.570796  721.013687  83.509857   \n",
       "2      1.516954e+09  186.800003  81.599998  1.570796  721.013687  83.509857   \n",
       "3      1.516954e+09  186.800003  81.599998  1.570796  721.013687  83.509857   \n",
       "4      1.516954e+09  186.800003  81.599998  1.570796  721.013687  83.509857   \n",
       "...             ...         ...        ...       ...         ...        ...   \n",
       "37384  1.516997e+09  186.800003  81.599998  1.570796  667.299313  86.149078   \n",
       "37385  1.516997e+09  186.800003  81.599998  1.570796  667.299313  86.149078   \n",
       "37386  1.516997e+09  186.800003  81.599998  1.570796  667.299313  86.149078   \n",
       "37387  1.516997e+09  186.800003  81.599998  1.570796  667.299313  86.149078   \n",
       "37388  1.516997e+09  186.800003  81.599998  1.570796  667.299313  86.149078   \n",
       "\n",
       "            range           pop          dpop       rgate  \n",
       "0       85.154750  1.086642e+11  3.312882e+09  119.842852  \n",
       "1       89.787844  2.982857e+10  1.446140e+09  119.842852  \n",
       "2       95.695078  1.840239e+10  1.265071e+09  119.842852  \n",
       "3      101.030055  1.812061e+10  2.052387e+09  119.842852  \n",
       "4      104.777461  1.911856e+10  1.644040e+09  119.842852  \n",
       "...           ...           ...           ...         ...  \n",
       "37384  599.435000  5.364900e+09  2.602722e+09  119.842852  \n",
       "37385  604.717313 -7.832319e+09  2.884591e+09  119.842852  \n",
       "37386  610.677250 -6.085314e+09  5.470015e+09  119.842852  \n",
       "37387  614.424625 -3.054305e+06  2.585303e+09  119.842852  \n",
       "37388  618.172063 -6.291559e+07  3.149805e+09  119.842852  \n",
       "\n",
       "[37389 rows x 20 columns]"
      ]
     },
     "execution_count": 301,
     "metadata": {},
     "output_type": "execute_result"
    }
   ],
   "source": [
    "radar = (Table.read(radar_list[i], path='Data/Table Layout')).to_pandas()\n",
    "\n",
    "radar\n"
   ]
  },
  {
   "cell_type": "code",
   "execution_count": 310,
   "id": "e5d5b423",
   "metadata": {},
   "outputs": [],
   "source": [
    "month = radar.month[0]"
   ]
  },
  {
   "cell_type": "code",
   "execution_count": 337,
   "id": "56439cc8",
   "metadata": {},
   "outputs": [],
   "source": [
    "teste = ['gyaga']"
   ]
  },
  {
   "cell_type": "code",
   "execution_count": 338,
   "id": "db049478",
   "metadata": {},
   "outputs": [
    {
     "data": {
      "text/plain": [
       "['gyaga']"
      ]
     },
     "execution_count": 338,
     "metadata": {},
     "output_type": "execute_result"
    }
   ],
   "source": [
    "teste"
   ]
  },
  {
   "cell_type": "code",
   "execution_count": 339,
   "id": "7921a6c2",
   "metadata": {},
   "outputs": [
    {
     "data": {
      "text/plain": [
       "1"
      ]
     },
     "execution_count": 339,
     "metadata": {},
     "output_type": "execute_result"
    }
   ],
   "source": [
    "len(teste)"
   ]
  },
  {
   "cell_type": "code",
   "execution_count": null,
   "id": "d4eeece9",
   "metadata": {},
   "outputs": [],
   "source": []
  },
  {
   "cell_type": "code",
   "execution_count": 320,
   "id": "63e11324",
   "metadata": {},
   "outputs": [
    {
     "data": {
      "text/plain": [
       "'2018-01-26'"
      ]
     },
     "execution_count": 320,
     "metadata": {},
     "output_type": "execute_result"
    }
   ],
   "source": [
    "import datetime\n",
    "datetime.datetime(radar.year[0],radar.month[0],radar.day[0]).strftime('%Y-%m-%d')\n",
    "# (().strftime('%Y-%m-%d'))"
   ]
  },
  {
   "cell_type": "code",
   "execution_count": 330,
   "id": "8920664d",
   "metadata": {},
   "outputs": [
    {
     "data": {
      "text/plain": [
       "'../data/external/Madrigal/2018-2021/MillstoneHillISRadar/mlh180827g.003.hdf5'"
      ]
     },
     "execution_count": 330,
     "metadata": {},
     "output_type": "execute_result"
    }
   ],
   "source": [
    "radar_list[5000]"
   ]
  },
  {
   "cell_type": "code",
   "execution_count": 361,
   "id": "5fa6b987",
   "metadata": {},
   "outputs": [],
   "source": [
    "i=0\n",
    "radar_metadata = (Table.read(radar_list[i], path='Metadata/Experiment Parameters')).to_pandas()\n",
    "\n",
    "names = np.array([x.decode() for x in radar_metadata['name']])\n",
    "values = np.array([x.decode() for x in radar_metadata['value']])\n",
    "\n",
    "radar_metadata = pd.DataFrame({'name': names,\n",
    "                  'value': values})"
   ]
  },
  {
   "cell_type": "code",
   "execution_count": 367,
   "id": "b17d75a6",
   "metadata": {},
   "outputs": [
    {
     "data": {
      "text/plain": [
       "8    18.345\n",
       "Name: value, dtype: object"
      ]
     },
     "execution_count": 367,
     "metadata": {},
     "output_type": "execute_result"
    }
   ],
   "source": [
    "radar_metadata[radar_metadata['name'] == 'instrument latitude']['value']"
   ]
  },
  {
   "cell_type": "code",
   "execution_count": 378,
   "id": "99514563",
   "metadata": {},
   "outputs": [],
   "source": [
    "gf_file = gf_list[9]\n",
    "gf = pd.read_csv(grf_file, sep='\\s+', header=0,index_col=False, names=headerlist)\n",
    "gf['dates'] = (Time(gf['CDF Epoch'].values, format='cdf_epoch')).datetime"
   ]
  },
  {
   "cell_type": "code",
   "execution_count": 379,
   "id": "f946f868",
   "metadata": {},
   "outputs": [
    {
     "data": {
      "text/plain": [
       "Index(['CDF Epoch', 'GPS', 'Latitude', 'Longitude', 'Radius', 'Latitude_QD',\n",
       "       'Longitude_QD', 'MLT GRACE_1_Position', 'GRACE_2_Position', 'Iono_Corr',\n",
       "       'Distance', 'Relative_Hor_TEC', 'Relative_Ne', 'dates'],\n",
       "      dtype='object')"
      ]
     },
     "execution_count": 379,
     "metadata": {},
     "output_type": "execute_result"
    }
   ],
   "source": [
    "gf.columns"
   ]
  },
  {
   "cell_type": "code",
   "execution_count": null,
   "id": "eb7dc44c",
   "metadata": {},
   "outputs": [],
   "source": [
    "i = 17\n",
    "\n",
    "\n",
    "\n"
   ]
  },
  {
   "cell_type": "code",
   "execution_count": null,
   "id": "f4fdeb44",
   "metadata": {},
   "outputs": [],
   "source": []
  },
  {
   "cell_type": "code",
   "execution_count": null,
   "id": "e942c5a6",
   "metadata": {},
   "outputs": [],
   "source": []
  },
  {
   "cell_type": "code",
   "execution_count": 38,
   "id": "860ebe61",
   "metadata": {},
   "outputs": [],
   "source": [
    "# parameters\n",
    "\n",
    "spatial_window = 5 # km\n",
    "temporal_window = 15 # min\n",
    "\n",
    "GRf_freq = 5 # sec\n",
    "\n",
    "MLH_lat = 42.61 # degrees\n",
    "MLH_lon = -71.49 # degrees\n",
    "MLH_timeUTC = -5 # hours\n"
   ]
  },
  {
   "cell_type": "code",
   "execution_count": 198,
   "id": "11cafc55",
   "metadata": {},
   "outputs": [
    {
     "name": "stderr",
     "output_type": "stream",
     "text": [
      "\r",
      "  0%|          | 0/500 [00:00<?, ?it/s]"
     ]
    },
    {
     "name": "stdout",
     "output_type": "stream",
     "text": [
      "0\n"
     ]
    },
    {
     "name": "stderr",
     "output_type": "stream",
     "text": [
      "  1%|          | 3/500 [00:02<05:45,  1.44it/s]"
     ]
    },
    {
     "name": "stdout",
     "output_type": "stream",
     "text": [
      "1\n",
      "2\n",
      "3\n",
      "4\n"
     ]
    },
    {
     "name": "stderr",
     "output_type": "stream",
     "text": [
      "  2%|▏         | 8/500 [00:02<01:45,  4.66it/s]"
     ]
    },
    {
     "name": "stdout",
     "output_type": "stream",
     "text": [
      "5\n",
      "6\n",
      "7\n",
      "8\n"
     ]
    },
    {
     "name": "stderr",
     "output_type": "stream",
     "text": [
      "\r",
      "  2%|▏         | 10/500 [00:03<01:26,  5.65it/s]"
     ]
    },
    {
     "name": "stdout",
     "output_type": "stream",
     "text": [
      "9\n",
      "Empty DataFrame\n",
      "Columns: [CDF Epoch, GPS, Latitude, Longitude, Radius, Latitude_QD, Longitude_QD, MLT GRACE_1_Position, GRACE_2_Position, Iono_Corr, Distance, Relative_Hor_TEC, Relative_Ne, dates]\n",
      "Index: []\n",
      "10\n",
      "11\n"
     ]
    },
    {
     "name": "stderr",
     "output_type": "stream",
     "text": [
      "  3%|▎         | 14/500 [00:03<00:59,  8.22it/s]"
     ]
    },
    {
     "name": "stdout",
     "output_type": "stream",
     "text": [
      "12\n",
      "13\n",
      "14\n"
     ]
    },
    {
     "name": "stderr",
     "output_type": "stream",
     "text": [
      "\r",
      "  3%|▎         | 16/500 [00:03<00:49,  9.82it/s]"
     ]
    },
    {
     "name": "stdout",
     "output_type": "stream",
     "text": [
      "15\n",
      "16\n",
      "17\n"
     ]
    },
    {
     "name": "stderr",
     "output_type": "stream",
     "text": [
      "  4%|▍         | 21/500 [00:03<00:33, 14.27it/s]"
     ]
    },
    {
     "name": "stdout",
     "output_type": "stream",
     "text": [
      "18\n",
      "19\n",
      "20\n",
      "21\n",
      "22\n"
     ]
    },
    {
     "name": "stderr",
     "output_type": "stream",
     "text": [
      "  5%|▌         | 25/500 [00:04<00:33, 14.09it/s]"
     ]
    },
    {
     "name": "stdout",
     "output_type": "stream",
     "text": [
      "23\n",
      "24\n",
      "25\n"
     ]
    },
    {
     "name": "stderr",
     "output_type": "stream",
     "text": [
      "\r",
      "  5%|▌         | 27/500 [00:04<00:30, 15.27it/s]"
     ]
    },
    {
     "name": "stdout",
     "output_type": "stream",
     "text": [
      "26\n",
      "27\n",
      "28\n"
     ]
    },
    {
     "name": "stderr",
     "output_type": "stream",
     "text": [
      "  6%|▌         | 31/500 [00:04<00:34, 13.60it/s]"
     ]
    },
    {
     "name": "stdout",
     "output_type": "stream",
     "text": [
      "29\n",
      "30\n",
      "31\n",
      "32\n",
      "33\n"
     ]
    },
    {
     "name": "stderr",
     "output_type": "stream",
     "text": [
      "\r",
      "  7%|▋         | 34/500 [00:04<00:29, 15.90it/s]"
     ]
    },
    {
     "name": "stdout",
     "output_type": "stream",
     "text": [
      "34\n",
      "35\n",
      "36\n",
      "37\n"
     ]
    },
    {
     "name": "stderr",
     "output_type": "stream",
     "text": [
      "  8%|▊         | 40/500 [00:05<00:27, 16.89it/s]"
     ]
    },
    {
     "name": "stdout",
     "output_type": "stream",
     "text": [
      "38\n",
      "39\n",
      "40\n"
     ]
    },
    {
     "name": "stderr",
     "output_type": "stream",
     "text": [
      "\r",
      "  8%|▊         | 42/500 [00:05<00:29, 15.59it/s]"
     ]
    },
    {
     "name": "stdout",
     "output_type": "stream",
     "text": [
      "41\n",
      "42\n",
      "43\n"
     ]
    },
    {
     "name": "stderr",
     "output_type": "stream",
     "text": [
      "  9%|▉         | 46/500 [00:05<00:34, 13.26it/s]"
     ]
    },
    {
     "name": "stdout",
     "output_type": "stream",
     "text": [
      "44\n",
      "45\n",
      "46\n"
     ]
    },
    {
     "name": "stderr",
     "output_type": "stream",
     "text": [
      "\r",
      " 10%|▉         | 49/500 [00:05<00:30, 14.72it/s]"
     ]
    },
    {
     "name": "stdout",
     "output_type": "stream",
     "text": [
      "47\n",
      "48\n",
      "49\n"
     ]
    },
    {
     "name": "stderr",
     "output_type": "stream",
     "text": [
      " 11%|█         | 54/500 [00:06<00:38, 11.68it/s]"
     ]
    },
    {
     "name": "stdout",
     "output_type": "stream",
     "text": [
      "50\n",
      "51\n",
      "52\n",
      "53\n",
      "54\n"
     ]
    },
    {
     "name": "stderr",
     "output_type": "stream",
     "text": [
      "\r",
      " 11%|█         | 56/500 [00:06<00:41, 10.65it/s]"
     ]
    },
    {
     "name": "stdout",
     "output_type": "stream",
     "text": [
      "55\n",
      "56\n",
      "57\n"
     ]
    },
    {
     "name": "stderr",
     "output_type": "stream",
     "text": [
      "\r",
      " 12%|█▏        | 59/500 [00:06<00:33, 13.20it/s]"
     ]
    },
    {
     "name": "stdout",
     "output_type": "stream",
     "text": [
      "58\n",
      "59\n",
      "60\n"
     ]
    },
    {
     "name": "stderr",
     "output_type": "stream",
     "text": [
      " 13%|█▎        | 63/500 [00:06<00:31, 13.98it/s]"
     ]
    },
    {
     "name": "stdout",
     "output_type": "stream",
     "text": [
      "61\n",
      "62\n",
      "63\n"
     ]
    },
    {
     "name": "stderr",
     "output_type": "stream",
     "text": [
      "\r",
      " 13%|█▎        | 65/500 [00:07<00:34, 12.52it/s]"
     ]
    },
    {
     "name": "stdout",
     "output_type": "stream",
     "text": [
      "Empty DataFrame\n",
      "Columns: [CDF Epoch, GPS, Latitude, Longitude, Radius, Latitude_QD, Longitude_QD, MLT GRACE_1_Position, GRACE_2_Position, Iono_Corr, Distance, Relative_Hor_TEC, Relative_Ne, dates]\n",
      "Index: []\n",
      "64\n",
      "65\n",
      "66\n"
     ]
    },
    {
     "name": "stderr",
     "output_type": "stream",
     "text": [
      "\r",
      " 13%|█▎        | 67/500 [00:07<00:33, 12.81it/s]"
     ]
    },
    {
     "name": "stdout",
     "output_type": "stream",
     "text": [
      "67\n",
      "68\n",
      "69\n"
     ]
    },
    {
     "name": "stderr",
     "output_type": "stream",
     "text": [
      " 15%|█▍        | 73/500 [00:07<00:29, 14.43it/s]"
     ]
    },
    {
     "name": "stdout",
     "output_type": "stream",
     "text": [
      "Empty DataFrame\n",
      "Columns: [CDF Epoch, GPS, Latitude, Longitude, Radius, Latitude_QD, Longitude_QD, MLT GRACE_1_Position, GRACE_2_Position, Iono_Corr, Distance, Relative_Hor_TEC, Relative_Ne, dates]\n",
      "Index: []\n",
      "70\n",
      "71\n",
      "72\n",
      "73\n"
     ]
    },
    {
     "name": "stderr",
     "output_type": "stream",
     "text": [
      "\r",
      " 15%|█▌        | 76/500 [00:07<00:25, 16.66it/s]"
     ]
    },
    {
     "name": "stdout",
     "output_type": "stream",
     "text": [
      "74\n",
      "75\n",
      "76\n"
     ]
    },
    {
     "name": "stderr",
     "output_type": "stream",
     "text": [
      "\r",
      " 16%|█▌        | 78/500 [00:08<00:31, 13.34it/s]"
     ]
    },
    {
     "name": "stdout",
     "output_type": "stream",
     "text": [
      "77\n",
      "78\n",
      "79\n"
     ]
    },
    {
     "name": "stderr",
     "output_type": "stream",
     "text": [
      " 17%|█▋        | 83/500 [00:08<00:26, 15.54it/s]"
     ]
    },
    {
     "name": "stdout",
     "output_type": "stream",
     "text": [
      "80\n",
      "81\n",
      "82\n",
      "83\n"
     ]
    },
    {
     "name": "stderr",
     "output_type": "stream",
     "text": [
      "\r",
      " 17%|█▋        | 87/500 [00:08<00:21, 19.53it/s]"
     ]
    },
    {
     "name": "stdout",
     "output_type": "stream",
     "text": [
      "84\n",
      "85\n",
      "86\n",
      "87\n",
      "88\n"
     ]
    },
    {
     "name": "stderr",
     "output_type": "stream",
     "text": [
      " 18%|█▊        | 92/500 [00:08<00:23, 17.17it/s]"
     ]
    },
    {
     "name": "stdout",
     "output_type": "stream",
     "text": [
      "89\n",
      "90\n",
      "91\n",
      "92\n"
     ]
    },
    {
     "name": "stderr",
     "output_type": "stream",
     "text": [
      "\r",
      " 19%|█▉        | 94/500 [00:09<00:30, 13.48it/s]"
     ]
    },
    {
     "name": "stdout",
     "output_type": "stream",
     "text": [
      "93\n",
      "94\n"
     ]
    },
    {
     "name": "stderr",
     "output_type": "stream",
     "text": [
      "\r",
      " 19%|█▉        | 96/500 [00:09<00:32, 12.28it/s]"
     ]
    },
    {
     "name": "stdout",
     "output_type": "stream",
     "text": [
      "95\n",
      "96\n",
      "97\n",
      "98\n"
     ]
    },
    {
     "name": "stderr",
     "output_type": "stream",
     "text": [
      " 20%|██        | 102/500 [00:09<00:24, 16.56it/s]"
     ]
    },
    {
     "name": "stdout",
     "output_type": "stream",
     "text": [
      "99\n",
      "100\n",
      "101\n",
      "102\n"
     ]
    },
    {
     "name": "stderr",
     "output_type": "stream",
     "text": [
      " 21%|██        | 106/500 [00:09<00:23, 16.55it/s]"
     ]
    },
    {
     "name": "stdout",
     "output_type": "stream",
     "text": [
      "103\n",
      "104\n",
      "105\n",
      "106\n",
      "107\n"
     ]
    },
    {
     "name": "stderr",
     "output_type": "stream",
     "text": [
      "\r",
      " 22%|██▏       | 108/500 [00:09<00:23, 16.90it/s]"
     ]
    },
    {
     "name": "stdout",
     "output_type": "stream",
     "text": [
      "108\n",
      "109\n"
     ]
    },
    {
     "name": "stderr",
     "output_type": "stream",
     "text": [
      " 22%|██▏       | 112/500 [00:10<00:28, 13.72it/s]"
     ]
    },
    {
     "name": "stdout",
     "output_type": "stream",
     "text": [
      "Empty DataFrame\n",
      "Columns: [CDF Epoch, GPS, Latitude, Longitude, Radius, Latitude_QD, Longitude_QD, MLT GRACE_1_Position, GRACE_2_Position, Iono_Corr, Distance, Relative_Hor_TEC, Relative_Ne, dates]\n",
      "Index: []\n",
      "110\n",
      "111\n",
      "112\n",
      "113\n"
     ]
    },
    {
     "name": "stderr",
     "output_type": "stream",
     "text": [
      "\r",
      " 23%|██▎       | 115/500 [00:10<00:28, 13.49it/s]"
     ]
    },
    {
     "name": "stdout",
     "output_type": "stream",
     "text": [
      "114\n",
      "115\n",
      "116\n"
     ]
    },
    {
     "name": "stderr",
     "output_type": "stream",
     "text": [
      "\r",
      " 23%|██▎       | 117/500 [00:10<00:30, 12.76it/s]"
     ]
    },
    {
     "name": "stdout",
     "output_type": "stream",
     "text": [
      "117\n",
      "Empty DataFrame\n",
      "Columns: [CDF Epoch, GPS, Latitude, Longitude, Radius, Latitude_QD, Longitude_QD, MLT GRACE_1_Position, GRACE_2_Position, Iono_Corr, Distance, Relative_Hor_TEC, Relative_Ne, dates]\n",
      "Index: []\n",
      "118\n"
     ]
    },
    {
     "name": "stderr",
     "output_type": "stream",
     "text": [
      " 24%|██▍       | 122/500 [00:11<00:27, 13.99it/s]"
     ]
    },
    {
     "name": "stdout",
     "output_type": "stream",
     "text": [
      "119\n",
      "120\n",
      "121\n",
      "122\n",
      "123\n"
     ]
    },
    {
     "name": "stderr",
     "output_type": "stream",
     "text": [
      "\r",
      " 25%|██▌       | 125/500 [00:11<00:23, 15.94it/s]"
     ]
    },
    {
     "name": "stdout",
     "output_type": "stream",
     "text": [
      "124\n",
      "125\n",
      "126\n"
     ]
    },
    {
     "name": "stderr",
     "output_type": "stream",
     "text": [
      "\r",
      " 25%|██▌       | 127/500 [00:11<00:24, 15.08it/s]"
     ]
    },
    {
     "name": "stdout",
     "output_type": "stream",
     "text": [
      "127\n",
      "128\n"
     ]
    },
    {
     "name": "stderr",
     "output_type": "stream",
     "text": [
      " 27%|██▋       | 133/500 [00:11<00:22, 16.03it/s]"
     ]
    },
    {
     "name": "stdout",
     "output_type": "stream",
     "text": [
      "Empty DataFrame\n",
      "Columns: [CDF Epoch, GPS, Latitude, Longitude, Radius, Latitude_QD, Longitude_QD, MLT GRACE_1_Position, GRACE_2_Position, Iono_Corr, Distance, Relative_Hor_TEC, Relative_Ne, dates]\n",
      "Index: []\n",
      "129\n",
      "130\n",
      "131\n",
      "132\n",
      "133\n",
      "134\n"
     ]
    },
    {
     "name": "stderr",
     "output_type": "stream",
     "text": [
      " 28%|██▊       | 138/500 [00:12<00:24, 14.99it/s]"
     ]
    },
    {
     "name": "stdout",
     "output_type": "stream",
     "text": [
      "135\n",
      "136\n",
      "137\n",
      "138\n"
     ]
    },
    {
     "name": "stderr",
     "output_type": "stream",
     "text": [
      "\r",
      " 28%|██▊       | 141/500 [00:12<00:20, 17.48it/s]"
     ]
    },
    {
     "name": "stdout",
     "output_type": "stream",
     "text": [
      "139\n",
      "140\n",
      "141\n",
      "142\n",
      "143\n"
     ]
    },
    {
     "name": "stderr",
     "output_type": "stream",
     "text": [
      "\r",
      " 29%|██▉       | 144/500 [00:12<00:20, 17.05it/s]"
     ]
    },
    {
     "name": "stdout",
     "output_type": "stream",
     "text": [
      "144\n",
      "Empty DataFrame\n",
      "Columns: [CDF Epoch, GPS, Latitude, Longitude, Radius, Latitude_QD, Longitude_QD, MLT GRACE_1_Position, GRACE_2_Position, Iono_Corr, Distance, Relative_Hor_TEC, Relative_Ne, dates]\n",
      "Index: []\n",
      "145\n"
     ]
    },
    {
     "name": "stderr",
     "output_type": "stream",
     "text": [
      "\r",
      " 29%|██▉       | 146/500 [00:12<00:24, 14.36it/s]"
     ]
    },
    {
     "name": "stdout",
     "output_type": "stream",
     "text": [
      "146\n",
      "147\n"
     ]
    },
    {
     "name": "stderr",
     "output_type": "stream",
     "text": [
      " 30%|███       | 150/500 [00:13<00:43,  7.96it/s]"
     ]
    },
    {
     "name": "stdout",
     "output_type": "stream",
     "text": [
      "148\n",
      "149\n",
      "150\n",
      "151\n"
     ]
    },
    {
     "name": "stderr",
     "output_type": "stream",
     "text": [
      "\r",
      " 31%|███       | 154/500 [00:13<00:30, 11.48it/s]"
     ]
    },
    {
     "name": "stdout",
     "output_type": "stream",
     "text": [
      "152\n",
      "153\n",
      "154\n",
      "155\n",
      "156\n"
     ]
    },
    {
     "name": "stderr",
     "output_type": "stream",
     "text": [
      " 32%|███▏      | 160/500 [00:13<00:23, 14.66it/s]"
     ]
    },
    {
     "name": "stdout",
     "output_type": "stream",
     "text": [
      "157\n",
      "158\n",
      "159\n",
      "160\n",
      "161\n"
     ]
    },
    {
     "name": "stderr",
     "output_type": "stream",
     "text": [
      " 33%|███▎      | 165/500 [00:14<00:19, 17.05it/s]"
     ]
    },
    {
     "name": "stdout",
     "output_type": "stream",
     "text": [
      "162\n",
      "163\n",
      "164\n",
      "165\n"
     ]
    },
    {
     "name": "stderr",
     "output_type": "stream",
     "text": [
      "\r",
      " 33%|███▎      | 167/500 [00:14<00:22, 14.75it/s]"
     ]
    },
    {
     "name": "stdout",
     "output_type": "stream",
     "text": [
      "166\n",
      "167\n",
      "168\n"
     ]
    },
    {
     "name": "stderr",
     "output_type": "stream",
     "text": [
      " 34%|███▍      | 171/500 [00:14<00:23, 14.18it/s]"
     ]
    },
    {
     "name": "stdout",
     "output_type": "stream",
     "text": [
      "169\n",
      "170\n",
      "171\n",
      "172\n",
      "173\n"
     ]
    },
    {
     "name": "stderr",
     "output_type": "stream",
     "text": [
      " 35%|███▌      | 176/500 [00:15<00:22, 14.39it/s]"
     ]
    },
    {
     "name": "stdout",
     "output_type": "stream",
     "text": [
      "174\n",
      "175\n",
      "176\n"
     ]
    },
    {
     "name": "stderr",
     "output_type": "stream",
     "text": [
      "\r",
      " 36%|███▌      | 178/500 [00:15<00:21, 14.89it/s]"
     ]
    },
    {
     "name": "stdout",
     "output_type": "stream",
     "text": [
      "177\n",
      "178\n",
      "179\n"
     ]
    },
    {
     "name": "stderr",
     "output_type": "stream",
     "text": [
      "\r",
      " 36%|███▌      | 180/500 [00:15<00:24, 12.97it/s]"
     ]
    },
    {
     "name": "stdout",
     "output_type": "stream",
     "text": [
      "180\n",
      "181\n"
     ]
    },
    {
     "name": "stderr",
     "output_type": "stream",
     "text": [
      " 37%|███▋      | 184/500 [00:16<00:36,  8.67it/s]"
     ]
    },
    {
     "name": "stdout",
     "output_type": "stream",
     "text": [
      "182\n",
      "183\n",
      "184\n",
      "185\n",
      "186\n"
     ]
    },
    {
     "name": "stderr",
     "output_type": "stream",
     "text": [
      " 38%|███▊      | 190/500 [00:16<00:24, 12.86it/s]"
     ]
    },
    {
     "name": "stdout",
     "output_type": "stream",
     "text": [
      "187\n",
      "188\n",
      "189\n",
      "190\n",
      "191\n"
     ]
    },
    {
     "name": "stderr",
     "output_type": "stream",
     "text": [
      " 39%|███▉      | 195/500 [00:16<00:20, 15.05it/s]"
     ]
    },
    {
     "name": "stdout",
     "output_type": "stream",
     "text": [
      "192\n",
      "193\n",
      "194\n",
      "195\n"
     ]
    },
    {
     "name": "stderr",
     "output_type": "stream",
     "text": [
      "\r",
      " 40%|███▉      | 198/500 [00:16<00:16, 17.92it/s]"
     ]
    },
    {
     "name": "stdout",
     "output_type": "stream",
     "text": [
      "196\n",
      "197\n",
      "198\n",
      "199\n"
     ]
    },
    {
     "name": "stderr",
     "output_type": "stream",
     "text": [
      "\r",
      " 40%|████      | 201/500 [00:16<00:19, 15.73it/s]"
     ]
    },
    {
     "name": "stdout",
     "output_type": "stream",
     "text": [
      "200\n",
      "201\n",
      "202\n",
      "203\n"
     ]
    },
    {
     "name": "stderr",
     "output_type": "stream",
     "text": [
      "\r",
      " 41%|████      | 204/500 [00:17<00:17, 16.80it/s]"
     ]
    },
    {
     "name": "stdout",
     "output_type": "stream",
     "text": [
      "204\n",
      "205\n"
     ]
    },
    {
     "name": "stderr",
     "output_type": "stream",
     "text": [
      " 42%|████▏     | 208/500 [00:17<00:21, 13.67it/s]"
     ]
    },
    {
     "name": "stdout",
     "output_type": "stream",
     "text": [
      "Empty DataFrame\n",
      "Columns: [CDF Epoch, GPS, Latitude, Longitude, Radius, Latitude_QD, Longitude_QD, MLT GRACE_1_Position, GRACE_2_Position, Iono_Corr, Distance, Relative_Hor_TEC, Relative_Ne, dates]\n",
      "Index: []\n",
      "206\n",
      "207\n",
      "208\n"
     ]
    },
    {
     "name": "stderr",
     "output_type": "stream",
     "text": [
      "\r",
      " 42%|████▏     | 210/500 [00:17<00:25, 11.45it/s]"
     ]
    },
    {
     "name": "stdout",
     "output_type": "stream",
     "text": [
      "209\n",
      "Empty DataFrame\n",
      "Columns: [CDF Epoch, GPS, Latitude, Longitude, Radius, Latitude_QD, Longitude_QD, MLT GRACE_1_Position, GRACE_2_Position, Iono_Corr, Distance, Relative_Hor_TEC, Relative_Ne, dates]\n",
      "Index: []\n",
      "210\n"
     ]
    },
    {
     "name": "stderr",
     "output_type": "stream",
     "text": [
      "\r",
      " 42%|████▏     | 212/500 [00:18<00:30,  9.55it/s]"
     ]
    },
    {
     "name": "stdout",
     "output_type": "stream",
     "text": [
      "Empty DataFrame\n",
      "Columns: [CDF Epoch, GPS, Latitude, Longitude, Radius, Latitude_QD, Longitude_QD, MLT GRACE_1_Position, GRACE_2_Position, Iono_Corr, Distance, Relative_Hor_TEC, Relative_Ne, dates]\n",
      "Index: []\n",
      "211\n",
      "212\n",
      "213\n"
     ]
    },
    {
     "name": "stderr",
     "output_type": "stream",
     "text": [
      " 43%|████▎     | 216/500 [00:18<00:22, 12.39it/s]"
     ]
    },
    {
     "name": "stdout",
     "output_type": "stream",
     "text": [
      "214\n",
      "215\n",
      "216\n",
      "217\n",
      "218\n"
     ]
    },
    {
     "name": "stderr",
     "output_type": "stream",
     "text": [
      " 44%|████▍     | 222/500 [00:18<00:15, 18.19it/s]"
     ]
    },
    {
     "name": "stdout",
     "output_type": "stream",
     "text": [
      "219\n",
      "220\n",
      "221\n",
      "222\n",
      "223\n"
     ]
    },
    {
     "name": "stderr",
     "output_type": "stream",
     "text": [
      "\r",
      " 45%|████▌     | 225/500 [00:18<00:17, 16.01it/s]"
     ]
    },
    {
     "name": "stdout",
     "output_type": "stream",
     "text": [
      "224\n",
      "225\n",
      "226\n"
     ]
    },
    {
     "name": "stderr",
     "output_type": "stream",
     "text": [
      " 46%|████▌     | 231/500 [00:19<00:13, 19.97it/s]"
     ]
    },
    {
     "name": "stdout",
     "output_type": "stream",
     "text": [
      "227\n",
      "228\n",
      "229\n",
      "230\n",
      "231\n"
     ]
    },
    {
     "name": "stderr",
     "output_type": "stream",
     "text": [
      "\r",
      " 47%|████▋     | 234/500 [00:19<00:14, 18.13it/s]"
     ]
    },
    {
     "name": "stdout",
     "output_type": "stream",
     "text": [
      "232\n",
      "233\n",
      "234\n",
      "235\n"
     ]
    },
    {
     "name": "stderr",
     "output_type": "stream",
     "text": [
      " 48%|████▊     | 239/500 [00:19<00:16, 15.54it/s]"
     ]
    },
    {
     "name": "stdout",
     "output_type": "stream",
     "text": [
      "236\n",
      "237\n",
      "238\n",
      "239\n"
     ]
    },
    {
     "name": "stderr",
     "output_type": "stream",
     "text": [
      "\r",
      " 48%|████▊     | 242/500 [00:19<00:15, 16.29it/s]"
     ]
    },
    {
     "name": "stdout",
     "output_type": "stream",
     "text": [
      "240\n",
      "241\n",
      "242\n"
     ]
    },
    {
     "name": "stderr",
     "output_type": "stream",
     "text": [
      "\r",
      " 49%|████▉     | 244/500 [00:19<00:16, 15.14it/s]"
     ]
    },
    {
     "name": "stdout",
     "output_type": "stream",
     "text": [
      "243\n",
      "244\n",
      "245\n"
     ]
    },
    {
     "name": "stderr",
     "output_type": "stream",
     "text": [
      " 50%|████▉     | 248/500 [00:20<00:18, 13.99it/s]"
     ]
    },
    {
     "name": "stdout",
     "output_type": "stream",
     "text": [
      "Empty DataFrame\n",
      "Columns: [CDF Epoch, GPS, Latitude, Longitude, Radius, Latitude_QD, Longitude_QD, MLT GRACE_1_Position, GRACE_2_Position, Iono_Corr, Distance, Relative_Hor_TEC, Relative_Ne, dates]\n",
      "Index: []\n",
      "246\n",
      "247\n",
      "248\n",
      "249\n"
     ]
    },
    {
     "name": "stderr",
     "output_type": "stream",
     "text": [
      "\r",
      " 50%|█████     | 251/500 [00:20<00:17, 13.87it/s]"
     ]
    },
    {
     "name": "stdout",
     "output_type": "stream",
     "text": [
      "250\n",
      "251\n",
      "252\n"
     ]
    },
    {
     "name": "stderr",
     "output_type": "stream",
     "text": [
      "\r",
      " 51%|█████     | 253/500 [00:20<00:18, 13.62it/s]"
     ]
    },
    {
     "name": "stdout",
     "output_type": "stream",
     "text": [
      "253\n",
      "254\n"
     ]
    },
    {
     "name": "stderr",
     "output_type": "stream",
     "text": [
      " 52%|█████▏    | 258/500 [00:26<02:05,  1.92it/s]"
     ]
    },
    {
     "name": "stdout",
     "output_type": "stream",
     "text": [
      "255\n",
      "256\n",
      "257\n",
      "258\n",
      "259\n"
     ]
    },
    {
     "name": "stderr",
     "output_type": "stream",
     "text": [
      " 52%|█████▏    | 262/500 [00:26<01:17,  3.09it/s]"
     ]
    },
    {
     "name": "stdout",
     "output_type": "stream",
     "text": [
      "260\n",
      "261\n",
      "262\n"
     ]
    },
    {
     "name": "stderr",
     "output_type": "stream",
     "text": [
      " 53%|█████▎    | 266/500 [00:26<00:46,  5.06it/s]"
     ]
    },
    {
     "name": "stdout",
     "output_type": "stream",
     "text": [
      "263\n",
      "264\n",
      "265\n",
      "266\n"
     ]
    },
    {
     "name": "stderr",
     "output_type": "stream",
     "text": [
      "\r",
      " 54%|█████▎    | 268/500 [00:27<00:39,  5.93it/s]"
     ]
    },
    {
     "name": "stdout",
     "output_type": "stream",
     "text": [
      "Empty DataFrame\n",
      "Columns: [CDF Epoch, GPS, Latitude, Longitude, Radius, Latitude_QD, Longitude_QD, MLT GRACE_1_Position, GRACE_2_Position, Iono_Corr, Distance, Relative_Hor_TEC, Relative_Ne, dates]\n",
      "Index: []\n",
      "267\n",
      "268\n",
      "269\n",
      "270\n"
     ]
    },
    {
     "name": "stderr",
     "output_type": "stream",
     "text": [
      " 55%|█████▍    | 274/500 [00:27<00:23,  9.51it/s]"
     ]
    },
    {
     "name": "stdout",
     "output_type": "stream",
     "text": [
      "271\n",
      "272\n",
      "273\n",
      "274\n"
     ]
    },
    {
     "name": "stderr",
     "output_type": "stream",
     "text": [
      "\r",
      " 55%|█████▌    | 276/500 [00:27<00:20, 10.93it/s]"
     ]
    },
    {
     "name": "stdout",
     "output_type": "stream",
     "text": [
      "275\n",
      "276\n",
      "277\n"
     ]
    },
    {
     "name": "stderr",
     "output_type": "stream",
     "text": [
      " 56%|█████▌    | 281/500 [00:27<00:17, 12.51it/s]"
     ]
    },
    {
     "name": "stdout",
     "output_type": "stream",
     "text": [
      "278\n",
      "279\n",
      "280\n",
      "281\n"
     ]
    },
    {
     "name": "stderr",
     "output_type": "stream",
     "text": [
      " 57%|█████▋    | 285/500 [00:28<00:17, 12.15it/s]"
     ]
    },
    {
     "name": "stdout",
     "output_type": "stream",
     "text": [
      "Empty DataFrame\n",
      "Columns: [CDF Epoch, GPS, Latitude, Longitude, Radius, Latitude_QD, Longitude_QD, MLT GRACE_1_Position, GRACE_2_Position, Iono_Corr, Distance, Relative_Hor_TEC, Relative_Ne, dates]\n",
      "Index: []\n",
      "282\n",
      "283\n",
      "284\n",
      "285\n"
     ]
    },
    {
     "name": "stderr",
     "output_type": "stream",
     "text": [
      " 58%|█████▊    | 289/500 [00:28<00:15, 13.72it/s]"
     ]
    },
    {
     "name": "stdout",
     "output_type": "stream",
     "text": [
      "286\n",
      "287\n",
      "288\n",
      "289\n",
      "290\n"
     ]
    },
    {
     "name": "stderr",
     "output_type": "stream",
     "text": [
      "\r",
      " 58%|█████▊    | 291/500 [00:28<00:15, 13.18it/s]"
     ]
    },
    {
     "name": "stdout",
     "output_type": "stream",
     "text": [
      "291\n",
      "292\n"
     ]
    },
    {
     "name": "stderr",
     "output_type": "stream",
     "text": [
      " 59%|█████▉    | 294/500 [00:32<01:49,  1.89it/s]"
     ]
    },
    {
     "name": "stdout",
     "output_type": "stream",
     "text": [
      "293\n",
      "294\n"
     ]
    },
    {
     "name": "stderr",
     "output_type": "stream",
     "text": [
      " 60%|█████▉    | 298/500 [00:32<00:54,  3.69it/s]"
     ]
    },
    {
     "name": "stdout",
     "output_type": "stream",
     "text": [
      "Empty DataFrame\n",
      "Columns: [CDF Epoch, GPS, Latitude, Longitude, Radius, Latitude_QD, Longitude_QD, MLT GRACE_1_Position, GRACE_2_Position, Iono_Corr, Distance, Relative_Hor_TEC, Relative_Ne, dates]\n",
      "Index: []\n",
      "295\n",
      "296\n",
      "297\n",
      "298\n"
     ]
    },
    {
     "name": "stderr",
     "output_type": "stream",
     "text": [
      "\r",
      " 60%|██████    | 301/500 [00:33<00:35,  5.64it/s]"
     ]
    },
    {
     "name": "stdout",
     "output_type": "stream",
     "text": [
      "299\n",
      "300\n",
      "301\n",
      "302\n"
     ]
    },
    {
     "name": "stderr",
     "output_type": "stream",
     "text": [
      " 61%|██████▏   | 307/500 [00:33<00:19,  9.83it/s]"
     ]
    },
    {
     "name": "stdout",
     "output_type": "stream",
     "text": [
      "303\n",
      "304\n",
      "305\n",
      "306\n",
      "307\n"
     ]
    },
    {
     "name": "stderr",
     "output_type": "stream",
     "text": [
      "\r",
      " 62%|██████▏   | 310/500 [00:33<00:16, 11.79it/s]"
     ]
    },
    {
     "name": "stdout",
     "output_type": "stream",
     "text": [
      "308\n",
      "309\n",
      "310\n",
      "311\n",
      "312\n"
     ]
    },
    {
     "name": "stderr",
     "output_type": "stream",
     "text": [
      " 63%|██████▎   | 315/500 [00:34<00:17, 10.35it/s]"
     ]
    },
    {
     "name": "stdout",
     "output_type": "stream",
     "text": [
      "313\n",
      "314\n",
      "315\n",
      "316\n"
     ]
    },
    {
     "name": "stderr",
     "output_type": "stream",
     "text": [
      " 65%|██████▍   | 323/500 [00:34<00:09, 18.24it/s]"
     ]
    },
    {
     "name": "stdout",
     "output_type": "stream",
     "text": [
      "317\n",
      "318\n",
      "319\n",
      "320\n",
      "321\n",
      "322\n",
      "323\n"
     ]
    },
    {
     "name": "stderr",
     "output_type": "stream",
     "text": [
      " 66%|██████▋   | 332/500 [00:34<00:06, 27.01it/s]"
     ]
    },
    {
     "name": "stdout",
     "output_type": "stream",
     "text": [
      "324\n",
      "325\n",
      "326\n",
      "327\n",
      "328\n",
      "329\n",
      "330\n",
      "331\n",
      "332\n"
     ]
    },
    {
     "name": "stderr",
     "output_type": "stream",
     "text": [
      " 68%|██████▊   | 340/500 [00:34<00:05, 31.18it/s]"
     ]
    },
    {
     "name": "stdout",
     "output_type": "stream",
     "text": [
      "333\n",
      "334\n",
      "335\n",
      "336\n",
      "337\n",
      "338\n",
      "339\n",
      "340\n"
     ]
    },
    {
     "name": "stderr",
     "output_type": "stream",
     "text": [
      "\r",
      " 69%|██████▉   | 344/500 [00:34<00:04, 31.89it/s]"
     ]
    },
    {
     "name": "stdout",
     "output_type": "stream",
     "text": [
      "341\n",
      "342\n",
      "343\n",
      "344\n",
      "345\n",
      "346\n",
      "347\n"
     ]
    },
    {
     "name": "stderr",
     "output_type": "stream",
     "text": [
      " 71%|███████   | 353/500 [00:35<00:04, 34.79it/s]"
     ]
    },
    {
     "name": "stdout",
     "output_type": "stream",
     "text": [
      "348\n",
      "349\n",
      "350\n",
      "351\n",
      "352\n",
      "353\n",
      "354\n",
      "355\n"
     ]
    },
    {
     "name": "stderr",
     "output_type": "stream",
     "text": [
      " 72%|███████▏  | 361/500 [00:35<00:03, 36.47it/s]"
     ]
    },
    {
     "name": "stdout",
     "output_type": "stream",
     "text": [
      "356\n",
      "357\n",
      "358\n",
      "359\n",
      "360\n",
      "361\n",
      "362\n",
      "363\n"
     ]
    },
    {
     "name": "stderr",
     "output_type": "stream",
     "text": [
      "\r",
      " 73%|███████▎  | 365/500 [00:35<00:04, 31.94it/s]"
     ]
    },
    {
     "name": "stdout",
     "output_type": "stream",
     "text": [
      "364\n",
      "365\n"
     ]
    },
    {
     "name": "stderr",
     "output_type": "stream",
     "text": [
      "\r",
      " 74%|███████▍  | 369/500 [00:36<00:07, 17.78it/s]"
     ]
    },
    {
     "name": "stdout",
     "output_type": "stream",
     "text": [
      "Empty DataFrame\n",
      "Columns: [CDF Epoch, GPS, Latitude, Longitude, Radius, Latitude_QD, Longitude_QD, MLT GRACE_1_Position, GRACE_2_Position, Iono_Corr, Distance, Relative_Hor_TEC, Relative_Ne, dates]\n",
      "Index: []\n",
      "366\n",
      "367\n",
      "368\n",
      "369\n",
      "370\n",
      "Empty DataFrame\n",
      "Columns: [CDF Epoch, GPS, Latitude, Longitude, Radius, Latitude_QD, Longitude_QD, MLT GRACE_1_Position, GRACE_2_Position, Iono_Corr, Distance, Relative_Hor_TEC, Relative_Ne, dates]\n",
      "Index: []\n",
      "371\n"
     ]
    },
    {
     "name": "stderr",
     "output_type": "stream",
     "text": [
      " 75%|███████▍  | 374/500 [00:37<00:13,  9.61it/s]"
     ]
    },
    {
     "name": "stdout",
     "output_type": "stream",
     "text": [
      "372\n",
      "373\n",
      "374\n"
     ]
    },
    {
     "name": "stderr",
     "output_type": "stream",
     "text": [
      "\r",
      " 75%|███████▌  | 376/500 [00:37<00:14,  8.65it/s]"
     ]
    },
    {
     "name": "stdout",
     "output_type": "stream",
     "text": [
      "375\n",
      "376\n",
      "377\n"
     ]
    },
    {
     "name": "stderr",
     "output_type": "stream",
     "text": [
      "\r",
      " 76%|███████▌  | 378/500 [00:37<00:14,  8.39it/s]"
     ]
    },
    {
     "name": "stdout",
     "output_type": "stream",
     "text": [
      "Empty DataFrame\n",
      "Columns: [CDF Epoch, GPS, Latitude, Longitude, Radius, Latitude_QD, Longitude_QD, MLT GRACE_1_Position, GRACE_2_Position, Iono_Corr, Distance, Relative_Hor_TEC, Relative_Ne, dates]\n",
      "Index: []\n",
      "378\n",
      "379\n"
     ]
    },
    {
     "name": "stderr",
     "output_type": "stream",
     "text": [
      "\r",
      " 76%|███████▌  | 380/500 [00:37<00:14,  8.00it/s]"
     ]
    },
    {
     "name": "stdout",
     "output_type": "stream",
     "text": [
      "Empty DataFrame\n",
      "Columns: [CDF Epoch, GPS, Latitude, Longitude, Radius, Latitude_QD, Longitude_QD, MLT GRACE_1_Position, GRACE_2_Position, Iono_Corr, Distance, Relative_Hor_TEC, Relative_Ne, dates]\n",
      "Index: []\n",
      "380\n",
      "381\n"
     ]
    },
    {
     "name": "stderr",
     "output_type": "stream",
     "text": [
      "\r",
      " 76%|███████▋  | 382/500 [00:38<00:16,  7.02it/s]"
     ]
    },
    {
     "name": "stdout",
     "output_type": "stream",
     "text": [
      "Empty DataFrame\n",
      "Columns: [CDF Epoch, GPS, Latitude, Longitude, Radius, Latitude_QD, Longitude_QD, MLT GRACE_1_Position, GRACE_2_Position, Iono_Corr, Distance, Relative_Hor_TEC, Relative_Ne, dates]\n",
      "Index: []\n",
      "382\n"
     ]
    },
    {
     "name": "stderr",
     "output_type": "stream",
     "text": [
      " 77%|███████▋  | 385/500 [00:38<00:15,  7.39it/s]"
     ]
    },
    {
     "name": "stdout",
     "output_type": "stream",
     "text": [
      "383\n",
      "384\n",
      "385\n"
     ]
    },
    {
     "name": "stderr",
     "output_type": "stream",
     "text": [
      "\r",
      " 77%|███████▋  | 386/500 [00:38<00:17,  6.56it/s]"
     ]
    },
    {
     "name": "stdout",
     "output_type": "stream",
     "text": [
      "386\n",
      "387\n",
      "388\n"
     ]
    },
    {
     "name": "stderr",
     "output_type": "stream",
     "text": [
      "\r",
      " 78%|███████▊  | 389/500 [00:39<00:14,  7.75it/s]"
     ]
    },
    {
     "name": "stdout",
     "output_type": "stream",
     "text": [
      "389\n",
      "390\n"
     ]
    },
    {
     "name": "stderr",
     "output_type": "stream",
     "text": [
      "\r",
      " 78%|███████▊  | 391/500 [00:39<00:14,  7.45it/s]"
     ]
    },
    {
     "name": "stdout",
     "output_type": "stream",
     "text": [
      "Empty DataFrame\n",
      "Columns: [CDF Epoch, GPS, Latitude, Longitude, Radius, Latitude_QD, Longitude_QD, MLT GRACE_1_Position, GRACE_2_Position, Iono_Corr, Distance, Relative_Hor_TEC, Relative_Ne, dates]\n",
      "Index: []\n",
      "391\n",
      "392\n"
     ]
    },
    {
     "name": "stderr",
     "output_type": "stream",
     "text": [
      " 79%|███████▉  | 396/500 [00:39<00:10, 10.06it/s]"
     ]
    },
    {
     "name": "stdout",
     "output_type": "stream",
     "text": [
      "Empty DataFrame\n",
      "Columns: [CDF Epoch, GPS, Latitude, Longitude, Radius, Latitude_QD, Longitude_QD, MLT GRACE_1_Position, GRACE_2_Position, Iono_Corr, Distance, Relative_Hor_TEC, Relative_Ne, dates]\n",
      "Index: []\n",
      "393\n",
      "394\n",
      "395\n",
      "396\n",
      "397\n"
     ]
    },
    {
     "name": "stderr",
     "output_type": "stream",
     "text": [
      "\r",
      " 80%|███████▉  | 398/500 [00:40<00:13,  7.80it/s]"
     ]
    },
    {
     "name": "stdout",
     "output_type": "stream",
     "text": [
      "Empty DataFrame\n",
      "Columns: [CDF Epoch, GPS, Latitude, Longitude, Radius, Latitude_QD, Longitude_QD, MLT GRACE_1_Position, GRACE_2_Position, Iono_Corr, Distance, Relative_Hor_TEC, Relative_Ne, dates]\n",
      "Index: []\n",
      "398\n"
     ]
    },
    {
     "name": "stderr",
     "output_type": "stream",
     "text": [
      "\r",
      " 80%|████████  | 400/500 [00:40<00:13,  7.42it/s]"
     ]
    },
    {
     "name": "stdout",
     "output_type": "stream",
     "text": [
      "Empty DataFrame\n",
      "Columns: [CDF Epoch, GPS, Latitude, Longitude, Radius, Latitude_QD, Longitude_QD, MLT GRACE_1_Position, GRACE_2_Position, Iono_Corr, Distance, Relative_Hor_TEC, Relative_Ne, dates]\n",
      "Index: []\n",
      "399\n",
      "400\n",
      "401\n",
      "402\n"
     ]
    },
    {
     "name": "stderr",
     "output_type": "stream",
     "text": [
      "\r",
      " 81%|████████  | 403/500 [00:40<00:10,  9.29it/s]"
     ]
    },
    {
     "name": "stdout",
     "output_type": "stream",
     "text": [
      "403\n",
      "Empty DataFrame\n",
      "Columns: [CDF Epoch, GPS, Latitude, Longitude, Radius, Latitude_QD, Longitude_QD, MLT GRACE_1_Position, GRACE_2_Position, Iono_Corr, Distance, Relative_Hor_TEC, Relative_Ne, dates]\n",
      "Index: []\n",
      "404\n"
     ]
    },
    {
     "name": "stderr",
     "output_type": "stream",
     "text": [
      " 81%|████████▏ | 407/500 [00:41<00:11,  8.29it/s]"
     ]
    },
    {
     "name": "stdout",
     "output_type": "stream",
     "text": [
      "Empty DataFrame\n",
      "Columns: [CDF Epoch, GPS, Latitude, Longitude, Radius, Latitude_QD, Longitude_QD, MLT GRACE_1_Position, GRACE_2_Position, Iono_Corr, Distance, Relative_Hor_TEC, Relative_Ne, dates]\n",
      "Index: []\n",
      "405\n",
      "406\n",
      "407\n"
     ]
    },
    {
     "name": "stderr",
     "output_type": "stream",
     "text": [
      "\r",
      " 82%|████████▏ | 409/500 [00:41<00:10,  8.54it/s]"
     ]
    },
    {
     "name": "stdout",
     "output_type": "stream",
     "text": [
      "408\n",
      "409\n",
      "410\n"
     ]
    },
    {
     "name": "stderr",
     "output_type": "stream",
     "text": [
      "\r",
      " 82%|████████▏ | 411/500 [00:41<00:09,  9.73it/s]"
     ]
    },
    {
     "name": "stdout",
     "output_type": "stream",
     "text": [
      "411\n"
     ]
    },
    {
     "name": "stderr",
     "output_type": "stream",
     "text": [
      "\r",
      " 83%|████████▎ | 413/500 [00:42<00:10,  8.28it/s]"
     ]
    },
    {
     "name": "stdout",
     "output_type": "stream",
     "text": [
      "Empty DataFrame\n",
      "Columns: [CDF Epoch, GPS, Latitude, Longitude, Radius, Latitude_QD, Longitude_QD, MLT GRACE_1_Position, GRACE_2_Position, Iono_Corr, Distance, Relative_Hor_TEC, Relative_Ne, dates]\n",
      "Index: []\n",
      "412\n",
      "413\n",
      "414\n"
     ]
    },
    {
     "name": "stderr",
     "output_type": "stream",
     "text": [
      " 83%|████████▎ | 417/500 [00:42<00:11,  7.31it/s]"
     ]
    },
    {
     "name": "stdout",
     "output_type": "stream",
     "text": [
      "Empty DataFrame\n",
      "Columns: [CDF Epoch, GPS, Latitude, Longitude, Radius, Latitude_QD, Longitude_QD, MLT GRACE_1_Position, GRACE_2_Position, Iono_Corr, Distance, Relative_Hor_TEC, Relative_Ne, dates]\n",
      "Index: []\n",
      "415\n",
      "416\n",
      "417\n",
      "418\n"
     ]
    },
    {
     "name": "stderr",
     "output_type": "stream",
     "text": [
      "\r",
      " 84%|████████▍ | 419/500 [00:43<00:18,  4.48it/s]"
     ]
    },
    {
     "name": "stdout",
     "output_type": "stream",
     "text": [
      "Empty DataFrame\n",
      "Columns: [CDF Epoch, GPS, Latitude, Longitude, Radius, Latitude_QD, Longitude_QD, MLT GRACE_1_Position, GRACE_2_Position, Iono_Corr, Distance, Relative_Hor_TEC, Relative_Ne, dates]\n",
      "Index: []\n",
      "419\n",
      "420\n"
     ]
    },
    {
     "name": "stderr",
     "output_type": "stream",
     "text": [
      "\r",
      " 84%|████████▍ | 421/500 [00:43<00:15,  5.07it/s]"
     ]
    },
    {
     "name": "stdout",
     "output_type": "stream",
     "text": [
      "Empty DataFrame\n",
      "Columns: [CDF Epoch, GPS, Latitude, Longitude, Radius, Latitude_QD, Longitude_QD, MLT GRACE_1_Position, GRACE_2_Position, Iono_Corr, Distance, Relative_Hor_TEC, Relative_Ne, dates]\n",
      "Index: []\n",
      "421\n",
      "422\n",
      "423\n"
     ]
    },
    {
     "name": "stderr",
     "output_type": "stream",
     "text": [
      "\r",
      " 85%|████████▍ | 424/500 [00:44<00:12,  6.24it/s]"
     ]
    },
    {
     "name": "stdout",
     "output_type": "stream",
     "text": [
      "Empty DataFrame\n",
      "Columns: [CDF Epoch, GPS, Latitude, Longitude, Radius, Latitude_QD, Longitude_QD, MLT GRACE_1_Position, GRACE_2_Position, Iono_Corr, Distance, Relative_Hor_TEC, Relative_Ne, dates]\n",
      "Index: []\n",
      "424\n"
     ]
    },
    {
     "name": "stderr",
     "output_type": "stream",
     "text": [
      " 85%|████████▌ | 427/500 [00:44<00:10,  6.96it/s]"
     ]
    },
    {
     "name": "stdout",
     "output_type": "stream",
     "text": [
      "Empty DataFrame\n",
      "Columns: [CDF Epoch, GPS, Latitude, Longitude, Radius, Latitude_QD, Longitude_QD, MLT GRACE_1_Position, GRACE_2_Position, Iono_Corr, Distance, Relative_Hor_TEC, Relative_Ne, dates]\n",
      "Index: []\n",
      "425\n",
      "426\n",
      "427\n",
      "428\n"
     ]
    },
    {
     "name": "stderr",
     "output_type": "stream",
     "text": [
      "\r",
      " 86%|████████▌ | 429/500 [00:44<00:10,  6.90it/s]"
     ]
    },
    {
     "name": "stdout",
     "output_type": "stream",
     "text": [
      "Empty DataFrame\n",
      "Columns: [CDF Epoch, GPS, Latitude, Longitude, Radius, Latitude_QD, Longitude_QD, MLT GRACE_1_Position, GRACE_2_Position, Iono_Corr, Distance, Relative_Hor_TEC, Relative_Ne, dates]\n",
      "Index: []\n",
      "429\n"
     ]
    },
    {
     "name": "stderr",
     "output_type": "stream",
     "text": [
      " 87%|████████▋ | 433/500 [00:45<00:10,  6.69it/s]"
     ]
    },
    {
     "name": "stdout",
     "output_type": "stream",
     "text": [
      "430\n",
      "431\n",
      "432\n",
      "433\n",
      "434\n"
     ]
    },
    {
     "name": "stderr",
     "output_type": "stream",
     "text": [
      "\r",
      " 87%|████████▋ | 435/500 [00:46<00:10,  6.20it/s]"
     ]
    },
    {
     "name": "stdout",
     "output_type": "stream",
     "text": [
      "435\n"
     ]
    },
    {
     "name": "stderr",
     "output_type": "stream",
     "text": [
      "\r",
      " 87%|████████▋ | 436/500 [00:46<00:10,  5.90it/s]"
     ]
    },
    {
     "name": "stdout",
     "output_type": "stream",
     "text": [
      "Empty DataFrame\n",
      "Columns: [CDF Epoch, GPS, Latitude, Longitude, Radius, Latitude_QD, Longitude_QD, MLT GRACE_1_Position, GRACE_2_Position, Iono_Corr, Distance, Relative_Hor_TEC, Relative_Ne, dates]\n",
      "Index: []\n",
      "436\n"
     ]
    },
    {
     "name": "stderr",
     "output_type": "stream",
     "text": [
      "\r",
      " 87%|████████▋ | 437/500 [00:46<00:11,  5.42it/s]"
     ]
    },
    {
     "name": "stdout",
     "output_type": "stream",
     "text": [
      "Empty DataFrame\n",
      "Columns: [CDF Epoch, GPS, Latitude, Longitude, Radius, Latitude_QD, Longitude_QD, MLT GRACE_1_Position, GRACE_2_Position, Iono_Corr, Distance, Relative_Hor_TEC, Relative_Ne, dates]\n",
      "Index: []\n",
      "437\n"
     ]
    },
    {
     "name": "stderr",
     "output_type": "stream",
     "text": [
      "\r",
      " 88%|████████▊ | 438/500 [00:46<00:12,  4.92it/s]"
     ]
    },
    {
     "name": "stdout",
     "output_type": "stream",
     "text": [
      "Empty DataFrame\n",
      "Columns: [CDF Epoch, GPS, Latitude, Longitude, Radius, Latitude_QD, Longitude_QD, MLT GRACE_1_Position, GRACE_2_Position, Iono_Corr, Distance, Relative_Hor_TEC, Relative_Ne, dates]\n",
      "Index: []\n",
      "438\n"
     ]
    },
    {
     "name": "stderr",
     "output_type": "stream",
     "text": [
      " 88%|████████▊ | 440/500 [00:47<00:11,  5.32it/s]"
     ]
    },
    {
     "name": "stdout",
     "output_type": "stream",
     "text": [
      "Empty DataFrame\n",
      "Columns: [CDF Epoch, GPS, Latitude, Longitude, Radius, Latitude_QD, Longitude_QD, MLT GRACE_1_Position, GRACE_2_Position, Iono_Corr, Distance, Relative_Hor_TEC, Relative_Ne, dates]\n",
      "Index: []\n",
      "439\n",
      "440\n"
     ]
    },
    {
     "name": "stderr",
     "output_type": "stream",
     "text": [
      "\r",
      " 88%|████████▊ | 442/500 [00:47<00:08,  6.55it/s]"
     ]
    },
    {
     "name": "stdout",
     "output_type": "stream",
     "text": [
      "441\n",
      "442\n",
      "443\n"
     ]
    },
    {
     "name": "stderr",
     "output_type": "stream",
     "text": [
      "\r",
      " 89%|████████▉ | 444/500 [00:47<00:06,  8.17it/s]"
     ]
    },
    {
     "name": "stdout",
     "output_type": "stream",
     "text": [
      "444\n",
      "445\n"
     ]
    },
    {
     "name": "stderr",
     "output_type": "stream",
     "text": [
      " 89%|████████▉ | 447/500 [00:48<00:08,  6.28it/s]"
     ]
    },
    {
     "name": "stdout",
     "output_type": "stream",
     "text": [
      "446\n",
      "447\n",
      "448\n"
     ]
    },
    {
     "name": "stderr",
     "output_type": "stream",
     "text": [
      "\r",
      " 90%|████████▉ | 449/500 [00:48<00:06,  7.66it/s]"
     ]
    },
    {
     "name": "stdout",
     "output_type": "stream",
     "text": [
      "449\n"
     ]
    },
    {
     "name": "stderr",
     "output_type": "stream",
     "text": [
      " 90%|█████████ | 451/500 [00:48<00:08,  5.63it/s]"
     ]
    },
    {
     "name": "stdout",
     "output_type": "stream",
     "text": [
      "Empty DataFrame\n",
      "Columns: [CDF Epoch, GPS, Latitude, Longitude, Radius, Latitude_QD, Longitude_QD, MLT GRACE_1_Position, GRACE_2_Position, Iono_Corr, Distance, Relative_Hor_TEC, Relative_Ne, dates]\n",
      "Index: []\n",
      "450\n",
      "451\n"
     ]
    },
    {
     "name": "stderr",
     "output_type": "stream",
     "text": [
      "\r",
      " 90%|█████████ | 452/500 [00:49<00:09,  5.28it/s]"
     ]
    },
    {
     "name": "stdout",
     "output_type": "stream",
     "text": [
      "Empty DataFrame\n",
      "Columns: [CDF Epoch, GPS, Latitude, Longitude, Radius, Latitude_QD, Longitude_QD, MLT GRACE_1_Position, GRACE_2_Position, Iono_Corr, Distance, Relative_Hor_TEC, Relative_Ne, dates]\n",
      "Index: []\n",
      "452\n"
     ]
    },
    {
     "name": "stderr",
     "output_type": "stream",
     "text": [
      "\r",
      " 91%|█████████ | 453/500 [00:49<00:09,  4.96it/s]"
     ]
    },
    {
     "name": "stdout",
     "output_type": "stream",
     "text": [
      "Empty DataFrame\n",
      "Columns: [CDF Epoch, GPS, Latitude, Longitude, Radius, Latitude_QD, Longitude_QD, MLT GRACE_1_Position, GRACE_2_Position, Iono_Corr, Distance, Relative_Hor_TEC, Relative_Ne, dates]\n",
      "Index: []\n",
      "453\n",
      "454\n"
     ]
    },
    {
     "name": "stderr",
     "output_type": "stream",
     "text": [
      " 92%|█████████▏| 458/500 [00:49<00:05,  8.07it/s]"
     ]
    },
    {
     "name": "stdout",
     "output_type": "stream",
     "text": [
      "Empty DataFrame\n",
      "Columns: [CDF Epoch, GPS, Latitude, Longitude, Radius, Latitude_QD, Longitude_QD, MLT GRACE_1_Position, GRACE_2_Position, Iono_Corr, Distance, Relative_Hor_TEC, Relative_Ne, dates]\n",
      "Index: []\n",
      "455\n",
      "456\n",
      "457\n",
      "458\n"
     ]
    },
    {
     "name": "stderr",
     "output_type": "stream",
     "text": [
      "\r",
      " 92%|█████████▏| 460/500 [00:49<00:04,  8.79it/s]"
     ]
    },
    {
     "name": "stdout",
     "output_type": "stream",
     "text": [
      "459\n",
      "460\n",
      "461\n"
     ]
    },
    {
     "name": "stderr",
     "output_type": "stream",
     "text": [
      "\r",
      " 92%|█████████▏| 462/500 [00:50<00:04,  9.27it/s]"
     ]
    },
    {
     "name": "stdout",
     "output_type": "stream",
     "text": [
      "462\n",
      "Empty DataFrame\n",
      "Columns: [CDF Epoch, GPS, Latitude, Longitude, Radius, Latitude_QD, Longitude_QD, MLT GRACE_1_Position, GRACE_2_Position, Iono_Corr, Distance, Relative_Hor_TEC, Relative_Ne, dates]\n",
      "Index: []\n",
      "463\n"
     ]
    },
    {
     "name": "stderr",
     "output_type": "stream",
     "text": [
      "\r",
      " 93%|█████████▎| 464/500 [00:50<00:05,  6.46it/s]"
     ]
    },
    {
     "name": "stdout",
     "output_type": "stream",
     "text": [
      "Empty DataFrame\n",
      "Columns: [CDF Epoch, GPS, Latitude, Longitude, Radius, Latitude_QD, Longitude_QD, MLT GRACE_1_Position, GRACE_2_Position, Iono_Corr, Distance, Relative_Hor_TEC, Relative_Ne, dates]\n",
      "Index: []\n",
      "464\n"
     ]
    },
    {
     "name": "stderr",
     "output_type": "stream",
     "text": [
      "\r",
      " 93%|█████████▎| 465/500 [00:51<00:06,  5.39it/s]"
     ]
    },
    {
     "name": "stdout",
     "output_type": "stream",
     "text": [
      "Empty DataFrame\n",
      "Columns: [CDF Epoch, GPS, Latitude, Longitude, Radius, Latitude_QD, Longitude_QD, MLT GRACE_1_Position, GRACE_2_Position, Iono_Corr, Distance, Relative_Hor_TEC, Relative_Ne, dates]\n",
      "Index: []\n",
      "465\n"
     ]
    },
    {
     "name": "stderr",
     "output_type": "stream",
     "text": [
      "\r",
      " 93%|█████████▎| 466/500 [00:51<00:08,  4.25it/s]"
     ]
    },
    {
     "name": "stdout",
     "output_type": "stream",
     "text": [
      "466\n"
     ]
    },
    {
     "name": "stderr",
     "output_type": "stream",
     "text": [
      "\r",
      " 93%|█████████▎| 467/500 [00:51<00:07,  4.34it/s]"
     ]
    },
    {
     "name": "stdout",
     "output_type": "stream",
     "text": [
      "467\n"
     ]
    },
    {
     "name": "stderr",
     "output_type": "stream",
     "text": [
      " 94%|█████████▍| 469/500 [00:52<00:07,  4.18it/s]"
     ]
    },
    {
     "name": "stdout",
     "output_type": "stream",
     "text": [
      "468\n",
      "469\n"
     ]
    },
    {
     "name": "stderr",
     "output_type": "stream",
     "text": [
      "\r",
      " 94%|█████████▍| 470/500 [00:52<00:06,  4.53it/s]"
     ]
    },
    {
     "name": "stdout",
     "output_type": "stream",
     "text": [
      "470\n",
      "471\n"
     ]
    },
    {
     "name": "stderr",
     "output_type": "stream",
     "text": [
      "\r",
      " 94%|█████████▍| 472/500 [00:52<00:05,  5.18it/s]"
     ]
    },
    {
     "name": "stdout",
     "output_type": "stream",
     "text": [
      "472\n",
      "473\n"
     ]
    },
    {
     "name": "stderr",
     "output_type": "stream",
     "text": [
      "\r",
      " 95%|█████████▍| 474/500 [00:53<00:04,  5.73it/s]"
     ]
    },
    {
     "name": "stdout",
     "output_type": "stream",
     "text": [
      "Empty DataFrame\n",
      "Columns: [CDF Epoch, GPS, Latitude, Longitude, Radius, Latitude_QD, Longitude_QD, MLT GRACE_1_Position, GRACE_2_Position, Iono_Corr, Distance, Relative_Hor_TEC, Relative_Ne, dates]\n",
      "Index: []\n",
      "474\n"
     ]
    },
    {
     "name": "stderr",
     "output_type": "stream",
     "text": [
      " 95%|█████████▌| 476/500 [00:53<00:06,  3.68it/s]"
     ]
    },
    {
     "name": "stdout",
     "output_type": "stream",
     "text": [
      "Empty DataFrame\n",
      "Columns: [CDF Epoch, GPS, Latitude, Longitude, Radius, Latitude_QD, Longitude_QD, MLT GRACE_1_Position, GRACE_2_Position, Iono_Corr, Distance, Relative_Hor_TEC, Relative_Ne, dates]\n",
      "Index: []\n",
      "475\n",
      "476\n"
     ]
    },
    {
     "name": "stderr",
     "output_type": "stream",
     "text": [
      "\r",
      " 95%|█████████▌| 477/500 [00:54<00:06,  3.66it/s]"
     ]
    },
    {
     "name": "stdout",
     "output_type": "stream",
     "text": [
      "Empty DataFrame\n",
      "Columns: [CDF Epoch, GPS, Latitude, Longitude, Radius, Latitude_QD, Longitude_QD, MLT GRACE_1_Position, GRACE_2_Position, Iono_Corr, Distance, Relative_Hor_TEC, Relative_Ne, dates]\n",
      "Index: []\n",
      "477\n",
      "478\n"
     ]
    },
    {
     "name": "stderr",
     "output_type": "stream",
     "text": [
      "\r",
      " 96%|█████████▌| 479/500 [00:54<00:04,  4.80it/s]"
     ]
    },
    {
     "name": "stdout",
     "output_type": "stream",
     "text": [
      "Empty DataFrame\n",
      "Columns: [CDF Epoch, GPS, Latitude, Longitude, Radius, Latitude_QD, Longitude_QD, MLT GRACE_1_Position, GRACE_2_Position, Iono_Corr, Distance, Relative_Hor_TEC, Relative_Ne, dates]\n",
      "Index: []\n",
      "479\n"
     ]
    },
    {
     "name": "stderr",
     "output_type": "stream",
     "text": [
      "\r",
      " 96%|█████████▌| 480/500 [00:55<00:06,  3.22it/s]"
     ]
    },
    {
     "name": "stdout",
     "output_type": "stream",
     "text": [
      "480\n"
     ]
    },
    {
     "name": "stderr",
     "output_type": "stream",
     "text": [
      " 97%|█████████▋| 483/500 [00:55<00:03,  5.04it/s]"
     ]
    },
    {
     "name": "stdout",
     "output_type": "stream",
     "text": [
      "Empty DataFrame\n",
      "Columns: [CDF Epoch, GPS, Latitude, Longitude, Radius, Latitude_QD, Longitude_QD, MLT GRACE_1_Position, GRACE_2_Position, Iono_Corr, Distance, Relative_Hor_TEC, Relative_Ne, dates]\n",
      "Index: []\n",
      "481\n",
      "482\n",
      "483\n"
     ]
    },
    {
     "name": "stderr",
     "output_type": "stream",
     "text": [
      "\r",
      " 97%|█████████▋| 484/500 [00:55<00:03,  4.64it/s]"
     ]
    },
    {
     "name": "stdout",
     "output_type": "stream",
     "text": [
      "Empty DataFrame\n",
      "Columns: [CDF Epoch, GPS, Latitude, Longitude, Radius, Latitude_QD, Longitude_QD, MLT GRACE_1_Position, GRACE_2_Position, Iono_Corr, Distance, Relative_Hor_TEC, Relative_Ne, dates]\n",
      "Index: []\n",
      "484\n"
     ]
    },
    {
     "name": "stderr",
     "output_type": "stream",
     "text": [
      "\r",
      " 97%|█████████▋| 485/500 [00:56<00:04,  3.14it/s]"
     ]
    },
    {
     "name": "stdout",
     "output_type": "stream",
     "text": [
      "485\n"
     ]
    },
    {
     "name": "stderr",
     "output_type": "stream",
     "text": [
      "\r",
      " 97%|█████████▋| 486/500 [00:56<00:04,  3.11it/s]"
     ]
    },
    {
     "name": "stdout",
     "output_type": "stream",
     "text": [
      "Empty DataFrame\n",
      "Columns: [CDF Epoch, GPS, Latitude, Longitude, Radius, Latitude_QD, Longitude_QD, MLT GRACE_1_Position, GRACE_2_Position, Iono_Corr, Distance, Relative_Hor_TEC, Relative_Ne, dates]\n",
      "Index: []\n",
      "486\n"
     ]
    },
    {
     "name": "stderr",
     "output_type": "stream",
     "text": [
      " 98%|█████████▊| 490/500 [00:57<00:01,  5.84it/s]"
     ]
    },
    {
     "name": "stdout",
     "output_type": "stream",
     "text": [
      "Empty DataFrame\n",
      "Columns: [CDF Epoch, GPS, Latitude, Longitude, Radius, Latitude_QD, Longitude_QD, MLT GRACE_1_Position, GRACE_2_Position, Iono_Corr, Distance, Relative_Hor_TEC, Relative_Ne, dates]\n",
      "Index: []\n",
      "487\n",
      "488\n",
      "489\n",
      "490\n"
     ]
    },
    {
     "name": "stderr",
     "output_type": "stream",
     "text": [
      " 98%|█████████▊| 492/500 [00:57<00:01,  6.11it/s]"
     ]
    },
    {
     "name": "stdout",
     "output_type": "stream",
     "text": [
      "Empty DataFrame\n",
      "Columns: [CDF Epoch, GPS, Latitude, Longitude, Radius, Latitude_QD, Longitude_QD, MLT GRACE_1_Position, GRACE_2_Position, Iono_Corr, Distance, Relative_Hor_TEC, Relative_Ne, dates]\n",
      "Index: []\n",
      "491\n",
      "492\n"
     ]
    },
    {
     "name": "stderr",
     "output_type": "stream",
     "text": [
      " 99%|█████████▉| 494/500 [00:57<00:00,  6.43it/s]"
     ]
    },
    {
     "name": "stdout",
     "output_type": "stream",
     "text": [
      "493\n",
      "494\n"
     ]
    },
    {
     "name": "stderr",
     "output_type": "stream",
     "text": [
      "100%|█████████▉| 498/500 [00:58<00:00,  7.03it/s]"
     ]
    },
    {
     "name": "stdout",
     "output_type": "stream",
     "text": [
      "495\n",
      "496\n",
      "497\n",
      "498\n"
     ]
    },
    {
     "name": "stderr",
     "output_type": "stream",
     "text": [
      "100%|██████████| 500/500 [00:58<00:00,  8.51it/s]"
     ]
    },
    {
     "name": "stdout",
     "output_type": "stream",
     "text": [
      "Empty DataFrame\n",
      "Columns: [CDF Epoch, GPS, Latitude, Longitude, Radius, Latitude_QD, Longitude_QD, MLT GRACE_1_Position, GRACE_2_Position, Iono_Corr, Distance, Relative_Hor_TEC, Relative_Ne, dates]\n",
      "Index: []\n",
      "499\n"
     ]
    },
    {
     "name": "stderr",
     "output_type": "stream",
     "text": [
      "\n"
     ]
    }
   ],
   "source": [
    " \n",
    "# for i in tqdm(range(0,len(radar_list))):\n",
    "for i in tqdm(range(0,500)):\n",
    "    print(i)\n",
    "\n",
    "    metaA1 = pd.DataFrame(dm.fromHDF5(radar_list[i])['Metadata']['Experiment Parameters'])\n",
    "    metaA2 = np.array([x.decode() for x in metaA1['name']])\n",
    "    metaA3 = np.array([x.decode() for x in metaA1['value']])\n",
    "\n",
    "    metaA4 = pd.DataFrame({'name': metaA2,\n",
    "                  'value': metaA3})\n",
    "    radar_date = pd.to_datetime(metaA4[metaA4['name'] == 'start time'].value).dt.strftime('%Y-%m-%d')    \n",
    "    try:\n",
    "        # get intersection date\n",
    "        grf_idx = np.intersect1d(grf_list_datetimes,radar_date, return_indices=True)[1][0]-1\n",
    "\n",
    "        # open files and add datetime as index\n",
    "        ## MLH\n",
    "        radar_file = radar_list[i] \n",
    "        radar = dm.fromHDF5(radar_file)\n",
    "        radar_datetimes =[]\n",
    "        for t in iter(range(0,len(radar['Data']['Array Layout']['timestamps']))):\n",
    "\n",
    "            radar_datetimes.append(datetime.datetime.fromtimestamp(radar['Data']['Array Layout']['timestamps'][t])) \n",
    "        \n",
    "        \n",
    "        radar_df = pd.DataFrame({\n",
    "                'dates': radar_datetimes,\n",
    "        #         'ne' : (radar['Data']['Array Layout']['2D Parameters']['ne']).flatten(),\n",
    "                'range': radar['Data']['Array Layout']['range'][0]\n",
    "                })\n",
    "\n",
    "        radar_df = radar_df.loc[radar_df.index.repeat(np.shape(radar['Data']['Array Layout']['2D Parameters']['ne'])[0])]\n",
    "\n",
    "        radar_df['ne'] = (radar['Data']['Array Layout']['2D Parameters']['ne']).flatten()\n",
    "\n",
    "        ## GRACE\n",
    "        grf_file = gf_list[grf_idx]\n",
    "        grf = pd.read_csv(grf_file, sep='\\s+', header=0,index_col=False, names=headerlist)\n",
    "        grf['dates'] = (Time(grf['CDF Epoch'].values, format='cdf_epoch')).datetime\n",
    "        \n",
    "        \n",
    "        # find GRACE observations that are within spatial window\n",
    "        MLH_lat = float(metaA4[metaA4['name'] == 'instrument latitude']['value'])\n",
    "        MLH_lon = float(metaA4[metaA4['name'] == 'instrument longitude']['value'])\n",
    "        \n",
    "        grf = grf[((grf['Latitude'] <= MLH_lat + spatial_window) & (grf['Latitude'] >= MLH_lat - spatial_window))]\n",
    "        grf = grf[((grf['Longitude'] <= MLH_lon + spatial_window) & (grf['Longitude'] >= MLH_lon - spatial_window))] \n",
    "        \n",
    "        print(grf)\n",
    "\n",
    "        if len(grf)>0:\n",
    "#             print(radar_file)\n",
    "#             print(grf_file)\n",
    "            print('---------------------')\n",
    "#             grf_pass = grf[grf.diff(axis = 0)['dates'] > datetime.timedelta(minutes=temporal_window)]\n",
    "# #             print(len(grf_pass))\n",
    "        \n",
    "#             if len(grf_pass) == 0: # only one passage\n",
    "\n",
    "# #                 print('GRF passage ', grf['dates'][grf.index.min()], '->', grf['dates'][grf.index.max()])\n",
    "# #                 print(i)\n",
    "\n",
    "#                 # define time window\n",
    "#                 time_window_i = grf['dates'][grf.index.min()] - datetime.timedelta(minutes=temporal_window)\n",
    "#                 time_window_f = grf['dates'][grf.index.max()] + datetime.timedelta(minutes=temporal_window)\n",
    "\n",
    "# #                 filter values\n",
    "#                 grf_select = grf[(grf['dates'] >= grf['dates'][grf.index.min()]) & (grf['dates'] <= grf['dates'][grf.index.max()])] # within time window\n",
    "#                 mlh_select = radar_df[(radar_df['dates'] >= time_window_i) & (radar_df['dates'] <= time_window_f)]\n",
    "#                 print(i, len(grf_select), len(mlh_select))\n",
    "# #                 print(radar_file)\n",
    "# #                 print(grf_file)\n",
    "# #                 print('---------------------')\n",
    "#                 if ((len(mlh_select) > 0) and (len(grf_select) > 0)):\n",
    "#                                               print('olha eu aqui!!!!!!!!')\n",
    "                    \n",
    "# # #                         grf_select.to_csv('grf_{date}_v{version}_exp{exp}.csv'.format(date = mlh_date.strftime('%Y-%m-%d'),\n",
    "# # #                                                                           version = mlh_file[38:41],\n",
    "# # #                                                                           exp = mlh_file[42:50]))\n",
    "# # #                         mlh_select.to_csv('mlh_{date}_v{version}_exp{exp}.csv'.format(date = mlh_date.strftime('%Y-%m-%d'),\n",
    "# # #                                                                           version = mlh_file[38:41],\n",
    "# # #                                                                           exp = mlh_file[42:50]))\n",
    "# # #                 else:\n",
    "# # #                     pass\n",
    "\n",
    "\n",
    "# # #             if len(grf_pass) == 1: # two passages\n",
    "\n",
    "# # #                 pass_idx = np.argwhere(grf.index == grf_pass.index[0])[0][0]\n",
    "\n",
    "# # #                 # first one\n",
    "# # #                 print('GRF passage', grf.index[0], '->', grf.index[pass_idx-1])\n",
    "\n",
    "# # #                 # define time window\n",
    "# # #                 time_window_i = grf.datetimes[grf.index[0]] - datetime.timedelta(minutes=15)\n",
    "# # #                 time_window_f = grf.datetimes[grf.index[pass_idx-1]] + datetime.timedelta(minutes=15)\n",
    "\n",
    "# # #                 # filter values\n",
    "# # #                 grf_select = grf[(grf.index >= grf.index[0]) & (grf.index <= grf.index[pass_idx-1])] # within time window\n",
    "\n",
    "# # #                 mlh_select = mlh[(mlh.index >= time_window_i) & (mlh.index <= time_window_f)]\n",
    "\n",
    "# # # #                 if ((len(mlh_select) > 0) and (len(grf_select) > 0)):\n",
    "\n",
    "# # # #                         grf_select.to_csv('grf_{date}_v{version}_exp{exp}.csv'.format(date = mlh_date.strftime('%Y-%m-%d'),\n",
    "# # # #                                                                           version = mlh_file[38:41],\n",
    "# # # #                                                                           exp = mlh_file[42:50]))\n",
    "# # # #                         mlh_select.to_csv('mlh_{date}_v{version}_exp{exp}.csv'.format(date = mlh_date.strftime('%Y-%m-%d'),\n",
    "# # # #                                                                           version = mlh_file[38:41],\n",
    "# # # #                                                                           exp = mlh_file[42:50]))\n",
    "# # # #                 else:\n",
    "# # # #                     pass\n",
    "\n",
    "# # #                 # second one\n",
    "# # #                 print('GRF passage', grf.index[pass_idx], '->', grf.index[-1])\n",
    "\n",
    "# # #                 # define time window\n",
    "# # #                 time_window_i = grf.datetimes[grf.index[pass_idx]] - datetime.timedelta(minutes=15)\n",
    "# # #                 time_window_f = grf.datetimes[grf.index[-1]] + datetime.timedelta(minutes=15)\n",
    "\n",
    "# # #                 # filter values\n",
    "# # #                 grf_select = grf[(grf.index >= grf.index[pass_idx]) & (grf.index <= grf.index[-1])] # within time window\n",
    "\n",
    "# # #                 mlh_select = mlh[(mlh.index >= time_window_i) & (mlh.index <= time_window_f)]\n",
    "\n",
    "# # # #                 if ((len(mlh_select) > 0) and (len(grf_select) > 0)):\n",
    "\n",
    "# # # #                         grf_select.to_csv('grf_{date}_v{version}_exp{exp}.csv'.format(date = mlh_date.strftime('%Y-%m-%d'),\n",
    "# # # #                                                                           version = mlh_file[38:41],\n",
    "# # # #                                                                           exp = mlh_file[42:50]))\n",
    "# # # #                         mlh_select.to_csv('mlh_{date}_v{version}_exp{exp}.csv'.format(date = mlh_date.strftime('%Y-%m-%d'),\n",
    "# # # #                                                                           version = mlh_file[38:41],\n",
    "# # # #                                                                           exp = mlh_file[42:50]))\n",
    "# # # #                 else:\n",
    "# # # #                     pass\n",
    "        else:\n",
    "            pass\n",
    "    except:\n",
    "        pass"
   ]
  },
  {
   "cell_type": "code",
   "execution_count": 180,
   "id": "21938f5b",
   "metadata": {},
   "outputs": [
    {
     "ename": "KeyError",
     "evalue": "'ne'",
     "output_type": "error",
     "traceback": [
      "\u001b[0;31m---------------------------------------------------------------------------\u001b[0m",
      "\u001b[0;31mKeyError\u001b[0m                                  Traceback (most recent call last)",
      "\u001b[0;32m~/opt/anaconda3/envs/gfz_spacepy/lib/python3.8/site-packages/spacepy/datamodel.py\u001b[0m in \u001b[0;36m__getitem__\u001b[0;34m(self, key)\u001b[0m\n\u001b[1;32m    473\u001b[0m         \u001b[0;32mtry\u001b[0m\u001b[0;34m:\u001b[0m\u001b[0;34m\u001b[0m\u001b[0;34m\u001b[0m\u001b[0m\n\u001b[0;32m--> 474\u001b[0;31m             \u001b[0;32mreturn\u001b[0m \u001b[0msuper\u001b[0m\u001b[0;34m(\u001b[0m\u001b[0mSpaceData\u001b[0m\u001b[0;34m,\u001b[0m \u001b[0mself\u001b[0m\u001b[0;34m)\u001b[0m\u001b[0;34m.\u001b[0m\u001b[0m__getitem__\u001b[0m\u001b[0;34m(\u001b[0m\u001b[0mkey\u001b[0m\u001b[0;34m)\u001b[0m\u001b[0;34m\u001b[0m\u001b[0;34m\u001b[0m\u001b[0m\n\u001b[0m\u001b[1;32m    475\u001b[0m         \u001b[0;32mexcept\u001b[0m \u001b[0;34m(\u001b[0m\u001b[0mKeyError\u001b[0m\u001b[0;34m,\u001b[0m \u001b[0mTypeError\u001b[0m\u001b[0;34m)\u001b[0m\u001b[0;34m:\u001b[0m\u001b[0;34m\u001b[0m\u001b[0;34m\u001b[0m\u001b[0m\n",
      "\u001b[0;31mKeyError\u001b[0m: 'ne'",
      "\nDuring handling of the above exception, another exception occurred:\n",
      "\u001b[0;31mKeyError\u001b[0m                                  Traceback (most recent call last)",
      "\u001b[0;32m<ipython-input-180-03161da0c5a3>\u001b[0m in \u001b[0;36m<module>\u001b[0;34m\u001b[0m\n\u001b[1;32m      7\u001b[0m \u001b[0mradar_df\u001b[0m \u001b[0;34m=\u001b[0m \u001b[0mradar_df\u001b[0m\u001b[0;34m.\u001b[0m\u001b[0mloc\u001b[0m\u001b[0;34m[\u001b[0m\u001b[0mradar_df\u001b[0m\u001b[0;34m.\u001b[0m\u001b[0mindex\u001b[0m\u001b[0;34m.\u001b[0m\u001b[0mrepeat\u001b[0m\u001b[0;34m(\u001b[0m\u001b[0;36m85\u001b[0m\u001b[0;34m)\u001b[0m\u001b[0;34m]\u001b[0m\u001b[0;34m\u001b[0m\u001b[0;34m\u001b[0m\u001b[0m\n\u001b[1;32m      8\u001b[0m \u001b[0;34m\u001b[0m\u001b[0m\n\u001b[0;32m----> 9\u001b[0;31m \u001b[0mradar_df\u001b[0m\u001b[0;34m[\u001b[0m\u001b[0;34m'ne'\u001b[0m\u001b[0;34m]\u001b[0m \u001b[0;34m=\u001b[0m \u001b[0;34m(\u001b[0m\u001b[0mradar\u001b[0m\u001b[0;34m[\u001b[0m\u001b[0;34m'Data'\u001b[0m\u001b[0;34m]\u001b[0m\u001b[0;34m[\u001b[0m\u001b[0;34m'Array Layout'\u001b[0m\u001b[0;34m]\u001b[0m\u001b[0;34m[\u001b[0m\u001b[0;34m'2D Parameters'\u001b[0m\u001b[0;34m]\u001b[0m\u001b[0;34m[\u001b[0m\u001b[0;34m'ne'\u001b[0m\u001b[0;34m]\u001b[0m\u001b[0;34m)\u001b[0m\u001b[0;34m.\u001b[0m\u001b[0mflatten\u001b[0m\u001b[0;34m(\u001b[0m\u001b[0;34m)\u001b[0m\u001b[0;34m\u001b[0m\u001b[0;34m\u001b[0m\u001b[0m\n\u001b[0m\u001b[1;32m     10\u001b[0m \u001b[0;34m\u001b[0m\u001b[0m\n\u001b[1;32m     11\u001b[0m \u001b[0;34m\u001b[0m\u001b[0m\n",
      "\u001b[0;32m~/opt/anaconda3/envs/gfz_spacepy/lib/python3.8/site-packages/spacepy/datamodel.py\u001b[0m in \u001b[0;36m__getitem__\u001b[0;34m(self, key)\u001b[0m\n\u001b[1;32m    482\u001b[0m                 \u001b[0;32mreturn\u001b[0m \u001b[0mout\u001b[0m\u001b[0;34m\u001b[0m\u001b[0;34m\u001b[0m\u001b[0m\n\u001b[1;32m    483\u001b[0m             \u001b[0;32melse\u001b[0m\u001b[0;34m:\u001b[0m\u001b[0;34m\u001b[0m\u001b[0;34m\u001b[0m\u001b[0m\n\u001b[0;32m--> 484\u001b[0;31m                 \u001b[0;32mraise\u001b[0m\u001b[0;34m(\u001b[0m\u001b[0mKeyError\u001b[0m\u001b[0;34m(\u001b[0m\u001b[0;34m'{0}'\u001b[0m\u001b[0;34m.\u001b[0m\u001b[0mformat\u001b[0m\u001b[0;34m(\u001b[0m\u001b[0mkey\u001b[0m\u001b[0;34m)\u001b[0m\u001b[0;34m)\u001b[0m\u001b[0;34m)\u001b[0m\u001b[0;34m\u001b[0m\u001b[0;34m\u001b[0m\u001b[0m\n\u001b[0m\u001b[1;32m    485\u001b[0m \u001b[0;34m\u001b[0m\u001b[0m\n\u001b[1;32m    486\u001b[0m     \u001b[0;32mdef\u001b[0m \u001b[0m__init__\u001b[0m\u001b[0;34m(\u001b[0m\u001b[0mself\u001b[0m\u001b[0;34m,\u001b[0m \u001b[0;34m*\u001b[0m\u001b[0margs\u001b[0m\u001b[0;34m,\u001b[0m \u001b[0;34m**\u001b[0m\u001b[0mkwargs\u001b[0m\u001b[0;34m)\u001b[0m\u001b[0;34m:\u001b[0m\u001b[0;34m\u001b[0m\u001b[0;34m\u001b[0m\u001b[0m\n",
      "\u001b[0;31mKeyError\u001b[0m: 'ne'"
     ]
    }
   ],
   "source": [
    "radar_df = pd.DataFrame({\n",
    "        'dates': radar_datetimes,\n",
    "#         'ne' : (radar['Data']['Array Layout']['2D Parameters']['ne']).flatten(),\n",
    "        'range': radar['Data']['Array Layout']['range'][0]\n",
    "        })\n",
    "        \n",
    "radar_df = radar_df.loc[radar_df.index.repeat(85)]\n",
    "\n",
    "radar_df['ne'] = (radar['Data']['Array Layout']['2D Parameters']['ne']).flatten()\n",
    "\n",
    "\n",
    "\n"
   ]
  },
  {
   "cell_type": "code",
   "execution_count": 187,
   "id": "0c41c1bb",
   "metadata": {},
   "outputs": [
    {
     "data": {
      "text/plain": [
       "0      True\n",
       "0      True\n",
       "0      True\n",
       "0      True\n",
       "0      True\n",
       "       ... \n",
       "287    True\n",
       "287    True\n",
       "287    True\n",
       "287    True\n",
       "287    True\n",
       "Name: dates, Length: 24480, dtype: bool"
      ]
     },
     "execution_count": 187,
     "metadata": {},
     "output_type": "execute_result"
    }
   ],
   "source": [
    "radar_df['dates'] <= time_window_i"
   ]
  },
  {
   "cell_type": "code",
   "execution_count": 184,
   "id": "6ca6290c",
   "metadata": {},
   "outputs": [
    {
     "data": {
      "text/plain": [
       "Timestamp('2019-10-25 07:28:22')"
      ]
     },
     "execution_count": 184,
     "metadata": {},
     "output_type": "execute_result"
    }
   ],
   "source": [
    "time_window_i"
   ]
  },
  {
   "cell_type": "code",
   "execution_count": 145,
   "id": "030512c2",
   "metadata": {},
   "outputs": [
    {
     "data": {
      "text/plain": [
       "85"
      ]
     },
     "execution_count": 145,
     "metadata": {},
     "output_type": "execute_result"
    }
   ],
   "source": [
    "radar_file = radar_list[0] \n",
    "radar = dm.fromHDF5(radar_file)\n",
    "radar_datetimes =[]\n",
    "for t in iter(range(0,len(radar['Data']['Array Layout']['timestamps']))):\n",
    "\n",
    "    radar_datetimes.append(datetime.datetime.fromtimestamp(radar['Data']['Array Layout']['timestamps'][t])) \n",
    "        \n",
    "\n",
    "np.shape(radar['Data']['Array Layout']['2D Parameters']['ne'])[0]"
   ]
  },
  {
   "cell_type": "code",
   "execution_count": 136,
   "id": "8806af9b",
   "metadata": {},
   "outputs": [
    {
     "data": {
      "text/plain": [
       "85"
      ]
     },
     "execution_count": 136,
     "metadata": {},
     "output_type": "execute_result"
    }
   ],
   "source": [
    "np.shape(radar['Data']['Array Layout']['range'])[0]"
   ]
  },
  {
   "cell_type": "code",
   "execution_count": 106,
   "id": "5c40336b",
   "metadata": {},
   "outputs": [
    {
     "data": {
      "text/plain": [
       "15021   2020-08-20 20:51:27\n",
       "15022   2020-08-20 20:51:32\n",
       "15023   2020-08-20 20:51:37\n",
       "15024   2020-08-20 20:51:42\n",
       "15025   2020-08-20 20:51:47\n",
       "15026   2020-08-20 20:51:52\n",
       "15027   2020-08-20 20:51:57\n",
       "15028   2020-08-20 20:52:02\n",
       "15029   2020-08-20 20:52:07\n",
       "15030   2020-08-20 20:52:12\n",
       "15031   2020-08-20 20:52:17\n",
       "15032   2020-08-20 20:52:22\n",
       "15033   2020-08-20 20:52:27\n",
       "15034   2020-08-20 20:52:32\n",
       "15035   2020-08-20 20:52:37\n",
       "15036   2020-08-20 20:52:42\n",
       "15037   2020-08-20 20:52:47\n",
       "15038   2020-08-20 20:52:52\n",
       "15039   2020-08-20 20:52:57\n",
       "15040   2020-08-20 20:53:02\n",
       "15041   2020-08-20 20:53:07\n",
       "15042   2020-08-20 20:53:12\n",
       "15043   2020-08-20 20:53:17\n",
       "15044   2020-08-20 20:53:22\n",
       "15045   2020-08-20 20:53:27\n",
       "15046   2020-08-20 20:53:32\n",
       "15047   2020-08-20 20:53:37\n",
       "15048   2020-08-20 20:53:42\n",
       "15049   2020-08-20 20:53:47\n",
       "15050   2020-08-20 20:53:52\n",
       "15051   2020-08-20 20:53:57\n",
       "15052   2020-08-20 20:54:02\n",
       "Name: dates, dtype: datetime64[ns]"
      ]
     },
     "execution_count": 106,
     "metadata": {},
     "output_type": "execute_result"
    }
   ],
   "source": [
    "grf['dates']"
   ]
  },
  {
   "cell_type": "code",
   "execution_count": 126,
   "id": "c349811d",
   "metadata": {},
   "outputs": [
    {
     "data": {
      "text/plain": [
       "dmarray([[7.00000e+05, 6.33403e+10, 6.03664e+10, ..., 4.44310e+09,\n",
       "          4.89110e+09, 4.32810e+09],\n",
       "         [1.06050e+11, 1.09169e+11, 1.06083e+11, ..., 8.85060e+09,\n",
       "          7.12180e+09, 3.94490e+09],\n",
       "         [1.11636e+11, 1.19121e+11, 1.16032e+11, ..., 3.77630e+09,\n",
       "          5.68000e+09, 2.80640e+09],\n",
       "         ...,\n",
       "         [3.41318e+10, 5.72159e+10, 4.95072e+10, ..., 1.15873e+10,\n",
       "          1.27142e+10, 1.27567e+10],\n",
       "         [3.41118e+10, 5.77888e+10, 4.98728e+10, ..., 1.15873e+10,\n",
       "          1.27142e+10, 1.27567e+10],\n",
       "         [3.40942e+10, 5.83566e+10, 5.02411e+10, ..., 1.15873e+10,\n",
       "          1.27142e+10, 1.27567e+10]])"
      ]
     },
     "execution_count": 126,
     "metadata": {},
     "output_type": "execute_result"
    }
   ],
   "source": [
    "# dm.fromHDF5(radar_list[0])['Data']['Array Layout']['2D Parameters']['ne']\n",
    "\n",
    "# dm.fromHDF5(radar_list[0])['Data']['Array Layout']['range']"
   ]
  },
  {
   "cell_type": "code",
   "execution_count": 2,
   "id": "39dde158",
   "metadata": {},
   "outputs": [],
   "source": [
    "import warnings\n",
    "warnings.filterwarnings(\"ignore\")"
   ]
  },
  {
   "cell_type": "code",
   "execution_count": 6,
   "id": "b4d9da3d",
   "metadata": {},
   "outputs": [
    {
     "data": {
      "text/plain": [
       "72.4"
      ]
     },
     "execution_count": 6,
     "metadata": {},
     "output_type": "execute_result"
    }
   ],
   "source": [
    "float(metaA4[metaA4['name'] == 'instrument latitude']['value']) + 5"
   ]
  },
  {
   "cell_type": "code",
   "execution_count": 24,
   "id": "34969188",
   "metadata": {},
   "outputs": [],
   "source": [
    "gf_file = gf_list[grf_idx]\n",
    "gf = pd.read_csv(gf_file, sep='\\s+', header=0,index_col=False, names=headerlist)\n",
    "# gf['dates'] = (Time(gf['CDF Epoch'].values, format='cdf_epoch')).datetime\n",
    "\n",
    "#         #             gf_pass = gf[gf.diff(axis = 0)['dates'] > datetime.timedelta(minutes=30)]\n"
   ]
  },
  {
   "cell_type": "code",
   "execution_count": 26,
   "id": "aa09b137",
   "metadata": {},
   "outputs": [
    {
     "data": {
      "text/plain": [
       "Index(['CDF Epoch', 'GPS', 'Latitude', 'Longitude', 'Radius', 'Latitude_QD',\n",
       "       'Longitude_QD', 'MLT GRACE_1_Position', 'GRACE_2_Position', 'Iono_Corr',\n",
       "       'Distance', 'Relative_Hor_TEC', 'Relative_Ne'],\n",
       "      dtype='object')"
      ]
     },
     "execution_count": 26,
     "metadata": {},
     "output_type": "execute_result"
    }
   ],
   "source": [
    "gf.columns"
   ]
  },
  {
   "cell_type": "code",
   "execution_count": null,
   "id": "a7f02e43",
   "metadata": {},
   "outputs": [],
   "source": []
  }
 ],
 "metadata": {
  "kernelspec": {
   "display_name": "Python 3",
   "language": "python",
   "name": "python3"
  },
  "language_info": {
   "codemirror_mode": {
    "name": "ipython",
    "version": 3
   },
   "file_extension": ".py",
   "mimetype": "text/x-python",
   "name": "python",
   "nbconvert_exporter": "python",
   "pygments_lexer": "ipython3",
   "version": "3.8.10"
  }
 },
 "nbformat": 4,
 "nbformat_minor": 5
}
