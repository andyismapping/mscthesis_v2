{
 "cells": [
  {
   "cell_type": "code",
   "execution_count": 31,
   "id": "333ff2bc-cda9-4b33-982a-11b1e9b01305",
   "metadata": {},
   "outputs": [],
   "source": [
    "%matplotlib widget\n",
    "\n",
    "import glob\n",
    "import numpy as np\n",
    "import pandas as pd\n",
    "from astropy.time import Time\n",
    "import cdflib\n",
    "import datetime\n",
    "import spacepy.datamodel as dm\n",
    "from astropy.table import Table\n",
    "import math\n",
    "from scipy.optimize import curve_fit\n",
    "from matplotlib import pyplot as plt\n",
    "import tqdm\n",
    "\n",
    "\n",
    "fig.canvas.toolbar_visible = False\n",
    "fig.canvas.header_visible = False\n",
    "fig.canvas.resizable = True"
   ]
  },
  {
   "cell_type": "code",
   "execution_count": 24,
   "id": "17ef53d1-f48d-4034-980d-17e4e233041d",
   "metadata": {},
   "outputs": [],
   "source": [
    "# estimate local time zone\n",
    "def calc_solartime(longitude_local, datetime_UTC):\n",
    "\n",
    "    longitudes = []\n",
    "    for i in iter(range(0,13)):\n",
    "        longitudes.append(7.5 + (15*i))    \n",
    "    \n",
    "    longitudes.append(np.abs(longitude_local))\n",
    "    longitudes.sort()\n",
    "    \n",
    "    idx_localtime = np.argwhere(longitudes == np.abs(longitude_local))[0][0]\n",
    "    if longitude_local >=0:\n",
    "        datetime_local = datetime_UTC + datetime.timedelta(hours = int(idx_localtime))\n",
    "    else:\n",
    "        datetime_local = datetime_UTC - datetime.timedelta(hours = int(idx_localtime))\n",
    "    \n",
    "    return datetime_local"
   ]
  },
  {
   "cell_type": "code",
   "execution_count": 25,
   "id": "7274895b-2a22-4fa1-a5df-aa4b1c0449cc",
   "metadata": {},
   "outputs": [],
   "source": [
    "gf = pd.read_csv('../data/processed/GF_ts_complete.csv')"
   ]
  },
  {
   "cell_type": "code",
   "execution_count": 43,
   "id": "6e4fa5bd-11a5-4dfa-bdb4-77719f7f8aa4",
   "metadata": {},
   "outputs": [
    {
     "data": {
      "application/vnd.jupyter.widget-view+json": {
       "model_id": "580e87778f82428eb0183d3420468d3d",
       "version_major": 2,
       "version_minor": 0
      },
      "text/plain": [
       "Canvas(toolbar=Toolbar(toolitems=[('Home', 'Reset original view', 'home', 'home'), ('Back', 'Back to previous …"
      ]
     },
     "metadata": {},
     "output_type": "display_data"
    }
   ],
   "source": [
    "%matplotlib widget\n",
    "\n",
    "plt.scatter(gf['CDF Epoch'], gf['Relative_Ne'])\n",
    "\n",
    "plt.rcParams['figure.figsize'] = [12, 8]\n"
   ]
  },
  {
   "cell_type": "code",
   "execution_count": null,
   "id": "4b627277-48f5-4b02-8a47-2dd4e6cd21ee",
   "metadata": {},
   "outputs": [],
   "source": []
  }
 ],
 "metadata": {
  "kernelspec": {
   "display_name": "Python 3",
   "language": "python",
   "name": "python3"
  },
  "language_info": {
   "codemirror_mode": {
    "name": "ipython",
    "version": 3
   },
   "file_extension": ".py",
   "mimetype": "text/x-python",
   "name": "python",
   "nbconvert_exporter": "python",
   "pygments_lexer": "ipython3",
   "version": "3.8.10"
  }
 },
 "nbformat": 4,
 "nbformat_minor": 5
}
