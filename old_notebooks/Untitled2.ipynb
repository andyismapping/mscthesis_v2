{
 "cells": [
  {
   "cell_type": "code",
   "execution_count": 1,
   "id": "1a5aaa2e",
   "metadata": {},
   "outputs": [
    {
     "name": "stderr",
     "output_type": "stream",
     "text": [
      "/Users/andyara/opt/anaconda3/envs/gfz_spacepy/lib/python3.8/site-packages/erfa/core.py:154: ErfaWarning: ERFA function \"dtf2d\" yielded 1 of \"dubious year (Note 6)\"\n",
      "  warnings.warn('ERFA function \"{}\" yielded {}'.format(func_name, wmsg),\n"
     ]
    }
   ],
   "source": [
    "import glob\n",
    "import numpy as np\n",
    "import pandas as pd\n",
    "from astropy.time import Time\n",
    "import cdflib\n",
    "import datetime\n",
    "import spacepy.datamodel as dm\n",
    "from astropy.table import Table\n",
    "\n",
    "spatial_window = 5\n",
    "temporal_window = 15\n",
    "\n",
    "\n",
    "radar_list = glob.glob('../data/external/Madrigal/2018-2021/*/*.hdf5')\n",
    "radar_list.sort()\n",
    "# print(len(radar_list))\n",
    "\n",
    "\n",
    "gf_list = glob.glob('../data/interim/GRACEFO/KBRNE_relative_v1/dat/*')\n",
    "gf_list.sort()\n",
    "# print(len(gf_list))\n",
    "headerlist=['CDF Epoch', 'GPS', 'Latitude', 'Longitude', 'Radius', 'Latitude_QD', 'Longitude_QD','MLT GRACE_1_Position', 'GRACE_2_Position', 'Iono_Corr', 'Distance', 'Relative_Hor_TEC', 'Relative_Ne']\n",
    "\n",
    "gf_list_datetimes =[]\n",
    "for gf_file in gf_list:\n",
    "    gf = pd.read_csv(gf_file, sep='\\s+', header=0,index_col=False, names=headerlist)\n",
    "    gf_list_datetimes.append((Time(gf['CDF Epoch'].values[-1], format='cdf_epoch').datetime).strftime('%Y-%m-%d'))\n",
    "\n",
    "# for i in iter(range(0,len(radar_list))):\n",
    "# for i in iter(range(0,500)):\n",
    "i= 265\n",
    "radar = (Table.read(radar_list[i], path='Data/Table Layout')).to_pandas()\n",
    "radar_date = datetime.datetime(int(radar.year[0]), int(radar.month[0]), int(radar.day[0])).strftime('%Y-%m-%d')\n",
    "\n",
    "date, idx_gf, idx_radar = np.intersect1d(gf_list_datetimes, radar_date, return_indices=True)\n",
    "\n",
    "if len(idx_radar) > 0:\n",
    "    # print(i,date,idx_gf)\n",
    "\n",
    "    gf_file = gf_list[idx_gf[0]]\n",
    "    gf = pd.read_csv(gf_file, sep='\\s+', header=0, index_col=False, names=headerlist)\n",
    "    gf['dates'] = (Time(gf['CDF Epoch'].values, format='cdf_epoch')).datetime\n",
    "\n",
    "    radar_metadata = (Table.read(radar_list[i], path='Metadata/Experiment Parameters')).to_pandas()\n",
    "\n",
    "    names = np.array([x.decode() for x in radar_metadata['name']])\n",
    "    values = np.array([x.decode() for x in radar_metadata['value']])\n",
    "\n",
    "    radar_metadata = pd.DataFrame({'name': names,\n",
    "                                   'value': values})\n",
    "    radar_lat = float(radar_metadata[radar_metadata['name'] == 'instrument latitude']['value'].values[0])\n",
    "    radar_lon = float(radar_metadata[radar_metadata['name'] == 'instrument longitude']['value'].values[0])\n",
    "\n",
    "    gf = gf[((gf['Latitude'] <= radar_lat + spatial_window) & (gf['Latitude'] >= radar_lat - spatial_window))]\n",
    "    gf = gf[((gf['Longitude'] <= radar_lon + spatial_window) & (gf['Longitude'] >= radar_lon - spatial_window))]\n",
    "\n",
    "    if len(gf) > 0:\n",
    "        # print('------')\n",
    "        # print(i, date, len(gf))\n",
    "        # print('------')\n",
    "\n",
    "        gf_pass = gf[gf.diff(axis=0)['dates'] > datetime.timedelta(minutes=temporal_window)]\n",
    "        # print(len(gf_pass))\n",
    "\n",
    "        if len(gf_pass) == 0:  # only one passage\n",
    "\n",
    "            time_window_i = gf['dates'][gf.index.min()] - datetime.timedelta(minutes=temporal_window)\n",
    "            time_window_f = gf['dates'][gf.index.max()] + datetime.timedelta(minutes=temporal_window)\n",
    "\n",
    "            dates = []\n",
    "            for d in iter(range(0, len(radar))):\n",
    "                dates.append(datetime.datetime(int(radar.year[d]), int(radar.month[d]), int(radar.day[d]), int(radar.hour[d]), int(radar.min[d]), int(radar.sec[d])))\n",
    "\n",
    "            radar['dates'] = dates\n",
    "\n",
    "            radar_select = radar[(radar['dates'] >= time_window_i) & (radar['dates'] <= time_window_f)]\n",
    "            gf_select = gf[(gf['dates'] >= time_window_i) & (gf['dates'] <= time_window_f)]\n",
    "            print(radar['dates'])\n",
    "            print(time_window_i, time_window_f)\n",
    "            print(i)"
   ]
  },
  {
   "cell_type": "code",
   "execution_count": 2,
   "id": "d0936352",
   "metadata": {},
   "outputs": [
    {
     "data": {
      "text/plain": [
       "datetime.datetime(2018, 6, 13, 2, 0)"
      ]
     },
     "execution_count": 2,
     "metadata": {},
     "output_type": "execute_result"
    }
   ],
   "source": [
    "datetime.datetime.fromtimestamp(radar.ut1_unix[0])"
   ]
  },
  {
   "cell_type": "code",
   "execution_count": 3,
   "id": "fb80678c",
   "metadata": {},
   "outputs": [
    {
     "data": {
      "text/plain": [
       "datetime.datetime(2018, 6, 13, 2, 1)"
      ]
     },
     "execution_count": 3,
     "metadata": {},
     "output_type": "execute_result"
    }
   ],
   "source": [
    "datetime.datetime.fromtimestamp(radar.ut2_unix[0])"
   ]
  },
  {
   "cell_type": "code",
   "execution_count": 4,
   "id": "592614f7",
   "metadata": {},
   "outputs": [
    {
     "data": {
      "text/html": [
       "<div>\n",
       "<style scoped>\n",
       "    .dataframe tbody tr th:only-of-type {\n",
       "        vertical-align: middle;\n",
       "    }\n",
       "\n",
       "    .dataframe tbody tr th {\n",
       "        vertical-align: top;\n",
       "    }\n",
       "\n",
       "    .dataframe thead th {\n",
       "        text-align: right;\n",
       "    }\n",
       "</style>\n",
       "<table border=\"1\" class=\"dataframe\">\n",
       "  <thead>\n",
       "    <tr style=\"text-align: right;\">\n",
       "      <th></th>\n",
       "      <th>year</th>\n",
       "      <th>month</th>\n",
       "      <th>day</th>\n",
       "      <th>hour</th>\n",
       "      <th>min</th>\n",
       "      <th>sec</th>\n",
       "      <th>recno</th>\n",
       "      <th>kindat</th>\n",
       "      <th>kinst</th>\n",
       "      <th>ut1_unix</th>\n",
       "      <th>ut2_unix</th>\n",
       "      <th>azm</th>\n",
       "      <th>elm</th>\n",
       "      <th>hsa</th>\n",
       "      <th>power</th>\n",
       "      <th>systmp</th>\n",
       "      <th>range</th>\n",
       "      <th>pop</th>\n",
       "      <th>dpop</th>\n",
       "      <th>rgate</th>\n",
       "    </tr>\n",
       "  </thead>\n",
       "  <tbody>\n",
       "    <tr>\n",
       "      <th>0</th>\n",
       "      <td>2018</td>\n",
       "      <td>6</td>\n",
       "      <td>13</td>\n",
       "      <td>0</td>\n",
       "      <td>0</td>\n",
       "      <td>30</td>\n",
       "      <td>0</td>\n",
       "      <td>6300</td>\n",
       "      <td>95</td>\n",
       "      <td>1.528848e+09</td>\n",
       "      <td>1.528848e+09</td>\n",
       "      <td>186.800003</td>\n",
       "      <td>81.599998</td>\n",
       "      <td>1.570796</td>\n",
       "      <td>645.1695</td>\n",
       "      <td>95.749359</td>\n",
       "      <td>89.937734</td>\n",
       "      <td>7.055998e+11</td>\n",
       "      <td>5.993838e+10</td>\n",
       "      <td>134.865031</td>\n",
       "    </tr>\n",
       "  </tbody>\n",
       "</table>\n",
       "</div>"
      ],
      "text/plain": [
       "   year  month  day  hour  min  sec  recno  kindat  kinst      ut1_unix  \\\n",
       "0  2018      6   13     0    0   30      0    6300     95  1.528848e+09   \n",
       "\n",
       "       ut2_unix         azm        elm       hsa     power     systmp  \\\n",
       "0  1.528848e+09  186.800003  81.599998  1.570796  645.1695  95.749359   \n",
       "\n",
       "       range           pop          dpop       rgate  \n",
       "0  89.937734  7.055998e+11  5.993838e+10  134.865031  "
      ]
     },
     "execution_count": 4,
     "metadata": {},
     "output_type": "execute_result"
    }
   ],
   "source": [
    "radar.head(1)"
   ]
  },
  {
   "cell_type": "code",
   "execution_count": 5,
   "id": "74a76943",
   "metadata": {},
   "outputs": [
    {
     "data": {
      "text/plain": [
       "'../data/external/Madrigal/2018-2021/EISCATSvalbardISRadarLongyearbyen/MAD6300_2018-06-13_ipy_60@42m.hdf5'"
      ]
     },
     "execution_count": 5,
     "metadata": {},
     "output_type": "execute_result"
    }
   ],
   "source": [
    "radar_list[i]"
   ]
  },
  {
   "cell_type": "code",
   "execution_count": 6,
   "id": "aac123bd",
   "metadata": {},
   "outputs": [
    {
     "data": {
      "text/plain": [
       "1528848000.0"
      ]
     },
     "execution_count": 6,
     "metadata": {},
     "output_type": "execute_result"
    }
   ],
   "source": [
    "radar.ut1_unix[0]"
   ]
  },
  {
   "cell_type": "code",
   "execution_count": 7,
   "id": "a9e18430",
   "metadata": {},
   "outputs": [],
   "source": [
    "import glob\n",
    "import numpy as np\n",
    "import pandas as pd\n",
    "from astropy.time import Time\n",
    "import cdflib\n",
    "import datetime\n",
    "import spacepy.datamodel as dm\n",
    "from astropy.table import Table"
   ]
  },
  {
   "cell_type": "code",
   "execution_count": 8,
   "id": "6ed4e077",
   "metadata": {},
   "outputs": [
    {
     "ename": "SyntaxError",
     "evalue": "unexpected EOF while parsing (<ipython-input-8-176a4733ba6b>, line 1)",
     "output_type": "error",
     "traceback": [
      "\u001b[0;36m  File \u001b[0;32m\"<ipython-input-8-176a4733ba6b>\"\u001b[0;36m, line \u001b[0;32m1\u001b[0m\n\u001b[0;31m    Time(np.mean(radar.ut1_unix, format='unix').datetime\u001b[0m\n\u001b[0m                                                        ^\u001b[0m\n\u001b[0;31mSyntaxError\u001b[0m\u001b[0;31m:\u001b[0m unexpected EOF while parsing\n"
     ]
    }
   ],
   "source": [
    "Time(np.mean(radar.ut1_unix, format='unix').datetime"
   ]
  },
  {
   "cell_type": "code",
   "execution_count": null,
   "id": "d9252df5",
   "metadata": {},
   "outputs": [],
   "source": [
    "Time(radar[['ut1_unix', 'ut2_unix']].mean(axis=1), format='unix').datetime\n"
   ]
  },
  {
   "cell_type": "code",
   "execution_count": null,
   "id": "ff66176a",
   "metadata": {},
   "outputs": [],
   "source": [
    "i = 64\n",
    "\n",
    "radar = (Table.read(radar_list[i], path='Data/Table Layout')).to_pandas()\n",
    "radar_date = datetime.datetime(int(radar.year[0]), int(radar.month[0]), int(radar.day[0])).strftime('%Y-%m-%d')\n",
    "\n",
    "date, idx_gf, idx_radar = np.intersect1d(gf_list_datetimes, radar_date, return_indices=True)\n",
    "\n",
    "if len(idx_radar) > 0:\n",
    "#     print(i,date,idx_gf)\n",
    "\n",
    "    gf_file = gf_list[idx_gf[0]]\n",
    "    gf = pd.read_csv(gf_file, sep='\\s+', header=0, index_col=False, names=headerlist)\n",
    "    gf['dates'] = (Time(gf['CDF Epoch'].values, format='cdf_epoch')).datetime\n",
    "\n",
    "    radar_metadata = (Table.read(radar_list[i], path='Metadata/Experiment Parameters')).to_pandas()\n",
    "\n",
    "    names = np.array([x.decode() for x in radar_metadata['name']])\n",
    "    values = np.array([x.decode() for x in radar_metadata['value']])\n",
    "\n",
    "    radar_metadata = pd.DataFrame({'name': names,\n",
    "                                   'value': values})\n",
    "    radar_lat = float(radar_metadata[radar_metadata['name'] == 'instrument latitude']['value'].values[0])\n",
    "    radar_lon = float(radar_metadata[radar_metadata['name'] == 'instrument longitude']['value'].values[0])\n",
    "\n",
    "    gf = gf[((gf['Latitude'] <= radar_lat + spatial_window) & (gf['Latitude'] >= radar_lat - spatial_window))]\n",
    "    gf = gf[((gf['Longitude'] <= radar_lon + spatial_window) & (gf['Longitude'] >= radar_lon - spatial_window))]\n",
    "\n",
    "    if len(gf) > 0:\n",
    "#         print('------')\n",
    "#         print(i, date, len(gf))\n",
    "#         print('------')\n",
    "\n",
    "        gf_pass = gf[gf.diff(axis=0)['dates'] > datetime.timedelta(minutes=temporal_window)]\n",
    "        print(len(gf_pass))\n",
    "        \n",
    "        if len(gf_pass) == 1 :\n",
    "            pass_idx = gf[gf['dates'] == gf_pass['dates'][gf_pass.index.min()]].index[0]\n",
    "            time_window_i = gf['dates'][gf.index.min()] - datetime.timedelta(minutes=15)\n",
    "            time_window_f = gf['dates'][gf.index[np.argwhere(gf.index == pass_idx)[0][0] - 1]] + datetime.timedelta(\n",
    "                    minutes=15)\n",
    "            print(time_window_i,time_window_f)\n",
    "            \n",
    "            radar['dates'] = Time(radar[['ut1_unix', 'ut2_unix']].mean(axis=1), format='unix').datetime\n",
    "            \n",
    "            radar_select = radar[(radar['dates'] >= time_window_i) & (radar['dates'] <= time_window_f)]\n",
    "            print(len(radar_select))\n",
    "\n",
    "#         if len(gf_pass) == 0:  # only one passage\n",
    "\n",
    "#             time_window_i = gf['dates'][gf.index.min()] - datetime.timedelta(minutes=temporal_window)\n",
    "#             time_window_f = gf['dates'][gf.index.max()] + datetime.timedelta(minutes=temporal_window)\n",
    "\n",
    "\n",
    "#             radar['dates'] = Time(radar[['ut1_unix', 'ut2_unix']].mean(axis=1), format='unix').datetime\n",
    "\n",
    "#             radar_select = radar[(radar['dates'] >= time_window_i) & (radar['dates'] <= time_window_f)]\n",
    "#             gf_select = gf[(gf['dates'] >= time_window_i) & (gf['dates'] <= time_window_f)]\n",
    "#             # print(radar['dates'])\n",
    "#             # print(time_window_i, time_window_f)\n",
    "#             # print(i)\n",
    "#             # exit(0)\n",
    "#             print(i, len(radar_select))"
   ]
  },
  {
   "cell_type": "code",
   "execution_count": null,
   "id": "98f1c18b",
   "metadata": {},
   "outputs": [],
   "source": [
    "(radar['dates']>= time_window_i) & (radar['dates']<= time_window_f)"
   ]
  },
  {
   "cell_type": "code",
   "execution_count": null,
   "id": "790e51f7",
   "metadata": {},
   "outputs": [],
   "source": [
    "radar['dates']"
   ]
  },
  {
   "cell_type": "code",
   "execution_count": null,
   "id": "8d10bfb1",
   "metadata": {},
   "outputs": [],
   "source": [
    "gf_list[i]"
   ]
  },
  {
   "cell_type": "code",
   "execution_count": null,
   "id": "520b2e84",
   "metadata": {},
   "outputs": [],
   "source": [
    "radar"
   ]
  },
  {
   "cell_type": "code",
   "execution_count": null,
   "id": "830db25d",
   "metadata": {},
   "outputs": [],
   "source": [
    "len(gf_list)"
   ]
  },
  {
   "cell_type": "code",
   "execution_count": null,
   "id": "2e728ef6",
   "metadata": {},
   "outputs": [],
   "source": [
    "radar_date"
   ]
  },
  {
   "cell_type": "code",
   "execution_count": null,
   "id": "52d16192",
   "metadata": {},
   "outputs": [],
   "source": [
    "idx_gf"
   ]
  },
  {
   "cell_type": "code",
   "execution_count": null,
   "id": "ec9952b0",
   "metadata": {},
   "outputs": [],
   "source": [
    "gf_file = gf_list[idx_gf[0]]\n",
    "gf = pd.read_csv(gf_file, sep='\\s+', header=0, index_col=False, names=headerlist)\n",
    "gf['dates'] = (Time(gf['CDF Epoch'].values, format='cdf_epoch')).datetime\n",
    "\n",
    "gf['dates']"
   ]
  },
  {
   "cell_type": "code",
   "execution_count": null,
   "id": "b1d767b5",
   "metadata": {},
   "outputs": [],
   "source": [
    "gf_list[idx_gf[0]]"
   ]
  },
  {
   "cell_type": "code",
   "execution_count": null,
   "id": "348adabf",
   "metadata": {},
   "outputs": [],
   "source": [
    "radar_list[i]"
   ]
  },
  {
   "cell_type": "code",
   "execution_count": null,
   "id": "0699a0bd",
   "metadata": {},
   "outputs": [],
   "source": [
    "import glob\n",
    "import numpy as np\n",
    "import pandas as pd\n",
    "from astropy.time import Time\n",
    "import cdflib\n",
    "import datetime\n",
    "import spacepy.datamodel as dm\n",
    "from astropy.table import Table\n",
    "\n",
    "spatial_window = 5\n",
    "temporal_window = 15\n",
    "\n",
    "radar_list = glob.glob('../data/external/Madrigal/2018-2021/*/*.hdf5')\n",
    "radar_list.sort()\n",
    "# print(len(radar_list))\n",
    "\n",
    "\n",
    "gf_list = glob.glob('../data/interim/GRACEFO/KBRNE_relative_v1/dat/*')\n",
    "gf_list.sort()\n",
    "# print(len(gf_list))\n",
    "headerlist = ['CDF Epoch', 'GPS', 'Latitude', 'Longitude', 'Radius', 'Latitude_QD', 'Longitude_QD',\n",
    "              'MLT GRACE_1_Position', 'GRACE_2_Position', 'Iono_Corr', 'Distance', 'Relative_Hor_TEC', 'Relative_Ne']\n",
    "\n",
    "gf_list_datetimes = []\n",
    "for gf_file in gf_list:\n",
    "    gf = pd.read_csv(gf_file, sep='\\s+', header=0, index_col=False, names=headerlist)\n",
    "    gf_list_datetimes.append((Time(gf['CDF Epoch'].values[-1], format='cdf_epoch').datetime).strftime('%Y-%m-%d'))\n",
    "\n",
    "for i in iter(range(0, 500)):\n",
    "    radar = (Table.read(radar_list[i], path='Data/Table Layout')).to_pandas()\n",
    "    radar_date = datetime.datetime(int(radar.year[0]), int(radar.month[0]), int(radar.day[0])).strftime('%Y-%m-%d')\n",
    "\n",
    "    date, idx_gf, idx_radar = np.intersect1d(gf_list_datetimes, radar_date, return_indices=True)\n",
    "\n",
    "    if len(idx_radar) > 0:\n",
    "        # print(i,date,idx_gf)\n",
    "\n",
    "        gf_file = gf_list[idx_gf[0]]\n",
    "        gf = pd.read_csv(gf_file, sep='\\s+', header=0, index_col=False, names=headerlist)\n",
    "        gf['dates'] = (Time(gf['CDF Epoch'].values, format='cdf_epoch')).datetime\n",
    "\n",
    "        radar_metadata = (Table.read(radar_list[i], path='Metadata/Experiment Parameters')).to_pandas()\n",
    "\n",
    "        names = np.array([x.decode() for x in radar_metadata['name']])\n",
    "        values = np.array([x.decode() for x in radar_metadata['value']])\n",
    "\n",
    "        radar_metadata = pd.DataFrame({'name': names,\n",
    "                                       'value': values})\n",
    "        radar_lat = float(radar_metadata[radar_metadata['name'] == 'instrument latitude']['value'].values[0])\n",
    "        radar_lon = float(radar_metadata[radar_metadata['name'] == 'instrument longitude']['value'].values[0])\n",
    "        radar['dates'] = Time(radar[['ut1_unix', 'ut2_unix']].mean(axis=1), format='unix').datetime\n",
    "\n",
    "\n",
    "        gf = gf[((gf['Latitude'] <= radar_lat + spatial_window) & (gf['Latitude'] >= radar_lat - spatial_window))]\n",
    "        gf = gf[((gf['Longitude'] <= radar_lon + spatial_window) & (gf['Longitude'] >= radar_lon - spatial_window))]\n",
    "\n",
    "        if len(gf) > 0:\n",
    "            print(i)\n",
    "            print(gf['dates'][gf.index.min()])\n",
    "            print(radar['dates'][radar.index.min()])\n",
    "            exit(0)"
   ]
  },
  {
   "cell_type": "code",
   "execution_count": 9,
   "id": "5a593d81",
   "metadata": {},
   "outputs": [
    {
     "data": {
      "text/plain": [
       "7623"
      ]
     },
     "execution_count": 9,
     "metadata": {},
     "output_type": "execute_result"
    }
   ],
   "source": [
    "len(radar_list)"
   ]
  },
  {
   "cell_type": "code",
   "execution_count": null,
   "id": "808d19fa",
   "metadata": {},
   "outputs": [],
   "source": [
    "import glob\n",
    "import numpy as np\n",
    "import pandas as pd\n",
    "from astropy.time import Time\n",
    "import cdflib\n",
    "import datetime\n",
    "import spacepy.datamodel as dm\n",
    "from astropy.table import Table\n",
    "\n",
    "spatial_window = 5\n",
    "temporal_window = 15\n",
    "\n",
    "radar_list = glob.glob('../data/external/Madrigal/2018-2021/*/*.hdf5')\n",
    "radar_list.sort()\n",
    "# print(len(radar_list))\n",
    "\n",
    "\n",
    "gf_list = glob.glob('../data/interim/GRACEFO/KBRNE_relative_v1/dat/*')\n",
    "gf_list.sort()\n",
    "# print(len(gf_list))\n",
    "headerlist = ['CDF Epoch', 'GPS', 'Latitude', 'Longitude', 'Radius', 'Latitude_QD', 'Longitude_QD',\n",
    "              'MLT GRACE_1_Position', 'GRACE_2_Position', 'Iono_Corr', 'Distance', 'Relative_Hor_TEC', 'Relative_Ne']\n",
    "\n",
    "gf_list_datetimes = []\n",
    "for gf_file in gf_list:\n",
    "    gf = pd.read_csv(gf_file, sep='\\s+', header=0, index_col=False, names=headerlist)\n",
    "    gf_list_datetimes.append((Time(gf['CDF Epoch'].values[-1], format='cdf_epoch').datetime).strftime('%Y-%m-%d'))\n",
    "\n",
    "for i in iter(range(0, len(radar_list))):\n",
    "    try:\n",
    "        radar = (Table.read(radar_list[i], path='Data/Table Layout')).to_pandas()\n",
    "        radar_date = datetime.datetime(int(radar.year[0]), int(radar.month[0]), int(radar.day[0])).strftime('%Y-%m-%d')\n",
    "\n",
    "        date, idx_gf, idx_radar = np.intersect1d(gf_list_datetimes, radar_date, return_indices=True)\n",
    "\n",
    "        if len(idx_radar) > 0:\n",
    "            # print(i,date,idx_gf)\n",
    "\n",
    "            gf_file = gf_list[idx_gf[0]]\n",
    "            gf = pd.read_csv(gf_file, sep='\\s+', header=0, index_col=False, names=headerlist)\n",
    "            gf['dates'] = (Time(gf['CDF Epoch'].values, format='cdf_epoch')).datetime\n",
    "\n",
    "            radar_metadata = (Table.read(radar_list[i], path='Metadata/Experiment Parameters')).to_pandas()\n",
    "\n",
    "            names = np.array([x.decode() for x in radar_metadata['name']])\n",
    "            values = np.array([x.decode() for x in radar_metadata['value']])\n",
    "\n",
    "            radar_metadata = pd.DataFrame({'name': names,\n",
    "                                           'value': values})\n",
    "            radar_lat = float(radar_metadata[radar_metadata['name'] == 'instrument latitude']['value'].values[0])\n",
    "            radar_lon = float(radar_metadata[radar_metadata['name'] == 'instrument longitude']['value'].values[0])\n",
    "            radar['dates'] = Time(radar[['ut1_unix', 'ut2_unix']].mean(axis=1), format='unix').datetime\n",
    "\n",
    "\n",
    "            gf = gf[((gf['Latitude'] <= radar_lat + spatial_window) & (gf['Latitude'] >= radar_lat - spatial_window))]\n",
    "            gf = gf[((gf['Longitude'] <= radar_lon + spatial_window) & (gf['Longitude'] >= radar_lon - spatial_window))]\n",
    "\n",
    "            if len(gf) > 0:\n",
    "\n",
    "                gf_pass = gf[gf.diff(axis=0)['dates'] > datetime.timedelta(minutes=temporal_window)]\n",
    "                # print(i)\n",
    "                # print(gf['dates'][gf.index.min()])\n",
    "                # print(radar['dates'][radar.index.min()])\n",
    "                # print(len(gf_pass))\n",
    "                # print('------')\n",
    "\n",
    "                if len(gf_pass) == 0:  # only one passage\n",
    "\n",
    "                    time_window_i = gf['dates'][gf.index.min()] - datetime.timedelta(minutes=temporal_window)\n",
    "                    time_window_f = gf['dates'][gf.index.max()] + datetime.timedelta(minutes=temporal_window)\n",
    "\n",
    "\n",
    "                    radar['dates'] = Time(radar[['ut1_unix', 'ut2_unix']].mean(axis=1), format='unix').datetime\n",
    "\n",
    "                    radar_select = radar[(radar['dates'] >= time_window_i) & (radar['dates'] <= time_window_f)]\n",
    "                    gf_select = gf[(gf['dates'] >= time_window_i) & (gf['dates'] <= time_window_f)]\n",
    "\n",
    "\n",
    "                    if (len(radar_select) > 0) & (len(gf_select) > 0):\n",
    "                        print(i, '0 GF passage ', time_window_i, '->', time_window_f)\n",
    "                        # print('gf : ', len(gf_select))\n",
    "                        # print('radar : ',len(radar_select))\n",
    "                        # print('------')\n",
    "\n",
    "                if len(gf_pass) == 1:  # two passages\n",
    "\n",
    "                    pass_idx = gf[gf['dates'] == gf_pass['dates'][gf_pass.index.min()]].index[0]\n",
    "\n",
    "                    # first one\n",
    "\n",
    "                    # define time window\n",
    "                    time_window_i = gf['dates'][gf.index.min()] - datetime.timedelta(minutes=15)\n",
    "                    time_window_f = gf['dates'][gf.index[np.argwhere(gf.index == pass_idx)[0][0] - 1]] + datetime.timedelta(\n",
    "                        minutes=15)\n",
    "\n",
    "                    radar_select = radar[(radar['dates'] >= time_window_i) & (radar['dates'] <= time_window_f)]\n",
    "                    gf_select = gf[(gf['dates'] >= time_window_i) & (gf['dates'] <= time_window_f)]\n",
    "\n",
    "                    if (len(radar_select) > 0) & (len(gf_select) > 0):\n",
    "                        print(i, '1 GF passage ', time_window_i, '->', time_window_f)\n",
    "                        # print('gf : ', len(gf_select))\n",
    "                        # print('radar : ', len(radar_select))\n",
    "                        # print('------')\n",
    "\n",
    "                    # second one\n",
    "\n",
    "                    # define time window\n",
    "                    time_window_i = gf['dates'][gf.index[np.argwhere(gf.index == pass_idx)[0][0]]] - datetime.timedelta(\n",
    "                        minutes=15)\n",
    "                    time_window_f = gf['dates'][gf.index.max()] + datetime.timedelta(minutes=15)\n",
    "\n",
    "                    radar_select = radar[(radar['dates'] >= time_window_i) & (radar['dates'] <= time_window_f)]\n",
    "                    gf_select = gf[(gf['dates'] >= time_window_i) & (gf['dates'] <= time_window_f)]\n",
    "\n",
    "                    if (len(radar_select) > 0) & (len(gf_select) > 0):\n",
    "                        print(i, '2 GF passage ', time_window_i, '->', time_window_f)\n",
    "                        # print('gf : ', len(gf_select))\n",
    "                        # print('radar : ', len(radar_select))\n",
    "                        # print('------')\n",
    "    except:\n",
    "        print('------')\n",
    "        print(radar_list[i])\n",
    "        print(gf_file)\n",
    "        print('------')\n"
   ]
  }
 ],
 "metadata": {
  "kernelspec": {
   "display_name": "Python 3",
   "language": "python",
   "name": "python3"
  },
  "language_info": {
   "codemirror_mode": {
    "name": "ipython",
    "version": 3
   },
   "file_extension": ".py",
   "mimetype": "text/x-python",
   "name": "python",
   "nbconvert_exporter": "python",
   "pygments_lexer": "ipython3",
   "version": "3.8.10"
  }
 },
 "nbformat": 4,
 "nbformat_minor": 5
}
