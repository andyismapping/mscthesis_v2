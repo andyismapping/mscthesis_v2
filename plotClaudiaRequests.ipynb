{
 "cells": [
  {
   "cell_type": "code",
   "execution_count": 1,
   "metadata": {
    "collapsed": true
   },
   "outputs": [
    {
     "name": "stdout",
     "output_type": "stream",
     "text": [
      "This unreleased version of SpacePy is not supported by the SpacePy team.\n"
     ]
    }
   ],
   "source": [
    "import glob\n",
    "import numpy as np\n",
    "import pandas as pd\n",
    "import pandas\n",
    "import datetime\n",
    "import math\n",
    "from matplotlib import pyplot as plt\n",
    "from spacepy import pycdf\n",
    "import aacgmv2\n",
    "from scipy.interpolate import griddata\n",
    "\n",
    "import warnings\n",
    "warnings.filterwarnings(action='once')\n"
   ]
  },
  {
   "cell_type": "code",
   "execution_count": 2,
   "outputs": [],
   "source": [
    "def convert_gf_to_pandas(gf):\n",
    "    \"\"\"\n",
    "    Function to convert gf hdf5 into a df. LEO position parameters are removed from the final df\n",
    "\n",
    "    :param gf: gf df\n",
    "    :return:\n",
    "    \"\"\"\n",
    "    keys = list(gf.keys())\n",
    "    keys.remove(\"LEO_Position\")\n",
    "    gf_dict = {k: gf[k][...] for k in keys}\n",
    "\n",
    "    gf = pandas.DataFrame(gf_dict)\n",
    "\n",
    "    return gf\n",
    "\n",
    "def earth_radius(B):\n",
    "    \"\"\"\n",
    "    Function to calculate earth radius\n",
    "\n",
    "    :param B: latitude in degrees\n",
    "    :return:\n",
    "    \"\"\"\n",
    "    B = math.radians(B)  # converting into radians\n",
    "    a = 6378.137  # Radius at sea level at equator\n",
    "    b = 6356.752  # Radius at poles\n",
    "    c = (a ** 2 * math.cos(B)) ** 2\n",
    "    d = (b ** 2 * math.sin(B)) ** 2\n",
    "    e = (a * math.cos(B)) ** 2\n",
    "    f = (b * math.sin(B)) ** 2\n",
    "    R = math.sqrt((c + d) / (e + f))\n",
    "    return R\n",
    "\n",
    "def geo2mag(latitude, longitude, altitude, timestamp):\n",
    "\n",
    "    mlat, mlon, mlt = aacgmv2.wrapper.get_aacgm_coord(latitude, longitude, altitude, timestamp, method='’ALLOWTRACE’')\n",
    "\n",
    "    return mlat, mlon, mlt"
   ],
   "metadata": {
    "collapsed": false,
    "pycharm": {
     "name": "#%%\n"
    }
   }
  },
  {
   "cell_type": "code",
   "execution_count": 3,
   "outputs": [
    {
     "name": "stdout",
     "output_type": "stream",
     "text": [
      "CPU times: user 19min 8s, sys: 19.3 s, total: 19min 28s\n",
      "Wall time: 20min 13s\n"
     ]
    }
   ],
   "source": [
    "%%time\n",
    "\n",
    "gf_files = glob.glob('../data/interim/Absolute_Ne/*/GR_OPER_NE__KBR_2F_*.cdf')\n",
    "gf_files.sort()\n",
    "for gf_file in gf_files:\n",
    "\n",
    "    gf = pycdf.CDF(gf_file)\n",
    "    gf = convert_gf_to_pandas(gf)\n",
    "\n",
    "    # gf['Re'] = gf.Latitude.apply(lambda x: earth_radius(x))\n",
    "    #\n",
    "    # gf[['mlat','mlon', 'mlt']] = (gf.apply(lambda x: geo2mag(x['Latitude'], x['Longitude'], np.mean(x['Radius'] * 0.001 - x['Re']), x['Timestamp']), axis = 1).values.tolist())\n",
    "    #\n",
    "    # gf = gf.dropna()\n",
    "    #\n",
    "    # gf['hour'] = gf.mlt.apply(lambda x : int(x))\n",
    "\n",
    "    gf.to_csv('../data/processed/Absolute_Ne_converted/GRACE/{filename}.csv'.format(filename=gf_file.split('/')[-1]))"
   ],
   "metadata": {
    "collapsed": false,
    "pycharm": {
     "name": "#%%\n"
    }
   }
  },
  {
   "cell_type": "code",
   "execution_count": 8,
   "outputs": [
    {
     "name": "stdout",
     "output_type": "stream",
     "text": [
      "CPU times: user 3min 15s, sys: 3.26 s, total: 3min 18s\n",
      "Wall time: 3min 27s\n"
     ]
    }
   ],
   "source": [
    "%%time\n",
    "\n",
    "gf_files = glob.glob('../data/interim/Absolute_Ne/*/GF_OPER_NE__KBR_2F_*.cdf')\n",
    "gf_files.sort()\n",
    "for gf_file in gf_files:\n",
    "    try:\n",
    "\n",
    "        gf = pycdf.CDF(gf_file)\n",
    "        gf = convert_gf_to_pandas(gf)\n",
    "\n",
    "        # gf['Re'] = gf.Latitude.apply(lambda x: earth_radius(x))\n",
    "        #\n",
    "        # gf[['mlat','mlon', 'mlt']] = (gf.apply(lambda x: geo2mag(x['Latitude'], x['Longitude'], np.mean(x['Radius'] * 0.001 - x['Re']), x['Timestamp']), axis = 1).values.tolist())\n",
    "        #\n",
    "        # gf = gf.dropna()\n",
    "        #\n",
    "        # gf['hour'] = gf.mlt.apply(lambda x : int(x))\n",
    "\n",
    "        gf.to_csv('../data/processed/Absolute_Ne_converted/GRACEFO/{filename}.csv'.format(filename=gf_file.split('/')[-1]))\n",
    "    except:\n",
    "        print(gf_file)"
   ],
   "metadata": {
    "collapsed": false,
    "pycharm": {
     "name": "#%%\n"
    }
   }
  },
  {
   "cell_type": "code",
   "execution_count": null,
   "outputs": [],
   "source": [],
   "metadata": {
    "collapsed": false,
    "pycharm": {
     "name": "#%%\n"
    }
   }
  },
  {
   "cell_type": "code",
   "execution_count": 197,
   "outputs": [
    {
     "name": "stdout",
     "output_type": "stream",
     "text": [
      "CPU times: user 2h 18min 18s, sys: 1h 4min 6s, total: 3h 22min 25s\n",
      "Wall time: 3h 24min 45s\n"
     ]
    }
   ],
   "source": [
    "%%time\n",
    "# pd.options.mode.chained_assignment = None\n",
    "# loop through hours\n",
    "\n",
    "gf_files = glob.glob('../data/processed/Absolute_Ne/GRACE/*.csv')\n",
    "gf_files.sort()\n",
    "\n",
    "\n",
    "for i in iter(range(0,24)):\n",
    "\n",
    "    gf_plot = pd.DataFrame()\n",
    "\n",
    "    for j in iter(range(0,len(gf_files))):\n",
    "\n",
    "        gf = pd.read_csv(gf_files[j]).drop(['Unnamed: 0'],axis=1)\n",
    "\n",
    "        # select hour\n",
    "        gf = gf[gf['hour'] == i]\n",
    "\n",
    "        gf_plot = gf_plot.append(gf)\n",
    "\n",
    "\n",
    "    # plot\n",
    "    plt.figure(figsize=(18,3))\n",
    "    plt.suptitle('Hour {i}'.format(i=i),fontweight='bold')\n",
    "\n",
    "    # bin lat\n",
    "    gf_plot['mlat'] = np.round(gf_plot['mlat'],0)\n",
    "\n",
    "    # extract mean, max, min\n",
    "    gf_groupby = gf_plot.groupby('mlat').agg({'Absolute_Ne': ['mean', 'min', 'max']})\n",
    "\n",
    "\n",
    "    ax1 = plt.subplot(1,3,1)\n",
    "    plt.xlim(-90,90)\n",
    "    ax1.scatter(gf_plot['mlat'], gf_plot['Absolute_Ne'])\n",
    "#     ax1.ylim(-10e11, 10e11)\n",
    "\n",
    "    ax2 = plt.subplot(1,3,2)\n",
    "    plt.xlim(-90,90)\n",
    "    ax2.plot(gf_groupby.index, gf_groupby['Absolute_Ne']['mean'])\n",
    "#     ax2.ylim(-10e10, 10e10)\n",
    "\n",
    "    ax3 = plt.subplot(1,3,3)\n",
    "    plt.xlim(-90,90)\n",
    "    ax3.plot(gf_groupby.index, gf_groupby['Absolute_Ne']['mean'])\n",
    "    ax3.plot(gf_groupby.index, gf_groupby['Absolute_Ne']['max'])\n",
    "    ax3.plot(gf_groupby.index, gf_groupby['Absolute_Ne']['min'])\n",
    "#     ax3.ylim(-10e11, 10e11)\n",
    "\n",
    "    plt.savefig('../figures/GR_maglat_Ne_{hour}.png'.format(hour=i))\n",
    "    plt.close()"
   ],
   "metadata": {
    "collapsed": false,
    "pycharm": {
     "name": "#%%\n"
    }
   }
  },
  {
   "cell_type": "code",
   "execution_count": null,
   "outputs": [],
   "source": [],
   "metadata": {
    "collapsed": false,
    "pycharm": {
     "name": "#%%\n"
    }
   }
  },
  {
   "cell_type": "code",
   "execution_count": 198,
   "outputs": [
    {
     "name": "stdout",
     "output_type": "stream",
     "text": [
      "CPU times: user 12min 54s, sys: 2min 54s, total: 15min 49s\n",
      "Wall time: 16min 2s\n"
     ]
    }
   ],
   "source": [
    "%%time\n",
    "# pd.options.mode.chained_assignment = None\n",
    "# loop through hours\n",
    "\n",
    "gf_files = glob.glob('../data/processed/Absolute_Ne/GRACEFO/*.csv')\n",
    "gf_files.sort()\n",
    "\n",
    "\n",
    "for i in iter(range(0,24)):\n",
    "\n",
    "    gf_plot = pd.DataFrame()\n",
    "\n",
    "    for j in iter(range(0,len(gf_files))):\n",
    "\n",
    "        gf = pd.read_csv(gf_files[j]).drop(['Unnamed: 0'],axis=1)\n",
    "\n",
    "        # select hour\n",
    "        gf = gf[gf['hour'] == i]\n",
    "\n",
    "        gf_plot = gf_plot.append(gf)\n",
    "\n",
    "\n",
    "    # plot\n",
    "    plt.figure(figsize=(18,3))\n",
    "    plt.suptitle('Hour {i}'.format(i=i),fontweight='bold')\n",
    "\n",
    "    # bin lat\n",
    "    gf_plot['mlat'] = np.round(gf_plot['mlat'],0)\n",
    "\n",
    "    # extract mean, max, min\n",
    "    gf_groupby = gf_plot.groupby('mlat').agg({'Absolute_Ne': ['mean', 'min', 'max']})\n",
    "\n",
    "\n",
    "    ax1 = plt.subplot(1,3,1)\n",
    "    plt.xlim(-90,90)\n",
    "    ax1.scatter(gf_plot['mlat'], gf_plot['Absolute_Ne'])\n",
    "#     ax1.ylim(-10e11, 10e11)\n",
    "\n",
    "    ax2 = plt.subplot(1,3,2)\n",
    "    plt.xlim(-90,90)\n",
    "    ax2.plot(gf_groupby.index, gf_groupby['Absolute_Ne']['mean'])\n",
    "#     ax2.ylim(-10e10, 10e10)\n",
    "\n",
    "    ax3 = plt.subplot(1,3,3)\n",
    "    plt.xlim(-90,90)\n",
    "    ax3.plot(gf_groupby.index, gf_groupby['Absolute_Ne']['mean'])\n",
    "    ax3.plot(gf_groupby.index, gf_groupby['Absolute_Ne']['max'])\n",
    "    ax3.plot(gf_groupby.index, gf_groupby['Absolute_Ne']['min'])\n",
    "#     ax3.ylim(-10e11, 10e11)\n",
    "\n",
    "    plt.savefig('../figures/GF_maglat_Ne_{hour}.png'.format(hour=i))\n",
    "    plt.close()"
   ],
   "metadata": {
    "collapsed": false,
    "pycharm": {
     "name": "#%%\n"
    }
   }
  },
  {
   "cell_type": "code",
   "execution_count": 288,
   "outputs": [],
   "source": [
    "gr = pd.read_csv('../tables/conjunctionsGR.csv').drop(['Unnamed: 0'],axis=1)\n",
    "gf = pd.read_csv('../tables/conjunctionsGF.csv').drop(['Unnamed: 0'],axis=1)\n",
    "\n",
    "f107 = pd.read_csv('../data/external/f107/Kp_ap_Ap_SN_F107_since_1932.txt', delimiter=r\"\\s+\", comment='#')"
   ],
   "metadata": {
    "collapsed": false,
    "pycharm": {
     "name": "#%%\n"
    }
   }
  },
  {
   "cell_type": "code",
   "execution_count": 291,
   "outputs": [],
   "source": [
    "f107['date_simplified'] = f107.apply(lambda x: datetime.datetime(int(x['YYYY']),int(x['MM']),int(x['DD'])), axis = 1)\n",
    "\n",
    "gr['date'] = pd.to_datetime(gr['date'])\n",
    "gr['date_simplified']  = gr['date'].apply(lambda x: pd.to_datetime(x.strftime('%Y-%m-%d')))\n",
    "\n",
    "gf['date'] = pd.to_datetime(gf['date'])\n",
    "gf['date_simplified']  = gf['date'].apply(lambda x: pd.to_datetime(x.strftime('%Y-%m-%d')))"
   ],
   "metadata": {
    "collapsed": false,
    "pycharm": {
     "name": "#%%\n"
    }
   }
  },
  {
   "cell_type": "code",
   "execution_count": 292,
   "outputs": [],
   "source": [
    "gf_f107 = gf.merge(f107, left_on='date_simplified', right_on='date_simplified')\n",
    "\n",
    "gr_f107 = gr.merge(f107, left_on='date_simplified', right_on='date_simplified')\n",
    "\n"
   ],
   "metadata": {
    "collapsed": false,
    "pycharm": {
     "name": "#%%\n"
    }
   }
  },
  {
   "cell_type": "code",
   "execution_count": 302,
   "outputs": [
    {
     "data": {
      "text/plain": "<matplotlib.collections.PathCollection at 0x7fb093e4a970>"
     },
     "execution_count": 302,
     "metadata": {},
     "output_type": "execute_result"
    },
    {
     "data": {
      "text/plain": "<Figure size 432x288 with 1 Axes>",
      "image/png": "[encoded data removed]"
     },
     "metadata": {
      "needs_background": "light"
     },
     "output_type": "display_data"
    }
   ],
   "source": [
    "plt.scatter(gr_f107['F10.7obs'],(gr_f107['ne_radar']))\n",
    "plt.scatter(gf_f107['F10.7obs'],(gf_f107['ne_radar']))\n",
    "\n",
    "# ident = [0.0, 800.0]\n",
    "# plt.plot(ident,ident)"
   ],
   "metadata": {
    "collapsed": false,
    "pycharm": {
     "name": "#%%\n"
    }
   }
  },
  {
   "cell_type": "code",
   "execution_count": 307,
   "outputs": [
    {
     "data": {
      "text/plain": "<matplotlib.collections.PathCollection at 0x7fb138f99400>"
     },
     "execution_count": 307,
     "metadata": {},
     "output_type": "execute_result"
    },
    {
     "data": {
      "text/plain": "<Figure size 432x288 with 1 Axes>",
      "image/png": "[encoded data removed]"
     },
     "metadata": {
      "needs_background": "light"
     },
     "output_type": "display_data"
    }
   ],
   "source": [
    "plt.scatter(gf['date_simplified'], (gf['ne_radar']))\n",
    "plt.scatter(gr['date_simplified'], (gr['ne_radar']))\n",
    "\n",
    "# plt.scatter(f107['date_simplified'], 10**f107['F10.7obs'])\n"
   ],
   "metadata": {
    "collapsed": false,
    "pycharm": {
     "name": "#%%\n"
    }
   }
  },
  {
   "cell_type": "code",
   "execution_count": 4,
   "outputs": [
    {
     "name": "stdout",
     "output_type": "stream",
     "text": [
      "CPU times: user 3min 40s, sys: 13 s, total: 3min 53s\n",
      "Wall time: 3min 59s\n"
     ]
    },
    {
     "data": {
      "text/plain": "<Figure size 1296x216 with 2 Axes>",
      "image/png": "[encoded data removed]"
     },
     "metadata": {
      "needs_background": "light"
     },
     "output_type": "display_data"
    }
   ],
   "source": [
    "%%time\n",
    "f107 = pd.read_csv('../data/external/f107/Kp_ap_Ap_SN_F107_since_1932.txt', delimiter=r\"\\s+\", comment='#')\n",
    "\n",
    "f107['date_simplified'] = f107.apply(lambda x: datetime.datetime(int(x['YYYY']),int(x['MM']),int(x['DD'])), axis = 1)\n",
    "\n",
    "f107 = f107[f107['F10.7obs']>=120]\n",
    "f107 = f107[(f107['YYYY']>2000)]\n",
    "\n",
    "f107 = f107.reset_index(drop=True)\n",
    "\n",
    "# target grid to interpolate to\n",
    "yi = np.arange(-60,60,1)\n",
    "xi = np.arange(0,24,1)\n",
    "xi,yi = np.meshgrid(xi,yi)\n",
    "\n",
    "list_zi = []\n",
    "\n",
    "for i in range(0,len(f107)):\n",
    "\n",
    "    date = f107['date_simplified'][i]\n",
    "\n",
    "    try:\n",
    "\n",
    "        gf_file = glob.glob('../data/processed/Absolute_Ne/*/GR_OPER_NE__KBR_2F_{date}*.cdf.csv'.format(\n",
    "            date=date.strftime('%Y%m%d')))\n",
    "\n",
    "        gf = pd.read_csv(gf_file[0], usecols=['Latitude','hour','Absolute_Ne'])\n",
    "\n",
    "        y= gf['Latitude']\n",
    "        x = gf['hour']\n",
    "        z = gf['Absolute_Ne']\n",
    "\n",
    "        # interpolate\n",
    "        zi = griddata((x,y),z,(xi,yi),method='linear')\n",
    "        list_zi.append(zi)\n",
    "\n",
    "    except:\n",
    "        pass\n",
    "\n",
    "zi = np.nanmean(np.array(list_zi),axis=0)\n",
    "\n",
    "plt.figure(figsize=(18,3))\n",
    "CS = plt.contourf(xi, yi, zi, 25,cmap='plasma')\n",
    "# plt.pcolormesh(xi, yi, zi)\n",
    "plt.colorbar()\n",
    "plt.title('Ne F10.7 > 120')\n",
    "plt.savefig('gr_hight.png')"
   ],
   "metadata": {
    "collapsed": false,
    "pycharm": {
     "name": "#%%\n"
    }
   }
  },
  {
   "cell_type": "code",
   "execution_count": 3,
   "outputs": [
    {
     "name": "stdout",
     "output_type": "stream",
     "text": [
      "CPU times: user 6min 5s, sys: 18.7 s, total: 6min 24s\n",
      "Wall time: 6min 41s\n"
     ]
    },
    {
     "data": {
      "text/plain": "<Figure size 1296x216 with 2 Axes>",
      "image/png": "[encoded data removed]"
     },
     "metadata": {
      "needs_background": "light"
     },
     "output_type": "display_data"
    }
   ],
   "source": [
    "%%time\n",
    "f107 = pd.read_csv('../data/external/f107/Kp_ap_Ap_SN_F107_since_1932.txt', delimiter=r\"\\s+\", comment='#')\n",
    "\n",
    "f107['date_simplified'] = f107.apply(lambda x: datetime.datetime(int(x['YYYY']),int(x['MM']),int(x['DD'])), axis = 1)\n",
    "\n",
    "f107 = f107[(f107['F10.7obs']>=80) & (f107['F10.7obs']<120)]\n",
    "f107 = f107[(f107['YYYY']>2000)]\n",
    "\n",
    "f107 = f107.reset_index(drop=True)\n",
    "\n",
    "# target grid to interpolate to\n",
    "yi = np.arange(-60,60,1)\n",
    "xi = np.arange(0,24,1)\n",
    "xi,yi = np.meshgrid(xi,yi)\n",
    "\n",
    "list_zi = []\n",
    "\n",
    "for i in range(0,len(f107)):\n",
    "\n",
    "    date = f107['date_simplified'][i]\n",
    "\n",
    "    try:\n",
    "\n",
    "        gf_file = glob.glob('../data/processed/Absolute_Ne/*/GR_OPER_NE__KBR_2F_{date}*.cdf.csv'.format(\n",
    "            date=date.strftime('%Y%m%d')))\n",
    "\n",
    "        gf = pd.read_csv(gf_file[0], usecols=['Latitude','hour','Absolute_Ne'])\n",
    "\n",
    "        y= gf['Latitude']\n",
    "        x = gf['hour']\n",
    "        z = gf['Absolute_Ne']\n",
    "\n",
    "        # interpolate\n",
    "        zi = griddata((x,y),z,(xi,yi),method='linear')\n",
    "        list_zi.append(zi)\n",
    "\n",
    "    except:\n",
    "        pass\n",
    "\n",
    "zi = np.nanmean(np.array(list_zi),axis=0)\n",
    "\n",
    "plt.figure(figsize=(18,3))\n",
    "CS = plt.contourf(xi, yi, zi, 25,cmap='plasma')\n",
    "# plt.pcolormesh(xi, yi, zi)\n",
    "plt.colorbar()\n",
    "plt.title('Ne 80 < F10.7 < 120')\n",
    "plt.savefig('gr_medium.png')"
   ],
   "metadata": {
    "collapsed": false,
    "pycharm": {
     "name": "#%%\n"
    }
   }
  },
  {
   "cell_type": "code",
   "execution_count": 2,
   "outputs": [
    {
     "name": "stdout",
     "output_type": "stream",
     "text": [
      "CPU times: user 5min 53s, sys: 18.3 s, total: 6min 11s\n",
      "Wall time: 7min 18s\n"
     ]
    },
    {
     "data": {
      "text/plain": "<Figure size 1296x216 with 2 Axes>",
      "image/png": "[encoded data removed]"
     },
     "metadata": {
      "needs_background": "light"
     },
     "output_type": "display_data"
    }
   ],
   "source": [
    "%%time\n",
    "f107 = pd.read_csv('../data/external/f107/Kp_ap_Ap_SN_F107_since_1932.txt', delimiter=r\"\\s+\", comment='#')\n",
    "\n",
    "f107['date_simplified'] = f107.apply(lambda x: datetime.datetime(int(x['YYYY']),int(x['MM']),int(x['DD'])), axis = 1)\n",
    "\n",
    "f107 = f107[(f107['F10.7obs']<80)]\n",
    "f107 = f107[(f107['YYYY']>2000)]\n",
    "\n",
    "f107 = f107.reset_index(drop=True)\n",
    "\n",
    "# target grid to interpolate to\n",
    "yi = np.arange(-60,60,1)\n",
    "xi = np.arange(0,24,1)\n",
    "xi,yi = np.meshgrid(xi,yi)\n",
    "\n",
    "list_zi = []\n",
    "\n",
    "for i in range(0,len(f107)):\n",
    "\n",
    "    date = f107['date_simplified'][i]\n",
    "\n",
    "    try:\n",
    "\n",
    "        gf_file = glob.glob('../data/processed/Absolute_Ne/*/GR_OPER_NE__KBR_2F_{date}*.cdf.csv'.format(\n",
    "            date=date.strftime('%Y%m%d')))\n",
    "\n",
    "        gf = pd.read_csv(gf_file[0], usecols=['Latitude','hour','Absolute_Ne'])\n",
    "\n",
    "        y= gf['Latitude']\n",
    "        x = gf['hour']\n",
    "        z = gf['Absolute_Ne']\n",
    "\n",
    "        # interpolate\n",
    "        zi = griddata((x,y),z,(xi,yi),method='linear')\n",
    "        list_zi.append(zi)\n",
    "\n",
    "    except:\n",
    "        pass\n",
    "\n",
    "zi = np.nanmean(np.array(list_zi),axis=0)\n",
    "\n",
    "plt.figure(figsize=(18,3))\n",
    "CS = plt.contourf(xi, yi, zi, 25,cmap='plasma')\n",
    "# plt.pcolormesh(xi, yi, zi)\n",
    "plt.colorbar()\n",
    "plt.title('Ne F10.7 < 80')\n",
    "plt.savefig('gr_low.png')"
   ],
   "metadata": {
    "collapsed": false,
    "pycharm": {
     "name": "#%%\n"
    }
   }
  },
  {
   "cell_type": "code",
   "execution_count": 2,
   "outputs": [
    {
     "name": "stdout",
     "output_type": "stream",
     "text": [
      "CPU times: user 8.24 s, sys: 4.92 s, total: 13.2 s\n",
      "Wall time: 13.7 s\n"
     ]
    }
   ],
   "source": [
    "%%time\n",
    "f107 = pd.read_csv('../data/external/f107/Kp_ap_Ap_SN_F107_since_1932.txt', delimiter=r\"\\s+\", comment='#')\n",
    "\n",
    "f107['date_simplified'] = f107.apply(lambda x: datetime.datetime(int(x['YYYY']),int(x['MM']),int(x['DD'])), axis = 1)\n",
    "\n",
    "f107 = f107[f107['F10.7obs']>=120]\n",
    "f107 = f107[(f107['YYYY']>2000)&(f107['YYYY']<2003)]\n",
    "\n",
    "f107 = f107.reset_index(drop=True)\n",
    "\n",
    "# # target grid to interpolate to\n",
    "# yi = np.arange(-60,60,2)\n",
    "# xi = np.arange(0,24,1)\n",
    "# xi,yi = np.meshgrid(xi,yi)\n",
    "\n",
    "gf_plot = pd.DataFrame()\n",
    "\n",
    "for i in range(0,len(f107)):\n",
    "\n",
    "    date = f107['date_simplified'][i]\n",
    "\n",
    "    try:\n",
    "\n",
    "        gf_file = glob.glob('../data/processed/Absolute_Ne/*/G*_OPER_NE__KBR_2F_{date}*.cdf.csv'.format(\n",
    "            date=date.strftime('%Y%m%d')))\n",
    "\n",
    "        gf = pd.read_csv(gf_file[0], usecols=['Latitude','mlt','Absolute_Ne'])\n",
    "\n",
    "        gf_plot = gf_plot.append(gf)\n",
    "\n",
    "    except:\n",
    "        pass\n",
    "\n",
    "yi = np.arange(-60,60,0.25)\n",
    "xi = np.arange(0,24,0.1)\n",
    "xi,yi = np.meshgrid(xi,yi)\n",
    "\n",
    "zi = griddata((gf_plot['mlt'],gf_plot['Latitude']),gf_plot['Absolute_Ne'],(xi,yi),method='linear')\n",
    "\n",
    "fig = plt.figure(figsize=(18,3))\n",
    "ax = fig.add_subplot(111)\n",
    "plt.contourf(xi,yi,zi, vmin=0.0, vmax=1.5E12, cmap='plasma')\n",
    "plt.colorbar()\n",
    "\n",
    "# plt.pcolormesh(xi, yi, zi)\n",
    "plt.colorbar()\n",
    "plt.title('Ne F10.7 > 120')\n",
    "plt.savefig('../figures/gr_high.png')"
   ],
   "metadata": {
    "collapsed": false,
    "pycharm": {
     "name": "#%%\n"
    }
   }
  },
  {
   "cell_type": "code",
   "execution_count": 33,
   "outputs": [
    {
     "data": {
      "text/plain": "(480, 240)"
     },
     "execution_count": 33,
     "metadata": {},
     "output_type": "execute_result"
    }
   ],
   "source": [
    "zi.shape"
   ],
   "metadata": {
    "collapsed": false,
    "pycharm": {
     "name": "#%%\n"
    }
   }
  },
  {
   "cell_type": "code",
   "execution_count": null,
   "outputs": [],
   "source": [],
   "metadata": {
    "collapsed": false,
    "pycharm": {
     "name": "#%%\n"
    }
   }
  }
 ],
 "metadata": {
  "kernelspec": {
   "display_name": "Python 3",
   "language": "python",
   "name": "python3"
  },
  "language_info": {
   "codemirror_mode": {
    "name": "ipython",
    "version": 2
   },
   "file_extension": ".py",
   "mimetype": "text/x-python",
   "name": "python",
   "nbconvert_exporter": "python",
   "pygments_lexer": "ipython2",
   "version": "2.7.6"
  }
 },
 "nbformat": 4,
 "nbformat_minor": 0
}